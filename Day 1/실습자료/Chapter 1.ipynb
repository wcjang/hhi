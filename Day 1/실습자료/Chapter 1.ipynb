{
 "cells": [
  {
   "cell_type": "markdown",
   "id": "2b84e261",
   "metadata": {},
   "source": [
    "# Chapter 1. Exploratory Data Analysis"
   ]
  },
  {
   "cell_type": "markdown",
   "id": "67060aa8",
   "metadata": {},
   "source": [
    "필요한 패키지들을 설치 및 불러오기 합니다."
   ]
  },
  {
   "cell_type": "code",
   "execution_count": 1,
   "id": "a1055cd2",
   "metadata": {},
   "outputs": [
    {
     "name": "stdout",
     "output_type": "stream",
     "text": [
      "Requirement already satisfied: statsmodels in /Users/hwankam/opt/anaconda3/lib/python3.8/site-packages (0.12.2)\n",
      "Requirement already satisfied: patsy>=0.5 in /Users/hwankam/opt/anaconda3/lib/python3.8/site-packages (from statsmodels) (0.5.1)\n",
      "Requirement already satisfied: pandas>=0.21 in /Users/hwankam/opt/anaconda3/lib/python3.8/site-packages (from statsmodels) (1.2.4)\n",
      "Requirement already satisfied: scipy>=1.1 in /Users/hwankam/opt/anaconda3/lib/python3.8/site-packages (from statsmodels) (1.6.2)\n",
      "Requirement already satisfied: numpy>=1.15 in /Users/hwankam/opt/anaconda3/lib/python3.8/site-packages (from statsmodels) (1.20.1)\n",
      "Requirement already satisfied: python-dateutil>=2.7.3 in /Users/hwankam/opt/anaconda3/lib/python3.8/site-packages (from pandas>=0.21->statsmodels) (2.8.1)\n",
      "Requirement already satisfied: pytz>=2017.3 in /Users/hwankam/opt/anaconda3/lib/python3.8/site-packages (from pandas>=0.21->statsmodels) (2021.1)\n",
      "Requirement already satisfied: six in /Users/hwankam/opt/anaconda3/lib/python3.8/site-packages (from patsy>=0.5->statsmodels) (1.15.0)\n",
      "Requirement already satisfied: wquantiles in /Users/hwankam/opt/anaconda3/lib/python3.8/site-packages (0.6)\n",
      "Requirement already satisfied: numpy>=1.18 in /Users/hwankam/opt/anaconda3/lib/python3.8/site-packages (from wquantiles) (1.20.1)\n"
     ]
    }
   ],
   "source": [
    "!pip install statsmodels\n",
    "!pip install wquantiles"
   ]
  },
  {
   "cell_type": "code",
   "execution_count": 2,
   "id": "72bc43f7",
   "metadata": {},
   "outputs": [],
   "source": [
    "%matplotlib inline \n",
    "\n",
    "from pathlib import Path\n",
    "import pandas as pd\n",
    "import numpy as np\n",
    "from scipy.stats import trim_mean\n",
    "from statsmodels import robust # conda install\n",
    "import wquantiles # pip install\n",
    "import seaborn as sns\n",
    "import matplotlib.pylab as plt"
   ]
  },
  {
   "cell_type": "markdown",
   "id": "bef14b8c",
   "metadata": {},
   "source": [
    "데이터를 불러오기 위한 경로를 설정합니다. 반드시 필요한 csv 파일이 경로 상에 위치해야 파일을 불러올 수 있습니다."
   ]
  },
  {
   "cell_type": "code",
   "execution_count": 3,
   "id": "d9caf39b",
   "metadata": {},
   "outputs": [
    {
     "data": {
      "text/plain": [
       "'/Users/hwankam/hhi-main/Day 1/실습자료'"
      ]
     },
     "execution_count": 3,
     "metadata": {},
     "output_type": "execute_result"
    }
   ],
   "source": [
    "import os\n",
    "os.getcwd()"
   ]
  },
  {
   "cell_type": "code",
   "execution_count": 4,
   "id": "776e6e8c",
   "metadata": {},
   "outputs": [],
   "source": [
    "DATA = os.getcwd()"
   ]
  },
  {
   "cell_type": "code",
   "execution_count": 5,
   "id": "1960f209",
   "metadata": {},
   "outputs": [],
   "source": [
    "AIRLINE_STATS_CSV = DATA + '/airline_stats.csv'\n",
    "KC_TAX_CSV = DATA +'/kc_tax.csv.gz'\n",
    "LC_LOANS_CSV = DATA + '/lc_loans.csv'\n",
    "AIRPORT_DELAYS_CSV = DATA + '/dfw_airline.csv'\n",
    "SP500_DATA_CSV = DATA + '/sp500_data.csv.gz'\n",
    "SP500_SECTORS_CSV = DATA + '/sp500_sectors.csv'\n",
    "STATE_CSV = DATA + '/state.csv'"
   ]
  },
  {
   "cell_type": "markdown",
   "id": "aef61b0a",
   "metadata": {},
   "source": [
    "## Estimates of Location(위치)\n",
    "### Example: Location Estimates of Population and Murder Rates"
   ]
  },
  {
   "cell_type": "code",
   "execution_count": 6,
   "id": "c29ea759",
   "metadata": {},
   "outputs": [
    {
     "name": "stdout",
     "output_type": "stream",
     "text": [
      "         State  Population  Murder.Rate Abbreviation\n",
      "0      Alabama     4779736          5.7           AL\n",
      "1       Alaska      710231          5.6           AK\n",
      "2      Arizona     6392017          4.7           AZ\n",
      "3     Arkansas     2915918          5.6           AR\n",
      "4   California    37253956          4.4           CA\n",
      "5     Colorado     5029196          2.8           CO\n",
      "6  Connecticut     3574097          2.4           CT\n",
      "7     Delaware      897934          5.8           DE\n"
     ]
    }
   ],
   "source": [
    "state = pd.read_csv(STATE_CSV)\n",
    "print(state.head(8))"
   ]
  },
  {
   "cell_type": "markdown",
   "id": "6b809626",
   "metadata": {},
   "source": [
    "평균, 중위값, 절사평균(trimmed mean)을 구해보자"
   ]
  },
  {
   "cell_type": "code",
   "execution_count": 7,
   "id": "fdebfd63",
   "metadata": {
    "scrolled": true
   },
   "outputs": [
    {
     "name": "stdout",
     "output_type": "stream",
     "text": [
      "6162876.3\n",
      "4436369.5\n",
      "4783697.125\n"
     ]
    }
   ],
   "source": [
    "print(state['Population'].mean())\n",
    "print(state['Population'].median())\n",
    "print(trim_mean(state['Population'], 0.1)) # 절삭평균은 scipy.stats 패키지 안에 있으며 양쪽에 절삭되는 비율이 안에 들어간다.\n"
   ]
  },
  {
   "cell_type": "markdown",
   "id": "1994bd2e",
   "metadata": {},
   "source": [
    "가중평균, 가중중위수를 구해보자"
   ]
  },
  {
   "cell_type": "code",
   "execution_count": 8,
   "id": "d7e14537",
   "metadata": {},
   "outputs": [
    {
     "name": "stdout",
     "output_type": "stream",
     "text": [
      "4.066\n",
      "4.445833981123393\n",
      "4.4\n"
     ]
    }
   ],
   "source": [
    "print(state['Murder.Rate'].mean())\n",
    "print(np.average(state['Murder.Rate'], weights=state['Population']))\n",
    "print(wquantiles.median(state['Murder.Rate'], weights=state['Population']))"
   ]
  },
  {
   "cell_type": "markdown",
   "id": "72a1b603",
   "metadata": {},
   "source": [
    "## Estimates of Variability(산포)"
   ]
  },
  {
   "cell_type": "markdown",
   "id": "003f727e",
   "metadata": {},
   "source": [
    "표준편차, 3사분위수와 1사분위수의 차이, MAD(Median Absoulte Deivation)"
   ]
  },
  {
   "cell_type": "code",
   "execution_count": 9,
   "id": "350ac6ef",
   "metadata": {},
   "outputs": [
    {
     "name": "stdout",
     "output_type": "stream",
     "text": [
      "6848235.347401142\n",
      "4847308.0\n",
      "\n",
      "2596702.0\n",
      "2596702.0\n"
     ]
    }
   ],
   "source": [
    "print(state['Population'].std())\n",
    "print(state['Population'].quantile(0.75) - state['Population'].quantile(0.25))\n",
    "print(\"\")\n",
    "print(robust.scale.mad(state['Population'])*0.6744897501960817)\n",
    "print(abs(state['Population'] - state['Population'].median()).median() )"
   ]
  },
  {
   "cell_type": "code",
   "execution_count": 10,
   "id": "084faef3",
   "metadata": {},
   "outputs": [
    {
     "name": "stdout",
     "output_type": "stream",
     "text": [
      "0.25    2.75\n",
      "0.75    6.25\n",
      "dtype: float64\n"
     ]
    },
    {
     "data": {
      "text/plain": [
       "count    8.000000\n",
       "mean     4.500000\n",
       "std      2.725541\n",
       "min      1.000000\n",
       "25%      2.750000\n",
       "50%      4.000000\n",
       "75%      6.250000\n",
       "max      9.000000\n",
       "dtype: float64"
      ]
     },
     "execution_count": 10,
     "metadata": {},
     "output_type": "execute_result"
    }
   ],
   "source": [
    "# 수업 예제\n",
    "\n",
    "Data = pd.Series([3,1,5,3,6,7,2,9])\n",
    "print(Data.quantile([0.25, 0.75]))\n",
    "\n",
    "Data.describe()"
   ]
  },
  {
   "cell_type": "markdown",
   "id": "3c6eef9b",
   "metadata": {},
   "source": [
    "## 데이터 분포 탐색하기 1\n",
    "## Percentiles and Boxplots"
   ]
  },
  {
   "cell_type": "code",
   "execution_count": 11,
   "id": "283f4451",
   "metadata": {},
   "outputs": [
    {
     "name": "stdout",
     "output_type": "stream",
     "text": [
      "0.05    1.600\n",
      "0.25    2.425\n",
      "0.50    4.000\n",
      "0.75    5.550\n",
      "0.95    6.510\n",
      "Name: Murder.Rate, dtype: float64\n"
     ]
    }
   ],
   "source": [
    "print(state['Murder.Rate'].quantile([0.05, 0.25, 0.5, 0.75, 0.95]))"
   ]
  },
  {
   "cell_type": "code",
   "execution_count": 12,
   "id": "435b1a4e",
   "metadata": {},
   "outputs": [
    {
     "data": {
      "image/png": "[encoded data removed]",
      "text/plain": [
       "<Figure size 216x288 with 1 Axes>"
      ]
     },
     "metadata": {
      "needs_background": "light"
     },
     "output_type": "display_data"
    }
   ],
   "source": [
    "ax = (state['Population']/1_000_000).plot.box(figsize=(3, 4))\n",
    "ax.set_ylabel('Population (millions)')\n",
    "\n",
    "plt.tight_layout()\n",
    "plt.show()"
   ]
  },
  {
   "cell_type": "markdown",
   "id": "4bf8b1e9",
   "metadata": {},
   "source": [
    "## 데이터 분포 탐색하기 2\n",
    "## Frequency Table and Histograms"
   ]
  },
  {
   "cell_type": "code",
   "execution_count": 13,
   "id": "e5a97306",
   "metadata": {},
   "outputs": [
    {
     "name": "stdout",
     "output_type": "stream",
     "text": [
      "(526935.67, 4232659.0]      24\n",
      "(4232659.0, 7901692.0]      14\n",
      "(7901692.0, 11570725.0]      6\n",
      "(11570725.0, 15239758.0]     2\n",
      "(15239758.0, 18908791.0]     1\n",
      "(18908791.0, 22577824.0]     1\n",
      "(22577824.0, 26246857.0]     1\n",
      "(33584923.0, 37253956.0]     1\n",
      "(26246857.0, 29915890.0]     0\n",
      "(29915890.0, 33584923.0]     0\n",
      "Name: Population, dtype: int64\n"
     ]
    }
   ],
   "source": [
    "binnedPopulation = pd.cut(state['Population'], 10)\n",
    "print(binnedPopulation.value_counts())"
   ]
  },
  {
   "cell_type": "code",
   "execution_count": 14,
   "id": "eba96afe",
   "metadata": {
    "scrolled": false
   },
   "outputs": [
    {
     "data": {
      "image/png": "[encoded data removed]",
      "text/plain": [
       "<Figure size 288x288 with 1 Axes>"
      ]
     },
     "metadata": {
      "needs_background": "light"
     },
     "output_type": "display_data"
    }
   ],
   "source": [
    "ax = (state['Population'] / 1_000_000).plot.hist(figsize=(4, 4))\n",
    "ax.set_xlabel('Population (millions)')\n",
    "\n",
    "plt.tight_layout()\n",
    "plt.show()"
   ]
  },
  {
   "cell_type": "markdown",
   "id": "866b69fa",
   "metadata": {},
   "source": [
    "'density=True' 명령을 통해 빈도가 아닌 밀도를 표현할 수 있다. "
   ]
  },
  {
   "cell_type": "code",
   "execution_count": 15,
   "id": "e86d3c04",
   "metadata": {
    "scrolled": true
   },
   "outputs": [
    {
     "data": {
      "image/png": "[encoded data removed]",
      "text/plain": [
       "<Figure size 288x288 with 1 Axes>"
      ]
     },
     "metadata": {
      "needs_background": "light"
     },
     "output_type": "display_data"
    }
   ],
   "source": [
    "ax = (state['Population'] / 1_000_000).plot.hist(density=True,  figsize=(4, 4))\n",
    "(state['Population'] / 1_000_000).plot.density(ax=ax)\n",
    "ax.set_xlabel('Population (millions)')\n",
    "ax.set_ylabel('Density')\n",
    "plt.tight_layout()\n",
    "plt.show()"
   ]
  },
  {
   "cell_type": "code",
   "execution_count": 16,
   "id": "a8c1c885",
   "metadata": {
    "scrolled": true
   },
   "outputs": [
    {
     "data": {
      "text/plain": [
       "<matplotlib.axes._subplots.AxesSubplot at 0x7f871001ed10>"
      ]
     },
     "execution_count": 16,
     "metadata": {},
     "output_type": "execute_result"
    },
    {
     "data": {
      "image/png": "[encoded data removed]",
      "text/plain": [
       "<Figure size 432x288 with 1 Axes>"
      ]
     },
     "metadata": {
      "needs_background": "light"
     },
     "output_type": "display_data"
    }
   ],
   "source": [
    "state['Population'].hist(bins=30)"
   ]
  },
  {
   "cell_type": "markdown",
   "id": "49c89ab9",
   "metadata": {},
   "source": [
    "## Binary and Categorical Data"
   ]
  },
  {
   "cell_type": "code",
   "execution_count": 17,
   "id": "9796b14b",
   "metadata": {
    "scrolled": true
   },
   "outputs": [
    {
     "data": {
      "text/html": [
       "<div>\n",
       "<style scoped>\n",
       "    .dataframe tbody tr th:only-of-type {\n",
       "        vertical-align: middle;\n",
       "    }\n",
       "\n",
       "    .dataframe tbody tr th {\n",
       "        vertical-align: top;\n",
       "    }\n",
       "\n",
       "    .dataframe thead th {\n",
       "        text-align: right;\n",
       "    }\n",
       "</style>\n",
       "<table border=\"1\" class=\"dataframe\">\n",
       "  <thead>\n",
       "    <tr style=\"text-align: right;\">\n",
       "      <th></th>\n",
       "      <th>Carrier</th>\n",
       "      <th>ATC</th>\n",
       "      <th>Weather</th>\n",
       "      <th>Security</th>\n",
       "      <th>Inbound</th>\n",
       "    </tr>\n",
       "  </thead>\n",
       "  <tbody>\n",
       "    <tr>\n",
       "      <th>0</th>\n",
       "      <td>64263.16</td>\n",
       "      <td>84856.5</td>\n",
       "      <td>11235.42</td>\n",
       "      <td>343.15</td>\n",
       "      <td>118427.82</td>\n",
       "    </tr>\n",
       "  </tbody>\n",
       "</table>\n",
       "</div>"
      ],
      "text/plain": [
       "    Carrier      ATC   Weather  Security    Inbound\n",
       "0  64263.16  84856.5  11235.42    343.15  118427.82"
      ]
     },
     "execution_count": 17,
     "metadata": {},
     "output_type": "execute_result"
    }
   ],
   "source": [
    "dfw = pd.read_csv(AIRPORT_DELAYS_CSV)\n",
    "dfw"
   ]
  },
  {
   "cell_type": "markdown",
   "id": "0f4c0a18",
   "metadata": {},
   "source": [
    "비율로 나타내기"
   ]
  },
  {
   "cell_type": "code",
   "execution_count": 18,
   "id": "774a6516",
   "metadata": {
    "scrolled": true
   },
   "outputs": [
    {
     "name": "stdout",
     "output_type": "stream",
     "text": [
      "     Carrier        ATC   Weather  Security    Inbound\n",
      "0  23.022989  30.400781  4.025214  0.122937  42.428079\n"
     ]
    }
   ],
   "source": [
    "print(100 * dfw / dfw.values.sum())"
   ]
  },
  {
   "cell_type": "markdown",
   "id": "106a321e",
   "metadata": {},
   "source": [
    "Bar plot으로 나타내기"
   ]
  },
  {
   "cell_type": "code",
   "execution_count": 19,
   "id": "31ec4afd",
   "metadata": {
    "scrolled": true
   },
   "outputs": [
    {
     "data": {
      "image/png": "[encoded data removed]",
      "text/plain": [
       "<Figure size 288x288 with 1 Axes>"
      ]
     },
     "metadata": {
      "needs_background": "light"
     },
     "output_type": "display_data"
    }
   ],
   "source": [
    "ax = dfw.transpose().plot.bar(figsize=(4, 4), legend=False)\n",
    "ax.set_xlabel('Cause of delay')\n",
    "ax.set_ylabel('Count')\n",
    "\n",
    "plt.tight_layout()\n",
    "plt.show()"
   ]
  },
  {
   "cell_type": "markdown",
   "id": "2344f74f",
   "metadata": {},
   "source": [
    "## Correlation"
   ]
  },
  {
   "cell_type": "markdown",
   "id": "55d6b110",
   "metadata": {},
   "source": [
    "변수간의 관계를 살펴보자"
   ]
  },
  {
   "cell_type": "code",
   "execution_count": 20,
   "id": "b0347056",
   "metadata": {},
   "outputs": [],
   "source": [
    "sp500_sym = pd.read_csv(SP500_SECTORS_CSV)\n",
    "sp500_px = pd.read_csv(SP500_DATA_CSV, index_col=0)"
   ]
  },
  {
   "cell_type": "code",
   "execution_count": 21,
   "id": "006c5bf2",
   "metadata": {},
   "outputs": [
    {
     "data": {
      "text/html": [
       "<div>\n",
       "<style scoped>\n",
       "    .dataframe tbody tr th:only-of-type {\n",
       "        vertical-align: middle;\n",
       "    }\n",
       "\n",
       "    .dataframe tbody tr th {\n",
       "        vertical-align: top;\n",
       "    }\n",
       "\n",
       "    .dataframe thead th {\n",
       "        text-align: right;\n",
       "    }\n",
       "</style>\n",
       "<table border=\"1\" class=\"dataframe\">\n",
       "  <thead>\n",
       "    <tr style=\"text-align: right;\">\n",
       "      <th></th>\n",
       "      <th>sector</th>\n",
       "      <th>sector_label</th>\n",
       "      <th>sub_sector</th>\n",
       "      <th>symbol</th>\n",
       "    </tr>\n",
       "  </thead>\n",
       "  <tbody>\n",
       "    <tr>\n",
       "      <th>0</th>\n",
       "      <td>information_technology</td>\n",
       "      <td>Technology</td>\n",
       "      <td>data_processing_&amp;_outsourced_services</td>\n",
       "      <td>ADS</td>\n",
       "    </tr>\n",
       "    <tr>\n",
       "      <th>1</th>\n",
       "      <td>information_technology</td>\n",
       "      <td>Technology</td>\n",
       "      <td>systems_software</td>\n",
       "      <td>CA</td>\n",
       "    </tr>\n",
       "    <tr>\n",
       "      <th>2</th>\n",
       "      <td>information_technology</td>\n",
       "      <td>Technology</td>\n",
       "      <td>systems_software</td>\n",
       "      <td>MSFT</td>\n",
       "    </tr>\n",
       "    <tr>\n",
       "      <th>3</th>\n",
       "      <td>information_technology</td>\n",
       "      <td>Technology</td>\n",
       "      <td>systems_software</td>\n",
       "      <td>RHT</td>\n",
       "    </tr>\n",
       "    <tr>\n",
       "      <th>4</th>\n",
       "      <td>information_technology</td>\n",
       "      <td>Technology</td>\n",
       "      <td>it_consulting_&amp;_services</td>\n",
       "      <td>CTSH</td>\n",
       "    </tr>\n",
       "    <tr>\n",
       "      <th>...</th>\n",
       "      <td>...</td>\n",
       "      <td>...</td>\n",
       "      <td>...</td>\n",
       "      <td>...</td>\n",
       "    </tr>\n",
       "    <tr>\n",
       "      <th>512</th>\n",
       "      <td>health_care</td>\n",
       "      <td>Health Care</td>\n",
       "      <td>biotechnology</td>\n",
       "      <td>CELG</td>\n",
       "    </tr>\n",
       "    <tr>\n",
       "      <th>513</th>\n",
       "      <td>health_care</td>\n",
       "      <td>Health Care</td>\n",
       "      <td>biotechnology</td>\n",
       "      <td>GILD</td>\n",
       "    </tr>\n",
       "    <tr>\n",
       "      <th>514</th>\n",
       "      <td>health_care</td>\n",
       "      <td>Health Care</td>\n",
       "      <td>biotechnology</td>\n",
       "      <td>REGN</td>\n",
       "    </tr>\n",
       "    <tr>\n",
       "      <th>515</th>\n",
       "      <td>health_care</td>\n",
       "      <td>Health Care</td>\n",
       "      <td>biotechnology</td>\n",
       "      <td>VRTX</td>\n",
       "    </tr>\n",
       "    <tr>\n",
       "      <th>516</th>\n",
       "      <td>health_care</td>\n",
       "      <td>Health Care</td>\n",
       "      <td>health_care_distributors</td>\n",
       "      <td>HSIC</td>\n",
       "    </tr>\n",
       "  </tbody>\n",
       "</table>\n",
       "<p>517 rows × 4 columns</p>\n",
       "</div>"
      ],
      "text/plain": [
       "                     sector sector_label  \\\n",
       "0    information_technology   Technology   \n",
       "1    information_technology   Technology   \n",
       "2    information_technology   Technology   \n",
       "3    information_technology   Technology   \n",
       "4    information_technology   Technology   \n",
       "..                      ...          ...   \n",
       "512             health_care  Health Care   \n",
       "513             health_care  Health Care   \n",
       "514             health_care  Health Care   \n",
       "515             health_care  Health Care   \n",
       "516             health_care  Health Care   \n",
       "\n",
       "                                sub_sector symbol  \n",
       "0    data_processing_&_outsourced_services    ADS  \n",
       "1                         systems_software     CA  \n",
       "2                         systems_software   MSFT  \n",
       "3                         systems_software    RHT  \n",
       "4                 it_consulting_&_services   CTSH  \n",
       "..                                     ...    ...  \n",
       "512                          biotechnology   CELG  \n",
       "513                          biotechnology   GILD  \n",
       "514                          biotechnology   REGN  \n",
       "515                          biotechnology   VRTX  \n",
       "516               health_care_distributors   HSIC  \n",
       "\n",
       "[517 rows x 4 columns]"
      ]
     },
     "execution_count": 21,
     "metadata": {},
     "output_type": "execute_result"
    }
   ],
   "source": [
    "sp500_sym"
   ]
  },
  {
   "cell_type": "code",
   "execution_count": 22,
   "id": "428e30fc",
   "metadata": {},
   "outputs": [],
   "source": [
    "telecomSymbols = sp500_sym[sp500_sym['sector'] == 'telecommunications_services']['symbol']"
   ]
  },
  {
   "cell_type": "code",
   "execution_count": 23,
   "id": "acac5195",
   "metadata": {
    "scrolled": false
   },
   "outputs": [
    {
     "data": {
      "text/plain": [
       "332       T\n",
       "333     CTL\n",
       "334     FTR\n",
       "335      VZ\n",
       "336    LVLT\n",
       "Name: symbol, dtype: object"
      ]
     },
     "execution_count": 23,
     "metadata": {},
     "output_type": "execute_result"
    }
   ],
   "source": [
    "telecomSymbols # Series"
   ]
  },
  {
   "cell_type": "code",
   "execution_count": 24,
   "id": "041a5509",
   "metadata": {
    "scrolled": true
   },
   "outputs": [
    {
     "data": {
      "text/html": [
       "<div>\n",
       "<style scoped>\n",
       "    .dataframe tbody tr th:only-of-type {\n",
       "        vertical-align: middle;\n",
       "    }\n",
       "\n",
       "    .dataframe tbody tr th {\n",
       "        vertical-align: top;\n",
       "    }\n",
       "\n",
       "    .dataframe thead th {\n",
       "        text-align: right;\n",
       "    }\n",
       "</style>\n",
       "<table border=\"1\" class=\"dataframe\">\n",
       "  <thead>\n",
       "    <tr style=\"text-align: right;\">\n",
       "      <th></th>\n",
       "      <th>ADS</th>\n",
       "      <th>CA</th>\n",
       "      <th>MSFT</th>\n",
       "      <th>RHT</th>\n",
       "      <th>CTSH</th>\n",
       "      <th>CSC</th>\n",
       "      <th>EMC</th>\n",
       "      <th>IBM</th>\n",
       "      <th>XRX</th>\n",
       "      <th>ALTR</th>\n",
       "      <th>...</th>\n",
       "      <th>WAT</th>\n",
       "      <th>ALXN</th>\n",
       "      <th>AMGN</th>\n",
       "      <th>BXLT</th>\n",
       "      <th>BIIB</th>\n",
       "      <th>CELG</th>\n",
       "      <th>GILD</th>\n",
       "      <th>REGN</th>\n",
       "      <th>VRTX</th>\n",
       "      <th>HSIC</th>\n",
       "    </tr>\n",
       "  </thead>\n",
       "  <tbody>\n",
       "    <tr>\n",
       "      <th>1993-01-29</th>\n",
       "      <td>0.0</td>\n",
       "      <td>0.060124</td>\n",
       "      <td>-0.022100</td>\n",
       "      <td>0.0</td>\n",
       "      <td>0.0</td>\n",
       "      <td>0.018897</td>\n",
       "      <td>0.007368</td>\n",
       "      <td>0.092165</td>\n",
       "      <td>0.259140</td>\n",
       "      <td>-0.007105</td>\n",
       "      <td>...</td>\n",
       "      <td>0.0</td>\n",
       "      <td>0.0</td>\n",
       "      <td>0.34716</td>\n",
       "      <td>0.0</td>\n",
       "      <td>0.04167</td>\n",
       "      <td>0.00000</td>\n",
       "      <td>0.015564</td>\n",
       "      <td>1.75</td>\n",
       "      <td>0.1250</td>\n",
       "      <td>0.0</td>\n",
       "    </tr>\n",
       "    <tr>\n",
       "      <th>1993-02-01</th>\n",
       "      <td>0.0</td>\n",
       "      <td>-0.180389</td>\n",
       "      <td>0.027621</td>\n",
       "      <td>0.0</td>\n",
       "      <td>0.0</td>\n",
       "      <td>0.018889</td>\n",
       "      <td>0.018425</td>\n",
       "      <td>0.115207</td>\n",
       "      <td>-0.100775</td>\n",
       "      <td>0.063893</td>\n",
       "      <td>...</td>\n",
       "      <td>0.0</td>\n",
       "      <td>0.0</td>\n",
       "      <td>-0.23144</td>\n",
       "      <td>0.0</td>\n",
       "      <td>0.00000</td>\n",
       "      <td>-0.01041</td>\n",
       "      <td>0.007782</td>\n",
       "      <td>1.25</td>\n",
       "      <td>0.1250</td>\n",
       "      <td>0.0</td>\n",
       "    </tr>\n",
       "    <tr>\n",
       "      <th>1993-02-02</th>\n",
       "      <td>0.0</td>\n",
       "      <td>-0.120257</td>\n",
       "      <td>0.035900</td>\n",
       "      <td>0.0</td>\n",
       "      <td>0.0</td>\n",
       "      <td>-0.075573</td>\n",
       "      <td>0.029482</td>\n",
       "      <td>-0.023041</td>\n",
       "      <td>0.028796</td>\n",
       "      <td>-0.014192</td>\n",
       "      <td>...</td>\n",
       "      <td>0.0</td>\n",
       "      <td>0.0</td>\n",
       "      <td>-0.11572</td>\n",
       "      <td>0.0</td>\n",
       "      <td>0.00000</td>\n",
       "      <td>0.00000</td>\n",
       "      <td>-0.007792</td>\n",
       "      <td>-0.25</td>\n",
       "      <td>0.0000</td>\n",
       "      <td>0.0</td>\n",
       "    </tr>\n",
       "    <tr>\n",
       "      <th>1993-02-03</th>\n",
       "      <td>0.0</td>\n",
       "      <td>0.060124</td>\n",
       "      <td>-0.024857</td>\n",
       "      <td>0.0</td>\n",
       "      <td>0.0</td>\n",
       "      <td>-0.151128</td>\n",
       "      <td>0.003689</td>\n",
       "      <td>-0.253454</td>\n",
       "      <td>-0.043190</td>\n",
       "      <td>-0.007105</td>\n",
       "      <td>...</td>\n",
       "      <td>0.0</td>\n",
       "      <td>0.0</td>\n",
       "      <td>-0.08679</td>\n",
       "      <td>0.0</td>\n",
       "      <td>0.04167</td>\n",
       "      <td>-0.04167</td>\n",
       "      <td>-0.038919</td>\n",
       "      <td>-0.50</td>\n",
       "      <td>0.0625</td>\n",
       "      <td>0.0</td>\n",
       "    </tr>\n",
       "    <tr>\n",
       "      <th>1993-02-04</th>\n",
       "      <td>0.0</td>\n",
       "      <td>-0.360770</td>\n",
       "      <td>-0.060757</td>\n",
       "      <td>0.0</td>\n",
       "      <td>0.0</td>\n",
       "      <td>0.113350</td>\n",
       "      <td>-0.022114</td>\n",
       "      <td>0.069862</td>\n",
       "      <td>0.000000</td>\n",
       "      <td>-0.007096</td>\n",
       "      <td>...</td>\n",
       "      <td>0.0</td>\n",
       "      <td>0.0</td>\n",
       "      <td>0.14465</td>\n",
       "      <td>0.0</td>\n",
       "      <td>-0.04166</td>\n",
       "      <td>-0.03126</td>\n",
       "      <td>-0.046711</td>\n",
       "      <td>0.00</td>\n",
       "      <td>0.0625</td>\n",
       "      <td>0.0</td>\n",
       "    </tr>\n",
       "  </tbody>\n",
       "</table>\n",
       "<p>5 rows × 517 columns</p>\n",
       "</div>"
      ],
      "text/plain": [
       "            ADS        CA      MSFT  RHT  CTSH       CSC       EMC       IBM  \\\n",
       "1993-01-29  0.0  0.060124 -0.022100  0.0   0.0  0.018897  0.007368  0.092165   \n",
       "1993-02-01  0.0 -0.180389  0.027621  0.0   0.0  0.018889  0.018425  0.115207   \n",
       "1993-02-02  0.0 -0.120257  0.035900  0.0   0.0 -0.075573  0.029482 -0.023041   \n",
       "1993-02-03  0.0  0.060124 -0.024857  0.0   0.0 -0.151128  0.003689 -0.253454   \n",
       "1993-02-04  0.0 -0.360770 -0.060757  0.0   0.0  0.113350 -0.022114  0.069862   \n",
       "\n",
       "                 XRX      ALTR  ...  WAT  ALXN     AMGN  BXLT     BIIB  \\\n",
       "1993-01-29  0.259140 -0.007105  ...  0.0   0.0  0.34716   0.0  0.04167   \n",
       "1993-02-01 -0.100775  0.063893  ...  0.0   0.0 -0.23144   0.0  0.00000   \n",
       "1993-02-02  0.028796 -0.014192  ...  0.0   0.0 -0.11572   0.0  0.00000   \n",
       "1993-02-03 -0.043190 -0.007105  ...  0.0   0.0 -0.08679   0.0  0.04167   \n",
       "1993-02-04  0.000000 -0.007096  ...  0.0   0.0  0.14465   0.0 -0.04166   \n",
       "\n",
       "               CELG      GILD  REGN    VRTX  HSIC  \n",
       "1993-01-29  0.00000  0.015564  1.75  0.1250   0.0  \n",
       "1993-02-01 -0.01041  0.007782  1.25  0.1250   0.0  \n",
       "1993-02-02  0.00000 -0.007792 -0.25  0.0000   0.0  \n",
       "1993-02-03 -0.04167 -0.038919 -0.50  0.0625   0.0  \n",
       "1993-02-04 -0.03126 -0.046711  0.00  0.0625   0.0  \n",
       "\n",
       "[5 rows x 517 columns]"
      ]
     },
     "execution_count": 24,
     "metadata": {},
     "output_type": "execute_result"
    }
   ],
   "source": [
    "sp500_px.head(5)"
   ]
  },
  {
   "cell_type": "code",
   "execution_count": 25,
   "id": "be9ac3d4",
   "metadata": {},
   "outputs": [
    {
     "data": {
      "text/html": [
       "<div>\n",
       "<style scoped>\n",
       "    .dataframe tbody tr th:only-of-type {\n",
       "        vertical-align: middle;\n",
       "    }\n",
       "\n",
       "    .dataframe tbody tr th {\n",
       "        vertical-align: top;\n",
       "    }\n",
       "\n",
       "    .dataframe thead th {\n",
       "        text-align: right;\n",
       "    }\n",
       "</style>\n",
       "<table border=\"1\" class=\"dataframe\">\n",
       "  <thead>\n",
       "    <tr style=\"text-align: right;\">\n",
       "      <th></th>\n",
       "      <th>ADS</th>\n",
       "      <th>CA</th>\n",
       "      <th>MSFT</th>\n",
       "      <th>RHT</th>\n",
       "      <th>CTSH</th>\n",
       "      <th>CSC</th>\n",
       "      <th>EMC</th>\n",
       "      <th>IBM</th>\n",
       "      <th>XRX</th>\n",
       "      <th>ALTR</th>\n",
       "      <th>...</th>\n",
       "      <th>WAT</th>\n",
       "      <th>ALXN</th>\n",
       "      <th>AMGN</th>\n",
       "      <th>BXLT</th>\n",
       "      <th>BIIB</th>\n",
       "      <th>CELG</th>\n",
       "      <th>GILD</th>\n",
       "      <th>REGN</th>\n",
       "      <th>VRTX</th>\n",
       "      <th>HSIC</th>\n",
       "    </tr>\n",
       "  </thead>\n",
       "  <tbody>\n",
       "    <tr>\n",
       "      <th>2012-07-02</th>\n",
       "      <td>1.190002</td>\n",
       "      <td>-0.224999</td>\n",
       "      <td>-0.055103</td>\n",
       "      <td>-0.560002</td>\n",
       "      <td>-0.455000</td>\n",
       "      <td>-0.104774</td>\n",
       "      <td>-0.279545</td>\n",
       "      <td>-0.495967</td>\n",
       "      <td>-0.018692</td>\n",
       "      <td>-0.152205</td>\n",
       "      <td>...</td>\n",
       "      <td>-0.970001</td>\n",
       "      <td>3.830002</td>\n",
       "      <td>1.257135</td>\n",
       "      <td>0.0</td>\n",
       "      <td>2.110001</td>\n",
       "      <td>0.105000</td>\n",
       "      <td>0.219207</td>\n",
       "      <td>5.610000</td>\n",
       "      <td>-0.539997</td>\n",
       "      <td>-0.189994</td>\n",
       "    </tr>\n",
       "    <tr>\n",
       "      <th>2012-07-03</th>\n",
       "      <td>0.440002</td>\n",
       "      <td>0.125998</td>\n",
       "      <td>0.486724</td>\n",
       "      <td>0.849998</td>\n",
       "      <td>0.165001</td>\n",
       "      <td>0.219071</td>\n",
       "      <td>0.308464</td>\n",
       "      <td>0.439807</td>\n",
       "      <td>0.093461</td>\n",
       "      <td>0.409055</td>\n",
       "      <td>...</td>\n",
       "      <td>1.090004</td>\n",
       "      <td>-0.510002</td>\n",
       "      <td>1.058641</td>\n",
       "      <td>0.0</td>\n",
       "      <td>0.100006</td>\n",
       "      <td>0.440002</td>\n",
       "      <td>0.274009</td>\n",
       "      <td>1.300003</td>\n",
       "      <td>-0.170002</td>\n",
       "      <td>0.519997</td>\n",
       "    </tr>\n",
       "    <tr>\n",
       "      <th>2012-07-05</th>\n",
       "      <td>-0.369995</td>\n",
       "      <td>-0.116998</td>\n",
       "      <td>0.101019</td>\n",
       "      <td>0.459999</td>\n",
       "      <td>0.395001</td>\n",
       "      <td>-0.038100</td>\n",
       "      <td>-0.269906</td>\n",
       "      <td>0.383662</td>\n",
       "      <td>0.186922</td>\n",
       "      <td>-0.475645</td>\n",
       "      <td>...</td>\n",
       "      <td>0.690003</td>\n",
       "      <td>-0.489998</td>\n",
       "      <td>0.255211</td>\n",
       "      <td>0.0</td>\n",
       "      <td>-0.600006</td>\n",
       "      <td>-0.175003</td>\n",
       "      <td>-0.283971</td>\n",
       "      <td>-0.630005</td>\n",
       "      <td>0.000000</td>\n",
       "      <td>0.369995</td>\n",
       "    </tr>\n",
       "    <tr>\n",
       "      <th>2012-07-06</th>\n",
       "      <td>0.319992</td>\n",
       "      <td>-0.476996</td>\n",
       "      <td>-0.385706</td>\n",
       "      <td>-2.159999</td>\n",
       "      <td>-0.920000</td>\n",
       "      <td>-0.523868</td>\n",
       "      <td>-0.279546</td>\n",
       "      <td>-2.348823</td>\n",
       "      <td>0.074769</td>\n",
       "      <td>-0.742004</td>\n",
       "      <td>...</td>\n",
       "      <td>-1.330001</td>\n",
       "      <td>-1.980003</td>\n",
       "      <td>-0.396989</td>\n",
       "      <td>0.0</td>\n",
       "      <td>-1.569992</td>\n",
       "      <td>-0.170002</td>\n",
       "      <td>-0.254081</td>\n",
       "      <td>-0.659996</td>\n",
       "      <td>-0.869999</td>\n",
       "      <td>-0.970002</td>\n",
       "    </tr>\n",
       "    <tr>\n",
       "      <th>2012-07-09</th>\n",
       "      <td>-0.070007</td>\n",
       "      <td>-0.152999</td>\n",
       "      <td>-0.110203</td>\n",
       "      <td>-1.880001</td>\n",
       "      <td>-0.139999</td>\n",
       "      <td>-0.114299</td>\n",
       "      <td>-0.279544</td>\n",
       "      <td>-1.020006</td>\n",
       "      <td>-0.084115</td>\n",
       "      <td>-0.494672</td>\n",
       "      <td>...</td>\n",
       "      <td>-1.029999</td>\n",
       "      <td>-0.599999</td>\n",
       "      <td>0.680554</td>\n",
       "      <td>0.0</td>\n",
       "      <td>0.220002</td>\n",
       "      <td>0.069999</td>\n",
       "      <td>0.194296</td>\n",
       "      <td>-2.349998</td>\n",
       "      <td>-1.310002</td>\n",
       "      <td>-0.350006</td>\n",
       "    </tr>\n",
       "  </tbody>\n",
       "</table>\n",
       "<p>5 rows × 517 columns</p>\n",
       "</div>"
      ],
      "text/plain": [
       "                 ADS        CA      MSFT       RHT      CTSH       CSC  \\\n",
       "2012-07-02  1.190002 -0.224999 -0.055103 -0.560002 -0.455000 -0.104774   \n",
       "2012-07-03  0.440002  0.125998  0.486724  0.849998  0.165001  0.219071   \n",
       "2012-07-05 -0.369995 -0.116998  0.101019  0.459999  0.395001 -0.038100   \n",
       "2012-07-06  0.319992 -0.476996 -0.385706 -2.159999 -0.920000 -0.523868   \n",
       "2012-07-09 -0.070007 -0.152999 -0.110203 -1.880001 -0.139999 -0.114299   \n",
       "\n",
       "                 EMC       IBM       XRX      ALTR  ...       WAT      ALXN  \\\n",
       "2012-07-02 -0.279545 -0.495967 -0.018692 -0.152205  ... -0.970001  3.830002   \n",
       "2012-07-03  0.308464  0.439807  0.093461  0.409055  ...  1.090004 -0.510002   \n",
       "2012-07-05 -0.269906  0.383662  0.186922 -0.475645  ...  0.690003 -0.489998   \n",
       "2012-07-06 -0.279546 -2.348823  0.074769 -0.742004  ... -1.330001 -1.980003   \n",
       "2012-07-09 -0.279544 -1.020006 -0.084115 -0.494672  ... -1.029999 -0.599999   \n",
       "\n",
       "                AMGN  BXLT      BIIB      CELG      GILD      REGN      VRTX  \\\n",
       "2012-07-02  1.257135   0.0  2.110001  0.105000  0.219207  5.610000 -0.539997   \n",
       "2012-07-03  1.058641   0.0  0.100006  0.440002  0.274009  1.300003 -0.170002   \n",
       "2012-07-05  0.255211   0.0 -0.600006 -0.175003 -0.283971 -0.630005  0.000000   \n",
       "2012-07-06 -0.396989   0.0 -1.569992 -0.170002 -0.254081 -0.659996 -0.869999   \n",
       "2012-07-09  0.680554   0.0  0.220002  0.069999  0.194296 -2.349998 -1.310002   \n",
       "\n",
       "                HSIC  \n",
       "2012-07-02 -0.189994  \n",
       "2012-07-03  0.519997  \n",
       "2012-07-05  0.369995  \n",
       "2012-07-06 -0.970002  \n",
       "2012-07-09 -0.350006  \n",
       "\n",
       "[5 rows x 517 columns]"
      ]
     },
     "execution_count": 25,
     "metadata": {},
     "output_type": "execute_result"
    }
   ],
   "source": [
    "sp500_px.loc[sp500_px.index >= '2012-07-01'].head(5)"
   ]
  },
  {
   "cell_type": "code",
   "execution_count": 26,
   "id": "272158c5",
   "metadata": {},
   "outputs": [],
   "source": [
    "# Filter data for dates July 2012 through June 2015\n",
    "telecom = sp500_px.loc[sp500_px.index >= '2012-07-01', telecomSymbols]"
   ]
  },
  {
   "cell_type": "code",
   "execution_count": 27,
   "id": "a1775c08",
   "metadata": {},
   "outputs": [
    {
     "data": {
      "text/html": [
       "<div>\n",
       "<style scoped>\n",
       "    .dataframe tbody tr th:only-of-type {\n",
       "        vertical-align: middle;\n",
       "    }\n",
       "\n",
       "    .dataframe tbody tr th {\n",
       "        vertical-align: top;\n",
       "    }\n",
       "\n",
       "    .dataframe thead th {\n",
       "        text-align: right;\n",
       "    }\n",
       "</style>\n",
       "<table border=\"1\" class=\"dataframe\">\n",
       "  <thead>\n",
       "    <tr style=\"text-align: right;\">\n",
       "      <th></th>\n",
       "      <th>T</th>\n",
       "      <th>CTL</th>\n",
       "      <th>FTR</th>\n",
       "      <th>VZ</th>\n",
       "      <th>LVLT</th>\n",
       "    </tr>\n",
       "  </thead>\n",
       "  <tbody>\n",
       "    <tr>\n",
       "      <th>2012-07-02</th>\n",
       "      <td>0.422496</td>\n",
       "      <td>0.140847</td>\n",
       "      <td>0.070879</td>\n",
       "      <td>0.554180</td>\n",
       "      <td>-0.519998</td>\n",
       "    </tr>\n",
       "    <tr>\n",
       "      <th>2012-07-03</th>\n",
       "      <td>-0.177448</td>\n",
       "      <td>0.066280</td>\n",
       "      <td>0.070879</td>\n",
       "      <td>-0.025976</td>\n",
       "      <td>-0.049999</td>\n",
       "    </tr>\n",
       "    <tr>\n",
       "      <th>2012-07-05</th>\n",
       "      <td>-0.160548</td>\n",
       "      <td>-0.132563</td>\n",
       "      <td>0.055128</td>\n",
       "      <td>-0.051956</td>\n",
       "      <td>-0.180000</td>\n",
       "    </tr>\n",
       "    <tr>\n",
       "      <th>2012-07-06</th>\n",
       "      <td>0.342205</td>\n",
       "      <td>0.132563</td>\n",
       "      <td>0.007875</td>\n",
       "      <td>0.140106</td>\n",
       "      <td>-0.359999</td>\n",
       "    </tr>\n",
       "    <tr>\n",
       "      <th>2012-07-09</th>\n",
       "      <td>0.136883</td>\n",
       "      <td>0.124279</td>\n",
       "      <td>-0.023626</td>\n",
       "      <td>0.253943</td>\n",
       "      <td>0.180000</td>\n",
       "    </tr>\n",
       "    <tr>\n",
       "      <th>...</th>\n",
       "      <td>...</td>\n",
       "      <td>...</td>\n",
       "      <td>...</td>\n",
       "      <td>...</td>\n",
       "      <td>...</td>\n",
       "    </tr>\n",
       "    <tr>\n",
       "      <th>2015-06-25</th>\n",
       "      <td>0.049342</td>\n",
       "      <td>-1.600000</td>\n",
       "      <td>-0.040000</td>\n",
       "      <td>-0.187790</td>\n",
       "      <td>-0.330002</td>\n",
       "    </tr>\n",
       "    <tr>\n",
       "      <th>2015-06-26</th>\n",
       "      <td>-0.256586</td>\n",
       "      <td>0.039999</td>\n",
       "      <td>-0.070000</td>\n",
       "      <td>0.029650</td>\n",
       "      <td>-0.739998</td>\n",
       "    </tr>\n",
       "    <tr>\n",
       "      <th>2015-06-29</th>\n",
       "      <td>-0.098685</td>\n",
       "      <td>-0.559999</td>\n",
       "      <td>-0.060000</td>\n",
       "      <td>-0.504063</td>\n",
       "      <td>-1.360000</td>\n",
       "    </tr>\n",
       "    <tr>\n",
       "      <th>2015-06-30</th>\n",
       "      <td>-0.503298</td>\n",
       "      <td>-0.420000</td>\n",
       "      <td>-0.070000</td>\n",
       "      <td>-0.523829</td>\n",
       "      <td>0.199997</td>\n",
       "    </tr>\n",
       "    <tr>\n",
       "      <th>2015-07-01</th>\n",
       "      <td>-0.019737</td>\n",
       "      <td>0.080000</td>\n",
       "      <td>-0.050000</td>\n",
       "      <td>0.355811</td>\n",
       "      <td>0.139999</td>\n",
       "    </tr>\n",
       "  </tbody>\n",
       "</table>\n",
       "<p>754 rows × 5 columns</p>\n",
       "</div>"
      ],
      "text/plain": [
       "                   T       CTL       FTR        VZ      LVLT\n",
       "2012-07-02  0.422496  0.140847  0.070879  0.554180 -0.519998\n",
       "2012-07-03 -0.177448  0.066280  0.070879 -0.025976 -0.049999\n",
       "2012-07-05 -0.160548 -0.132563  0.055128 -0.051956 -0.180000\n",
       "2012-07-06  0.342205  0.132563  0.007875  0.140106 -0.359999\n",
       "2012-07-09  0.136883  0.124279 -0.023626  0.253943  0.180000\n",
       "...              ...       ...       ...       ...       ...\n",
       "2015-06-25  0.049342 -1.600000 -0.040000 -0.187790 -0.330002\n",
       "2015-06-26 -0.256586  0.039999 -0.070000  0.029650 -0.739998\n",
       "2015-06-29 -0.098685 -0.559999 -0.060000 -0.504063 -1.360000\n",
       "2015-06-30 -0.503298 -0.420000 -0.070000 -0.523829  0.199997\n",
       "2015-07-01 -0.019737  0.080000 -0.050000  0.355811  0.139999\n",
       "\n",
       "[754 rows x 5 columns]"
      ]
     },
     "execution_count": 27,
     "metadata": {},
     "output_type": "execute_result"
    }
   ],
   "source": [
    "telecom"
   ]
  },
  {
   "cell_type": "code",
   "execution_count": 28,
   "id": "f5b41640",
   "metadata": {
    "scrolled": true
   },
   "outputs": [
    {
     "data": {
      "text/html": [
       "<div>\n",
       "<style scoped>\n",
       "    .dataframe tbody tr th:only-of-type {\n",
       "        vertical-align: middle;\n",
       "    }\n",
       "\n",
       "    .dataframe tbody tr th {\n",
       "        vertical-align: top;\n",
       "    }\n",
       "\n",
       "    .dataframe thead th {\n",
       "        text-align: right;\n",
       "    }\n",
       "</style>\n",
       "<table border=\"1\" class=\"dataframe\">\n",
       "  <thead>\n",
       "    <tr style=\"text-align: right;\">\n",
       "      <th></th>\n",
       "      <th>T</th>\n",
       "      <th>CTL</th>\n",
       "      <th>FTR</th>\n",
       "      <th>VZ</th>\n",
       "      <th>LVLT</th>\n",
       "    </tr>\n",
       "  </thead>\n",
       "  <tbody>\n",
       "    <tr>\n",
       "      <th>T</th>\n",
       "      <td>1.000000</td>\n",
       "      <td>0.474683</td>\n",
       "      <td>0.327767</td>\n",
       "      <td>0.677612</td>\n",
       "      <td>0.278626</td>\n",
       "    </tr>\n",
       "    <tr>\n",
       "      <th>CTL</th>\n",
       "      <td>0.474683</td>\n",
       "      <td>1.000000</td>\n",
       "      <td>0.419757</td>\n",
       "      <td>0.416604</td>\n",
       "      <td>0.286665</td>\n",
       "    </tr>\n",
       "    <tr>\n",
       "      <th>FTR</th>\n",
       "      <td>0.327767</td>\n",
       "      <td>0.419757</td>\n",
       "      <td>1.000000</td>\n",
       "      <td>0.287386</td>\n",
       "      <td>0.260068</td>\n",
       "    </tr>\n",
       "    <tr>\n",
       "      <th>VZ</th>\n",
       "      <td>0.677612</td>\n",
       "      <td>0.416604</td>\n",
       "      <td>0.287386</td>\n",
       "      <td>1.000000</td>\n",
       "      <td>0.242199</td>\n",
       "    </tr>\n",
       "    <tr>\n",
       "      <th>LVLT</th>\n",
       "      <td>0.278626</td>\n",
       "      <td>0.286665</td>\n",
       "      <td>0.260068</td>\n",
       "      <td>0.242199</td>\n",
       "      <td>1.000000</td>\n",
       "    </tr>\n",
       "  </tbody>\n",
       "</table>\n",
       "</div>"
      ],
      "text/plain": [
       "             T       CTL       FTR        VZ      LVLT\n",
       "T     1.000000  0.474683  0.327767  0.677612  0.278626\n",
       "CTL   0.474683  1.000000  0.419757  0.416604  0.286665\n",
       "FTR   0.327767  0.419757  1.000000  0.287386  0.260068\n",
       "VZ    0.677612  0.416604  0.287386  1.000000  0.242199\n",
       "LVLT  0.278626  0.286665  0.260068  0.242199  1.000000"
      ]
     },
     "execution_count": 28,
     "metadata": {},
     "output_type": "execute_result"
    }
   ],
   "source": [
    "telecom.corr()"
   ]
  },
  {
   "cell_type": "markdown",
   "id": "b3e7898a",
   "metadata": {},
   "source": [
    "만약 변수가 많은 경우에 correlation matrix를 한눈에 파악하기 힘들다. 이때는 seaborn package를 사용해서 Heatmap을 그릴 수 있다."
   ]
  },
  {
   "cell_type": "code",
   "execution_count": 29,
   "id": "fa67aeec",
   "metadata": {},
   "outputs": [
    {
     "data": {
      "image/png": "[encoded data removed]",
      "text/plain": [
       "<Figure size 360x288 with 2 Axes>"
      ]
     },
     "metadata": {
      "needs_background": "light"
     },
     "output_type": "display_data"
    }
   ],
   "source": [
    "fig, ax = plt.subplots(figsize=(5, 4))\n",
    "ax = sns.heatmap(telecom.corr(), vmin=-1, vmax=1, \n",
    "                 cmap=sns.diverging_palette(20, 220, as_cmap=True),\n",
    "                 ax=ax)\n",
    "\n",
    "plt.tight_layout()\n",
    "plt.show()"
   ]
  },
  {
   "cell_type": "markdown",
   "id": "bb05745e",
   "metadata": {},
   "source": [
    "## Scatterplot"
   ]
  },
  {
   "cell_type": "code",
   "execution_count": 30,
   "id": "3528c0e3",
   "metadata": {},
   "outputs": [
    {
     "data": {
      "image/png": "[encoded data removed]",
      "text/plain": [
       "<Figure size 288x288 with 1 Axes>"
      ]
     },
     "metadata": {
      "needs_background": "light"
     },
     "output_type": "display_data"
    }
   ],
   "source": [
    "ax = telecom.plot.scatter(x='T', y='VZ', figsize=(4, 4), marker='$\\u25EF$', alpha = 0.3)\n",
    "ax.set_xlabel('ATT (T)')\n",
    "ax.set_ylabel('Verizon (VZ)')\n",
    "ax.axhline(0, color='grey', lw=1)\n",
    "ax.axvline(0, color='grey', lw=1)\n",
    "\n",
    "plt.tight_layout()\n",
    "plt.show()"
   ]
  },
  {
   "cell_type": "markdown",
   "id": "74ea523e",
   "metadata": {},
   "source": [
    "## scatterplot을 그리고 싶은데 많은 점들이 겹치는 경우\n",
    "\n",
    "1. hexagonal binning\n",
    "2. contours"
   ]
  },
  {
   "cell_type": "code",
   "execution_count": 31,
   "id": "e2b51e6d",
   "metadata": {},
   "outputs": [
    {
     "name": "stdout",
     "output_type": "stream",
     "text": [
      "(432693, 3)\n"
     ]
    },
    {
     "data": {
      "image/png": "[encoded data removed]",
      "text/plain": [
       "<Figure size 360x288 with 2 Axes>"
      ]
     },
     "metadata": {
      "needs_background": "light"
     },
     "output_type": "display_data"
    }
   ],
   "source": [
    "kc_tax = pd.read_csv(KC_TAX_CSV)\n",
    "kc_tax0 = kc_tax.loc[(kc_tax.TaxAssessedValue < 750000) & \n",
    "                     (kc_tax.SqFtTotLiving > 100) &\n",
    "                     (kc_tax.SqFtTotLiving < 3500), :]\n",
    "print(kc_tax0.shape)\n",
    "\n",
    "\n",
    "# plot\n",
    "ax = kc_tax0.plot.hexbin(x='SqFtTotLiving', y='TaxAssessedValue',\n",
    "                         gridsize=30, sharex=False, figsize=(5, 4))\n",
    "ax.set_xlabel('Finished Square Feet')\n",
    "ax.set_ylabel('Tax Assessed Value')\n",
    "\n",
    "plt.tight_layout()\n",
    "plt.show()"
   ]
  },
  {
   "cell_type": "code",
   "execution_count": 32,
   "id": "9eb602e6",
   "metadata": {},
   "outputs": [
    {
     "data": {
      "image/png": "[encoded data removed]",
      "text/plain": [
       "<Figure size 288x288 with 1 Axes>"
      ]
     },
     "metadata": {
      "needs_background": "light"
     },
     "output_type": "display_data"
    }
   ],
   "source": [
    "fig, ax = plt.subplots(figsize=(4, 4))\n",
    "sns.kdeplot(data=kc_tax0.sample(10000), x='SqFtTotLiving', y='TaxAssessedValue', ax=ax)\n",
    "ax.set_xlabel('Finished Square Feet')\n",
    "ax.set_ylabel('Tax Assessed Value')\n",
    "\n",
    "plt.tight_layout()\n",
    "plt.show()"
   ]
  },
  {
   "cell_type": "markdown",
   "id": "4d65a424",
   "metadata": {},
   "source": [
    "## Categorical Variables\n",
    "\n",
    "### contingency table\n",
    "\n",
    "pivot_table 함수를 사용해서 분할표 만들기"
   ]
  },
  {
   "cell_type": "code",
   "execution_count": 33,
   "id": "93f9c9fe",
   "metadata": {},
   "outputs": [
    {
     "data": {
      "text/html": [
       "<div>\n",
       "<style scoped>\n",
       "    .dataframe tbody tr th:only-of-type {\n",
       "        vertical-align: middle;\n",
       "    }\n",
       "\n",
       "    .dataframe tbody tr th {\n",
       "        vertical-align: top;\n",
       "    }\n",
       "\n",
       "    .dataframe thead th {\n",
       "        text-align: right;\n",
       "    }\n",
       "</style>\n",
       "<table border=\"1\" class=\"dataframe\">\n",
       "  <thead>\n",
       "    <tr style=\"text-align: right;\">\n",
       "      <th></th>\n",
       "      <th>status</th>\n",
       "      <th>grade</th>\n",
       "    </tr>\n",
       "  </thead>\n",
       "  <tbody>\n",
       "    <tr>\n",
       "      <th>0</th>\n",
       "      <td>Fully Paid</td>\n",
       "      <td>B</td>\n",
       "    </tr>\n",
       "    <tr>\n",
       "      <th>1</th>\n",
       "      <td>Charged Off</td>\n",
       "      <td>C</td>\n",
       "    </tr>\n",
       "    <tr>\n",
       "      <th>2</th>\n",
       "      <td>Fully Paid</td>\n",
       "      <td>C</td>\n",
       "    </tr>\n",
       "    <tr>\n",
       "      <th>3</th>\n",
       "      <td>Fully Paid</td>\n",
       "      <td>C</td>\n",
       "    </tr>\n",
       "    <tr>\n",
       "      <th>4</th>\n",
       "      <td>Current</td>\n",
       "      <td>B</td>\n",
       "    </tr>\n",
       "    <tr>\n",
       "      <th>...</th>\n",
       "      <td>...</td>\n",
       "      <td>...</td>\n",
       "    </tr>\n",
       "    <tr>\n",
       "      <th>450956</th>\n",
       "      <td>Current</td>\n",
       "      <td>D</td>\n",
       "    </tr>\n",
       "    <tr>\n",
       "      <th>450957</th>\n",
       "      <td>Current</td>\n",
       "      <td>D</td>\n",
       "    </tr>\n",
       "    <tr>\n",
       "      <th>450958</th>\n",
       "      <td>Current</td>\n",
       "      <td>D</td>\n",
       "    </tr>\n",
       "    <tr>\n",
       "      <th>450959</th>\n",
       "      <td>Current</td>\n",
       "      <td>D</td>\n",
       "    </tr>\n",
       "    <tr>\n",
       "      <th>450960</th>\n",
       "      <td>Fully Paid</td>\n",
       "      <td>A</td>\n",
       "    </tr>\n",
       "  </tbody>\n",
       "</table>\n",
       "<p>450961 rows × 2 columns</p>\n",
       "</div>"
      ],
      "text/plain": [
       "             status grade\n",
       "0        Fully Paid     B\n",
       "1       Charged Off     C\n",
       "2        Fully Paid     C\n",
       "3        Fully Paid     C\n",
       "4           Current     B\n",
       "...             ...   ...\n",
       "450956      Current     D\n",
       "450957      Current     D\n",
       "450958      Current     D\n",
       "450959      Current     D\n",
       "450960   Fully Paid     A\n",
       "\n",
       "[450961 rows x 2 columns]"
      ]
     },
     "execution_count": 33,
     "metadata": {},
     "output_type": "execute_result"
    }
   ],
   "source": [
    "lc_loans = pd.read_csv(LC_LOANS_CSV)\n",
    "lc_loans"
   ]
  },
  {
   "cell_type": "code",
   "execution_count": 34,
   "id": "e7f70d9d",
   "metadata": {},
   "outputs": [
    {
     "name": "stdout",
     "output_type": "stream",
     "text": [
      "status  Charged Off  Current  Fully Paid  Late     All\n",
      "grade                                                 \n",
      "A              1562    50051       20408   469   72490\n",
      "B              5302    93852       31160  2056  132370\n",
      "C              6023    88928       23147  2777  120875\n",
      "D              5007    53281       13681  2308   74277\n",
      "E              2842    24639        5949  1374   34804\n",
      "F              1526     8444        2328   606   12904\n",
      "G               409     1990         643   199    3241\n",
      "All           22671   321185       97316  9789  450961\n"
     ]
    }
   ],
   "source": [
    "crosstab = lc_loans.pivot_table(index='grade', columns='status', \n",
    "                                aggfunc=lambda x: len(x), margins=True)\n",
    "print(crosstab)"
   ]
  },
  {
   "cell_type": "markdown",
   "id": "ae7d4772",
   "metadata": {},
   "source": [
    "## Categorical and Numeric Data\n",
    "\n",
    "### side-by-side boxplot"
   ]
  },
  {
   "cell_type": "code",
   "execution_count": 35,
   "id": "d567d159",
   "metadata": {
    "scrolled": true
   },
   "outputs": [
    {
     "data": {
      "text/html": [
       "<div>\n",
       "<style scoped>\n",
       "    .dataframe tbody tr th:only-of-type {\n",
       "        vertical-align: middle;\n",
       "    }\n",
       "\n",
       "    .dataframe tbody tr th {\n",
       "        vertical-align: top;\n",
       "    }\n",
       "\n",
       "    .dataframe thead th {\n",
       "        text-align: right;\n",
       "    }\n",
       "</style>\n",
       "<table border=\"1\" class=\"dataframe\">\n",
       "  <thead>\n",
       "    <tr style=\"text-align: right;\">\n",
       "      <th></th>\n",
       "      <th>pct_carrier_delay</th>\n",
       "      <th>pct_atc_delay</th>\n",
       "      <th>pct_weather_delay</th>\n",
       "      <th>airline</th>\n",
       "    </tr>\n",
       "  </thead>\n",
       "  <tbody>\n",
       "    <tr>\n",
       "      <th>0</th>\n",
       "      <td>8.153226</td>\n",
       "      <td>1.971774</td>\n",
       "      <td>0.762097</td>\n",
       "      <td>American</td>\n",
       "    </tr>\n",
       "    <tr>\n",
       "      <th>1</th>\n",
       "      <td>5.959924</td>\n",
       "      <td>3.706107</td>\n",
       "      <td>1.585878</td>\n",
       "      <td>American</td>\n",
       "    </tr>\n",
       "    <tr>\n",
       "      <th>2</th>\n",
       "      <td>7.157270</td>\n",
       "      <td>2.706231</td>\n",
       "      <td>2.026706</td>\n",
       "      <td>American</td>\n",
       "    </tr>\n",
       "    <tr>\n",
       "      <th>3</th>\n",
       "      <td>12.100000</td>\n",
       "      <td>11.033333</td>\n",
       "      <td>0.000000</td>\n",
       "      <td>American</td>\n",
       "    </tr>\n",
       "    <tr>\n",
       "      <th>4</th>\n",
       "      <td>7.333333</td>\n",
       "      <td>3.365591</td>\n",
       "      <td>1.774194</td>\n",
       "      <td>American</td>\n",
       "    </tr>\n",
       "    <tr>\n",
       "      <th>...</th>\n",
       "      <td>...</td>\n",
       "      <td>...</td>\n",
       "      <td>...</td>\n",
       "      <td>...</td>\n",
       "    </tr>\n",
       "    <tr>\n",
       "      <th>33463</th>\n",
       "      <td>6.186422</td>\n",
       "      <td>8.798491</td>\n",
       "      <td>1.651940</td>\n",
       "      <td>Southwest</td>\n",
       "    </tr>\n",
       "    <tr>\n",
       "      <th>33464</th>\n",
       "      <td>9.522167</td>\n",
       "      <td>3.591133</td>\n",
       "      <td>0.261084</td>\n",
       "      <td>Southwest</td>\n",
       "    </tr>\n",
       "    <tr>\n",
       "      <th>33465</th>\n",
       "      <td>9.164179</td>\n",
       "      <td>2.664179</td>\n",
       "      <td>0.343284</td>\n",
       "      <td>Southwest</td>\n",
       "    </tr>\n",
       "    <tr>\n",
       "      <th>33466</th>\n",
       "      <td>5.152293</td>\n",
       "      <td>1.964520</td>\n",
       "      <td>0.122817</td>\n",
       "      <td>Southwest</td>\n",
       "    </tr>\n",
       "    <tr>\n",
       "      <th>33467</th>\n",
       "      <td>3.964393</td>\n",
       "      <td>1.700479</td>\n",
       "      <td>0.019449</td>\n",
       "      <td>Southwest</td>\n",
       "    </tr>\n",
       "  </tbody>\n",
       "</table>\n",
       "<p>33468 rows × 4 columns</p>\n",
       "</div>"
      ],
      "text/plain": [
       "       pct_carrier_delay  pct_atc_delay  pct_weather_delay    airline\n",
       "0               8.153226       1.971774           0.762097   American\n",
       "1               5.959924       3.706107           1.585878   American\n",
       "2               7.157270       2.706231           2.026706   American\n",
       "3              12.100000      11.033333           0.000000   American\n",
       "4               7.333333       3.365591           1.774194   American\n",
       "...                  ...            ...                ...        ...\n",
       "33463           6.186422       8.798491           1.651940  Southwest\n",
       "33464           9.522167       3.591133           0.261084  Southwest\n",
       "33465           9.164179       2.664179           0.343284  Southwest\n",
       "33466           5.152293       1.964520           0.122817  Southwest\n",
       "33467           3.964393       1.700479           0.019449  Southwest\n",
       "\n",
       "[33468 rows x 4 columns]"
      ]
     },
     "execution_count": 35,
     "metadata": {},
     "output_type": "execute_result"
    }
   ],
   "source": [
    "airline_stats = pd.read_csv(AIRLINE_STATS_CSV)\n",
    "airline_stats"
   ]
  },
  {
   "cell_type": "code",
   "execution_count": 36,
   "id": "2ce2776a",
   "metadata": {
    "scrolled": true
   },
   "outputs": [
    {
     "name": "stderr",
     "output_type": "stream",
     "text": [
      "/Users/hwankam/opt/anaconda3/envs/hwankam/lib/python3.7/site-packages/matplotlib/cbook/__init__.py:1426: VisibleDeprecationWarning: Creating an ndarray from ragged nested sequences (which is a list-or-tuple of lists-or-tuples-or ndarrays with different lengths or shapes) is deprecated. If you meant to do this, you must specify 'dtype=object' when creating the ndarray.\n",
      "  X = np.atleast_1d(X.T if isinstance(X, np.ndarray) else np.asarray(X))\n"
     ]
    },
    {
     "data": {
      "image/png": "[encoded data removed]",
      "text/plain": [
       "<Figure size 360x360 with 1 Axes>"
      ]
     },
     "metadata": {
      "needs_background": "light"
     },
     "output_type": "display_data"
    }
   ],
   "source": [
    "airline_stats.head()\n",
    "ax = airline_stats.boxplot(by='airline', column='pct_carrier_delay',\n",
    "                           figsize=(5, 5))\n",
    "ax.set_xlabel('')\n",
    "ax.set_ylabel('Daily % of Delayed Flights')\n",
    "plt.suptitle('')\n",
    "\n",
    "plt.tight_layout()\n",
    "plt.show()"
   ]
  },
  {
   "cell_type": "markdown",
   "id": "a487f4d9",
   "metadata": {},
   "source": [
    "만일 산포를 함께 표현하고 싶다면 violin plot을 사용한다."
   ]
  },
  {
   "cell_type": "code",
   "execution_count": 37,
   "id": "eb67cf6b",
   "metadata": {},
   "outputs": [
    {
     "data": {
      "image/png": "[encoded data removed]",
      "text/plain": [
       "<Figure size 360x360 with 1 Axes>"
      ]
     },
     "metadata": {
      "needs_background": "light"
     },
     "output_type": "display_data"
    }
   ],
   "source": [
    "fig, ax = plt.subplots(figsize=(5, 5))\n",
    "sns.violinplot(data=airline_stats, x='airline', y='pct_carrier_delay',\n",
    "               ax=ax, inner='quartile', color='white')\n",
    "ax.set_xlabel('')\n",
    "ax.set_ylabel('Daily % of Delayed Flights')\n",
    "\n",
    "plt.tight_layout()\n",
    "plt.show()"
   ]
  },
  {
   "cell_type": "markdown",
   "id": "88770271",
   "metadata": {},
   "source": [
    "## Visualizing Multiple Variables(참고)"
   ]
  },
  {
   "cell_type": "code",
   "execution_count": 38,
   "id": "65faa554",
   "metadata": {},
   "outputs": [
    {
     "data": {
      "text/html": [
       "<div>\n",
       "<style scoped>\n",
       "    .dataframe tbody tr th:only-of-type {\n",
       "        vertical-align: middle;\n",
       "    }\n",
       "\n",
       "    .dataframe tbody tr th {\n",
       "        vertical-align: top;\n",
       "    }\n",
       "\n",
       "    .dataframe thead th {\n",
       "        text-align: right;\n",
       "    }\n",
       "</style>\n",
       "<table border=\"1\" class=\"dataframe\">\n",
       "  <thead>\n",
       "    <tr style=\"text-align: right;\">\n",
       "      <th></th>\n",
       "      <th>TaxAssessedValue</th>\n",
       "      <th>SqFtTotLiving</th>\n",
       "      <th>ZipCode</th>\n",
       "    </tr>\n",
       "  </thead>\n",
       "  <tbody>\n",
       "    <tr>\n",
       "      <th>1</th>\n",
       "      <td>206000.0</td>\n",
       "      <td>1870</td>\n",
       "      <td>98002.0</td>\n",
       "    </tr>\n",
       "    <tr>\n",
       "      <th>2</th>\n",
       "      <td>303000.0</td>\n",
       "      <td>1530</td>\n",
       "      <td>98166.0</td>\n",
       "    </tr>\n",
       "    <tr>\n",
       "      <th>3</th>\n",
       "      <td>361000.0</td>\n",
       "      <td>2000</td>\n",
       "      <td>98108.0</td>\n",
       "    </tr>\n",
       "    <tr>\n",
       "      <th>4</th>\n",
       "      <td>459000.0</td>\n",
       "      <td>3150</td>\n",
       "      <td>98108.0</td>\n",
       "    </tr>\n",
       "    <tr>\n",
       "      <th>5</th>\n",
       "      <td>223000.0</td>\n",
       "      <td>1570</td>\n",
       "      <td>98032.0</td>\n",
       "    </tr>\n",
       "    <tr>\n",
       "      <th>...</th>\n",
       "      <td>...</td>\n",
       "      <td>...</td>\n",
       "      <td>...</td>\n",
       "    </tr>\n",
       "    <tr>\n",
       "      <th>498244</th>\n",
       "      <td>375000.0</td>\n",
       "      <td>2230</td>\n",
       "      <td>98056.0</td>\n",
       "    </tr>\n",
       "    <tr>\n",
       "      <th>498245</th>\n",
       "      <td>316000.0</td>\n",
       "      <td>1710</td>\n",
       "      <td>98056.0</td>\n",
       "    </tr>\n",
       "    <tr>\n",
       "      <th>498246</th>\n",
       "      <td>340000.0</td>\n",
       "      <td>1930</td>\n",
       "      <td>98056.0</td>\n",
       "    </tr>\n",
       "    <tr>\n",
       "      <th>498247</th>\n",
       "      <td>132000.0</td>\n",
       "      <td>2930</td>\n",
       "      <td>98056.0</td>\n",
       "    </tr>\n",
       "    <tr>\n",
       "      <th>498248</th>\n",
       "      <td>286000.0</td>\n",
       "      <td>1310</td>\n",
       "      <td>98056.0</td>\n",
       "    </tr>\n",
       "  </tbody>\n",
       "</table>\n",
       "<p>432693 rows × 3 columns</p>\n",
       "</div>"
      ],
      "text/plain": [
       "        TaxAssessedValue  SqFtTotLiving  ZipCode\n",
       "1               206000.0           1870  98002.0\n",
       "2               303000.0           1530  98166.0\n",
       "3               361000.0           2000  98108.0\n",
       "4               459000.0           3150  98108.0\n",
       "5               223000.0           1570  98032.0\n",
       "...                  ...            ...      ...\n",
       "498244          375000.0           2230  98056.0\n",
       "498245          316000.0           1710  98056.0\n",
       "498246          340000.0           1930  98056.0\n",
       "498247          132000.0           2930  98056.0\n",
       "498248          286000.0           1310  98056.0\n",
       "\n",
       "[432693 rows x 3 columns]"
      ]
     },
     "execution_count": 38,
     "metadata": {},
     "output_type": "execute_result"
    }
   ],
   "source": [
    "kc_tax0"
   ]
  },
  {
   "cell_type": "code",
   "execution_count": 39,
   "id": "3f2da30f",
   "metadata": {},
   "outputs": [
    {
     "data": {
      "image/png": "[encoded data removed]",
      "text/plain": [
       "<Figure size 432x432 with 4 Axes>"
      ]
     },
     "metadata": {
      "needs_background": "light"
     },
     "output_type": "display_data"
    }
   ],
   "source": [
    "zip_codes = [98188, 98105, 98108, 98126]\n",
    "kc_tax_zip = kc_tax0.loc[kc_tax0.ZipCode.isin(zip_codes),:]\n",
    "kc_tax_zip\n",
    "\n",
    "def hexbin(x, y, color, **kwargs):\n",
    "    cmap = sns.light_palette(color, as_cmap=True)\n",
    "    plt.hexbin(x, y, gridsize=25, cmap=cmap, **kwargs)\n",
    "\n",
    "g = sns.FacetGrid(kc_tax_zip, col='ZipCode', col_wrap=2)\n",
    "g.map(hexbin, 'SqFtTotLiving', 'TaxAssessedValue', \n",
    "      extent=[0, 3500, 0, 700000]) # x축, y축\n",
    "g.set_axis_labels('Finished Square Feet', 'Tax Assessed Value')\n",
    "g.set_titles('Zip code {col_name:.0f}')\n",
    "\n",
    "plt.tight_layout()\n",
    "plt.show()"
   ]
  }
 ],
 "metadata": {
  "kernelspec": {
   "display_name": "Hwankam",
   "language": "python",
   "name": "hwankam"
  },
  "language_info": {
   "codemirror_mode": {
    "name": "ipython",
    "version": 3
   },
   "file_extension": ".py",
   "mimetype": "text/x-python",
   "name": "python",
   "nbconvert_exporter": "python",
   "pygments_lexer": "ipython3",
   "version": "3.7.11"
  }
 },
 "nbformat": 4,
 "nbformat_minor": 5
}
