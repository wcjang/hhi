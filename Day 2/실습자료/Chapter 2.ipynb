{
 "cells": [
  {
   "cell_type": "markdown",
   "id": "c23eab10",
   "metadata": {},
   "source": [
    "# Chapter 2. Data and Sampling Distributions"
   ]
  },
  {
   "cell_type": "markdown",
   "id": "0cb4bcd8",
   "metadata": {},
   "source": [
    "필요한 패키지들을 설치 및 불러오기 합니다."
   ]
  },
  {
   "cell_type": "code",
   "execution_count": 1,
   "id": "f9cb40ec",
   "metadata": {},
   "outputs": [
    {
     "name": "stdout",
     "output_type": "stream",
     "text": [
      "Requirement already satisfied: statsmodels in c:\\users\\hwankam\\anaconda3\\envs\\kkk\\lib\\site-packages (0.12.2)\n",
      "Requirement already satisfied: numpy>=1.15 in c:\\users\\hwankam\\appdata\\roaming\\python\\python37\\site-packages (from statsmodels) (1.21.5)\n",
      "Requirement already satisfied: scipy>=1.1 in c:\\users\\hwankam\\anaconda3\\envs\\kkk\\lib\\site-packages (from statsmodels) (1.6.2)\n",
      "Requirement already satisfied: pandas>=0.21 in c:\\users\\hwankam\\anaconda3\\envs\\kkk\\lib\\site-packages (from statsmodels) (1.3.4)\n",
      "Requirement already satisfied: patsy>=0.5 in c:\\users\\hwankam\\anaconda3\\envs\\kkk\\lib\\site-packages (from statsmodels) (0.5.2)\n",
      "Requirement already satisfied: pytz>=2017.3 in c:\\users\\hwankam\\anaconda3\\envs\\kkk\\lib\\site-packages (from pandas>=0.21->statsmodels) (2021.1)\n",
      "Requirement already satisfied: python-dateutil>=2.7.3 in c:\\users\\hwankam\\anaconda3\\envs\\kkk\\lib\\site-packages (from pandas>=0.21->statsmodels) (2.8.2)\n",
      "Requirement already satisfied: six in c:\\users\\hwankam\\anaconda3\\envs\\kkk\\lib\\site-packages (from patsy>=0.5->statsmodels) (1.16.0)\n",
      "Requirement already satisfied: wquantiles in c:\\users\\hwankam\\anaconda3\\envs\\kkk\\lib\\site-packages (0.6)\n",
      "Requirement already satisfied: numpy>=1.18 in c:\\users\\hwankam\\appdata\\roaming\\python\\python37\\site-packages (from wquantiles) (1.21.5)\n"
     ]
    }
   ],
   "source": [
    "!pip install statsmodels\n",
    "!pip install wquantiles"
   ]
  },
  {
   "cell_type": "code",
   "execution_count": 2,
   "id": "dbc2ba4d",
   "metadata": {},
   "outputs": [],
   "source": [
    "%matplotlib inline\n",
    "\n",
    "from pathlib import Path\n",
    "import pandas as pd\n",
    "import numpy as np\n",
    "from scipy import stats\n",
    "from sklearn.utils import resample\n",
    "\n",
    "import seaborn as sns\n",
    "import matplotlib.pylab as plt"
   ]
  },
  {
   "cell_type": "markdown",
   "id": "2482cefa",
   "metadata": {},
   "source": [
    "데이터를 불러오기 위한 경로를 설정합니다. 반드시 필요한 csv 파일이 경로 상에 위치해야 파일을 불러올 수 있습니다."
   ]
  },
  {
   "cell_type": "code",
   "execution_count": 3,
   "id": "b39883c0",
   "metadata": {},
   "outputs": [],
   "source": [
    "DATA = \"C:/Users/HwanKam/hyundai/data\""
   ]
  },
  {
   "cell_type": "code",
   "execution_count": 4,
   "id": "d2902493",
   "metadata": {},
   "outputs": [],
   "source": [
    "LOANS_INCOME_CSV = DATA + '/loans_income.csv'\n",
    "SP500_DATA_CSV = DATA + '/sp500_data.csv.gz'"
   ]
  },
  {
   "cell_type": "markdown",
   "id": "53832b5b",
   "metadata": {},
   "source": [
    "## CLT"
   ]
  },
  {
   "cell_type": "markdown",
   "id": "1f2b6f36",
   "metadata": {},
   "source": [
    "https://openintro.shinyapps.io/CLT_mean/"
   ]
  },
  {
   "cell_type": "markdown",
   "id": "ef41acdf",
   "metadata": {},
   "source": [
    "## sample"
   ]
  },
  {
   "cell_type": "code",
   "execution_count": 5,
   "id": "3c1cac60",
   "metadata": {},
   "outputs": [
    {
     "data": {
      "image/png": "[encoded data removed]",
      "text/plain": [
       "<Figure size 360x108 with 2 Axes>"
      ]
     },
     "metadata": {
      "needs_background": "light"
     },
     "output_type": "display_data"
    }
   ],
   "source": [
    "np.random.seed(seed=1)\n",
    "x = np.linspace(-3, 3, 300)\n",
    "xsample = stats.norm.rvs(size=1000)\n",
    "\n",
    "fig, axes = plt.subplots(ncols=2, figsize=(5, 1.5))\n",
    "\n",
    "ax = axes[0]\n",
    "ax.fill(x, stats.norm.pdf(x))\n",
    "ax.set_axis_off()\n",
    "ax.set_xlim(-3, 3)\n",
    "\n",
    "ax = axes[1]\n",
    "ax.hist(xsample, bins=30)\n",
    "ax.set_axis_off()\n",
    "ax.set_xlim(-3, 3)\n",
    "ax.set_position\n",
    "# plt.subplots_adjust(left=0, bottom=0, right=1, top=1, wspace=0, hspace=0)\n",
    "\n",
    "plt.show()"
   ]
  },
  {
   "cell_type": "markdown",
   "id": "45714c22",
   "metadata": {},
   "source": [
    "## Sampling Distribution of a Statistic"
   ]
  },
  {
   "cell_type": "code",
   "execution_count": 6,
   "id": "d47d6994",
   "metadata": {},
   "outputs": [
    {
     "name": "stdout",
     "output_type": "stream",
     "text": [
      "         income  type\n",
      "40292   63000.0  Data\n",
      "38959   92000.0  Data\n",
      "17361  134000.0  Data\n",
      "33996   52000.0  Data\n",
      "26491   43000.0  Data\n",
      "       income        type\n",
      "995  69604.79  Mean of 20\n",
      "996  72313.64  Mean of 20\n",
      "997  67056.23  Mean of 20\n",
      "998  69612.78  Mean of 20\n",
      "999  70270.33  Mean of 20\n"
     ]
    }
   ],
   "source": [
    "loans_income = pd.read_csv(LOANS_INCOME_CSV, squeeze=True)\n",
    "\n",
    "sample_data = pd.DataFrame({\n",
    "    'income': loans_income.sample(1000),\n",
    "    'type': 'Data',\n",
    "})\n",
    "\n",
    "sample_mean_05 = pd.DataFrame({\n",
    "    'income': [loans_income.sample(20).mean() for _ in range(1000)],\n",
    "    'type': 'Mean of 5',\n",
    "})\n",
    "\n",
    "sample_mean_20 = pd.DataFrame({\n",
    "    'income': [loans_income.sample(100).mean() for _ in range(1000)],\n",
    "    'type': 'Mean of 20',\n",
    "})\n",
    "\n",
    "results = pd.concat([sample_data, sample_mean_05, sample_mean_20])\n",
    "print(results.head())\n",
    "print(results.tail())"
   ]
  },
  {
   "cell_type": "code",
   "execution_count": 7,
   "id": "905070ff",
   "metadata": {},
   "outputs": [
    {
     "data": {
      "image/png": "[encoded data removed]",
      "text/plain": [
       "<Figure size 288x432 with 3 Axes>"
      ]
     },
     "metadata": {
      "needs_background": "light"
     },
     "output_type": "display_data"
    }
   ],
   "source": [
    "g = sns.FacetGrid(results, col='type', col_wrap=1, \n",
    "                  height=2, aspect=2)\n",
    "g.map(plt.hist, 'income', range=[0, 200000], bins=40)\n",
    "g.set_axis_labels('Income', 'Count')\n",
    "g.set_titles('{col_name}')\n",
    "\n",
    "plt.tight_layout()\n",
    "plt.show()"
   ]
  },
  {
   "cell_type": "markdown",
   "id": "424f1299",
   "metadata": {},
   "source": [
    "## Bootstrap"
   ]
  },
  {
   "cell_type": "markdown",
   "id": "e5dd76b7",
   "metadata": {},
   "source": [
    "https://mattkmiecik.shinyapps.io/boot-perm-app/"
   ]
  },
  {
   "cell_type": "code",
   "execution_count": 8,
   "id": "9a6a5b9b",
   "metadata": {},
   "outputs": [
    {
     "name": "stdout",
     "output_type": "stream",
     "text": [
      "Bootstrap Statistics:\n",
      "original: 62000.0\n",
      "bias: -82.09799999999814\n",
      "std. error: 228.73933106830748\n"
     ]
    }
   ],
   "source": [
    "results = []\n",
    "for nrepeat in range(1000):\n",
    "    sample = resample(loans_income)\n",
    "    results.append(sample.median())\n",
    "results = pd.Series(results)\n",
    "print('Bootstrap Statistics:')\n",
    "print(f'original: {loans_income.median()}')\n",
    "print(f'bias: {results.mean() - loans_income.median()}')\n",
    "print(f'std. error: {results.std()}')"
   ]
  },
  {
   "cell_type": "markdown",
   "id": "aa32a703",
   "metadata": {},
   "source": [
    "## Confidence Intervals"
   ]
  },
  {
   "cell_type": "code",
   "execution_count": 9,
   "id": "4d65456e",
   "metadata": {},
   "outputs": [
    {
     "name": "stdout",
     "output_type": "stream",
     "text": [
      "68760.51844\n",
      "55734.1\n"
     ]
    },
    {
     "data": {
      "image/png": "[encoded data removed]",
      "text/plain": [
       "<Figure size 288x216 with 1 Axes>"
      ]
     },
     "metadata": {
      "needs_background": "light"
     },
     "output_type": "display_data"
    }
   ],
   "source": [
    "print(loans_income.mean())\n",
    "np.random.seed(seed=3)  \n",
    "# create a sample of 20 loan income data\n",
    "sample20 = resample(loans_income, n_samples=20, replace=False)\n",
    "print(sample20.mean())\n",
    "results = []\n",
    "for nrepeat in range(500):\n",
    "    sample = resample(sample20)\n",
    "    results.append(sample.mean())\n",
    "results = pd.Series(results)\n",
    "\n",
    "confidence_interval = list(results.quantile([0.05, 0.95]))\n",
    "ax = results.plot.hist(bins=30, figsize=(4, 3))\n",
    "ax.plot(confidence_interval, [55, 55], color='black')\n",
    "for x in confidence_interval:\n",
    "    ax.plot([x, x], [0, 65], color='black')\n",
    "    ax.text(x, 70, f'{x:.0f}', \n",
    "            horizontalalignment='center', verticalalignment='center')\n",
    "ax.text(sum(confidence_interval) / 2, 60, '90% interval',\n",
    "        horizontalalignment='center', verticalalignment='center')\n",
    "\n",
    "meanIncome = results.mean()\n",
    "ax.plot([meanIncome, meanIncome], [0, 50], color='black', linestyle='--')\n",
    "ax.text(meanIncome, 10, f'Mean: {meanIncome:.0f}',\n",
    "        bbox=dict(facecolor='white', edgecolor='white', alpha=0.5),\n",
    "        horizontalalignment='center', verticalalignment='center')\n",
    "ax.set_ylim(0, 80)\n",
    "ax.set_ylabel('Counts')\n",
    "\n",
    "plt.tight_layout()\n",
    "plt.show()"
   ]
  },
  {
   "cell_type": "code",
   "execution_count": 10,
   "id": "935f4765",
   "metadata": {
    "scrolled": true
   },
   "outputs": [
    {
     "data": {
      "text/plain": [
       "Text(0, 0.5, 'Counts')"
      ]
     },
     "execution_count": 10,
     "metadata": {},
     "output_type": "execute_result"
    },
    {
     "data": {
      "image/png": "[encoded data removed]",
      "text/plain": [
       "<Figure size 288x216 with 1 Axes>"
      ]
     },
     "metadata": {
      "needs_background": "light"
     },
     "output_type": "display_data"
    }
   ],
   "source": [
    "np.random.seed(seed=3)\n",
    "# create a sample of 20 loan income data\n",
    "sample20 = resample(loans_income, n_samples=20, replace=False)\n",
    "\n",
    "results = []\n",
    "for nrepeat in range(500):\n",
    "    sample = resample(sample20)\n",
    "    results.append(sample.mean())\n",
    "results = pd.Series(results)\n",
    "\n",
    "confidence_interval = list(results.quantile([0.05, 0.95]))\n",
    "ax = results.plot.hist(bins=30, figsize=(4, 3), color='C1')\n",
    "ax.plot(confidence_interval, [55, 55], color='black', linestyle='--')\n",
    "for x in confidence_interval:\n",
    "    ax.plot([x, x], [0, 60], color='black')\n",
    "ax.text(82000, 50, \n",
    "        f'90% CI\\n[{confidence_interval[0]:.0f}, {confidence_interval[1]:.0f}]',\n",
    "       fontsize='small')\n",
    "\n",
    "confidence_interval = list(results.quantile([0.025, 0.975]))\n",
    "ax = results.plot.hist(bins=30, figsize=(4, 3))\n",
    "ax.plot(confidence_interval, [65, 65], color='black', linestyle='--')\n",
    "for x in confidence_interval:\n",
    "    ax.plot([x, x], [0, 70], color='black')\n",
    "ax.text(82000, 65, \n",
    "        f'95% CI\\n[{confidence_interval[0]:.0f}, {confidence_interval[1]:.0f}]',\n",
    "       fontsize='small')\n",
    "# ax.text(sum(confidence_interval) / 2, 264, '95 % interval',\n",
    "#         horizontalalignment='center', verticalalignment='center')\n",
    "\n",
    "meanIncome = results.mean()\n",
    "ax.plot([meanIncome, meanIncome], [0, 50], color='black', linestyle='--')\n",
    "ax.text(meanIncome, 5, f'Mean: {meanIncome:.0f}',\n",
    "        bbox=dict(facecolor='white', edgecolor='white', alpha=0.5),\n",
    "        horizontalalignment='center', verticalalignment='center')\n",
    "ax.set_ylim(0, 80)\n",
    "ax.set_xlim(37000, 102000)\n",
    "ax.set_xticks([40000, 50000, 60000, 70000, 80000])\n",
    "ax.set_ylabel('Counts')\n",
    "\n",
    "# plt.tight_layout()\n",
    "# plt.show()"
   ]
  },
  {
   "cell_type": "markdown",
   "id": "1ef162ed",
   "metadata": {},
   "source": [
    "## Standard Normal and QQ-Plots\n",
    "\n",
    "scipy 패키지 내의 함수 scipy.stats.probplot 를 활용해서 QQ-plot을 그릴 수 있습니다.(정규성 확인)"
   ]
  },
  {
   "cell_type": "code",
   "execution_count": 11,
   "id": "51ef5593",
   "metadata": {},
   "outputs": [
    {
     "data": {
      "image/png": "[encoded data removed]",
      "text/plain": [
       "<Figure size 288x288 with 1 Axes>"
      ]
     },
     "metadata": {
      "needs_background": "light"
     },
     "output_type": "display_data"
    }
   ],
   "source": [
    "fig, ax = plt.subplots(figsize=(4, 4))\n",
    "\n",
    "np.random.seed(88)\n",
    "norm_sample = stats.norm.rvs(size=100)\n",
    "stats.probplot(norm_sample, plot=ax)\n",
    "\n",
    "plt.tight_layout()\n",
    "plt.show()"
   ]
  },
  {
   "cell_type": "code",
   "execution_count": 12,
   "id": "ab273fa8",
   "metadata": {},
   "outputs": [
    {
     "data": {
      "text/plain": [
       "(array([1., 3., 3., 3., 1., 1., 8., 5., 4., 3., 6., 7., 6., 9., 7., 4., 6.,\n",
       "        1., 5., 3., 6., 3., 1., 2., 0., 0., 0., 0., 1., 1.]),\n",
       " array([-1.78977226, -1.65142539, -1.51307852, -1.37473166, -1.23638479,\n",
       "        -1.09803792, -0.95969106, -0.82134419, -0.68299732, -0.54465045,\n",
       "        -0.40630359, -0.26795672, -0.12960985,  0.00873701,  0.14708388,\n",
       "         0.28543075,  0.42377762,  0.56212448,  0.70047135,  0.83881822,\n",
       "         0.97716508,  1.11551195,  1.25385882,  1.39220569,  1.53055255,\n",
       "         1.66889942,  1.80724629,  1.94559315,  2.08394002,  2.22228689,\n",
       "         2.36063376]),\n",
       " <BarContainer object of 30 artists>)"
      ]
     },
     "execution_count": 12,
     "metadata": {},
     "output_type": "execute_result"
    },
    {
     "data": {
      "image/png": "[encoded data removed]",
      "text/plain": [
       "<Figure size 432x288 with 1 Axes>"
      ]
     },
     "metadata": {
      "needs_background": "light"
     },
     "output_type": "display_data"
    }
   ],
   "source": [
    "plt.hist(norm_sample, bins=30)"
   ]
  },
  {
   "cell_type": "markdown",
   "id": "009ed4b0",
   "metadata": {},
   "source": [
    "### Long-Tailed Distributions"
   ]
  },
  {
   "cell_type": "code",
   "execution_count": 13,
   "id": "f30b14ec",
   "metadata": {
    "scrolled": true
   },
   "outputs": [
    {
     "data": {
      "image/png": "[encoded data removed]",
      "text/plain": [
       "<Figure size 432x288 with 1 Axes>"
      ]
     },
     "metadata": {
      "needs_background": "light"
     },
     "output_type": "display_data"
    }
   ],
   "source": [
    "sp500_px = pd.read_csv(SP500_DATA_CSV)\n",
    "\n",
    "nflx = sp500_px.NFLX\n",
    "nflx = np.diff(np.log(nflx[nflx>0]))\n",
    "\n",
    "plt.hist(nflx)\n",
    "plt.show()"
   ]
  },
  {
   "cell_type": "code",
   "execution_count": 14,
   "id": "fe8691be",
   "metadata": {
    "scrolled": false
   },
   "outputs": [
    {
     "data": {
      "image/png": "[encoded data removed]",
      "text/plain": [
       "<Figure size 288x288 with 1 Axes>"
      ]
     },
     "metadata": {
      "needs_background": "light"
     },
     "output_type": "display_data"
    }
   ],
   "source": [
    "fig, ax = plt.subplots(figsize=(4, 4))\n",
    "stats.probplot(nflx, plot=ax)\n",
    "\n",
    "plt.tight_layout()\n",
    "plt.show()"
   ]
  },
  {
   "cell_type": "markdown",
   "id": "56f79013",
   "metadata": {},
   "source": [
    "$ \\$"
   ]
  },
  {
   "cell_type": "markdown",
   "id": "d8f89826",
   "metadata": {},
   "source": [
    "[참고] *특정분포에서 분위수에 해당하는 score 찾기, 확률 찾기, 누적확률 찾기는 다음과 같다.*\n",
    "\n",
    "from scipy import stats\n",
    "\n",
    "stats.분포.ppf(분위수, loc = , scale = )\n",
    "\n",
    "stats.분포.pmf(값, loc = , scale =)\n",
    "\n",
    "stats.분포.pdf(값, loc = , scale =)\n",
    "\n",
    "stats.분포.cdf(값, loc = , scale =)\n",
    "\n",
    "정규분포 : norm // 포아송분포 : poisson // 이항분포 : binom // 기하분포 : geom // 지수분포 : expon"
   ]
  },
  {
   "cell_type": "markdown",
   "id": "d13fa555",
   "metadata": {},
   "source": [
    "## 실습\n",
    "\n",
    "위의 nflx로 입력받은 array를 사용해서 직접 QQ_plot을 만들어보자."
   ]
  },
  {
   "cell_type": "code",
   "execution_count": null,
   "id": "129edef6",
   "metadata": {},
   "outputs": [],
   "source": []
  },
  {
   "cell_type": "markdown",
   "id": "38cbe00f",
   "metadata": {},
   "source": [
    "## 실습 \n",
    "\n",
    "강의자료 <정규분포> 부분에 나온 문제를 풀어보자.\n",
    "\n",
    "[문제] 수능 한국지리 점수는 평균이 40, 표준편차가 4인 정규분포를 따른다고 하자. \n",
    "\n",
    "* BTS 정국이 46점을 받았다고 할 때 백분위수는 어떻게 되는가?\n",
    "\n",
    "* 정국이 1등급(상위 4%)를 받기 위해서는 최소한 몇점을 받아야 하는가? "
   ]
  },
  {
   "cell_type": "code",
   "execution_count": null,
   "id": "8f0e76e5",
   "metadata": {},
   "outputs": [],
   "source": []
  },
  {
   "cell_type": "markdown",
   "id": "12ee35a9",
   "metadata": {},
   "source": [
    "## Binomial Distribution"
   ]
  },
  {
   "cell_type": "code",
   "execution_count": 15,
   "id": "70b14638",
   "metadata": {},
   "outputs": [
    {
     "data": {
      "image/png": "[encoded data removed]",
      "text/plain": [
       "<Figure size 432x288 with 1 Axes>"
      ]
     },
     "metadata": {
      "needs_background": "light"
     },
     "output_type": "display_data"
    }
   ],
   "source": [
    "sample = stats.binom.rvs(n = 5, p=0.1, size=100)\n",
    "\n",
    "pd.Series(sample).plot.hist()\n",
    "plt.show()"
   ]
  },
  {
   "cell_type": "code",
   "execution_count": 16,
   "id": "8c6d9707",
   "metadata": {},
   "outputs": [
    {
     "name": "stdout",
     "output_type": "stream",
     "text": [
      "0.59049\n"
     ]
    }
   ],
   "source": [
    "print(stats.binom.pmf(0, n=5, p=0.1))"
   ]
  },
  {
   "cell_type": "code",
   "execution_count": 17,
   "id": "5d0b9fa0",
   "metadata": {},
   "outputs": [
    {
     "name": "stdout",
     "output_type": "stream",
     "text": [
      "0.008099999999999996\n"
     ]
    }
   ],
   "source": [
    "print(stats.binom.pmf(3, n=5, p=0.1))"
   ]
  },
  {
   "cell_type": "code",
   "execution_count": 18,
   "id": "7a805cf8",
   "metadata": {},
   "outputs": [
    {
     "name": "stdout",
     "output_type": "stream",
     "text": [
      "0.99954\n"
     ]
    }
   ],
   "source": [
    "print(stats.binom.cdf(3, n=5, p=0.1))"
   ]
  },
  {
   "cell_type": "code",
   "execution_count": 19,
   "id": "fd27bba9",
   "metadata": {},
   "outputs": [
    {
     "name": "stdout",
     "output_type": "stream",
     "text": [
      "1.0\n"
     ]
    }
   ],
   "source": [
    "print(stats.binom.ppf(0.7, n=5, p=0.1))"
   ]
  },
  {
   "cell_type": "markdown",
   "id": "f65daff5",
   "metadata": {},
   "source": [
    "## 실습 \n",
    "\n",
    "강의자료 <이항분포> 부분에 나온 문제를 풀어보자.\n",
    "\n",
    "[문제] 한 연구에 따르면 약 25%의 페이스북 사용자를 파워사용자로 분류한다. 또한 사용자들의 평균 친구숫자는 245명이다. 245명의 친구를 가진 사용자 중 파워 사용자가 70명을 초과할 확률은 얼마인가? 이항분포 및 정규근사를 사용해서 각각 풀어보시오."
   ]
  },
  {
   "cell_type": "code",
   "execution_count": null,
   "id": "d860b420",
   "metadata": {},
   "outputs": [],
   "source": []
  },
  {
   "cell_type": "markdown",
   "id": "67960406",
   "metadata": {},
   "source": [
    "## Poisson Distributions"
   ]
  },
  {
   "cell_type": "code",
   "execution_count": 20,
   "id": "a6eeb368",
   "metadata": {},
   "outputs": [
    {
     "data": {
      "image/png": "[encoded data removed]",
      "text/plain": [
       "<Figure size 432x288 with 1 Axes>"
      ]
     },
     "metadata": {
      "needs_background": "light"
     },
     "output_type": "display_data"
    }
   ],
   "source": [
    "sample = stats.poisson.rvs(4, size=100)\n",
    "\n",
    "pd.Series(sample).plot.hist()\n",
    "plt.show()"
   ]
  },
  {
   "cell_type": "code",
   "execution_count": 21,
   "id": "1924cde2",
   "metadata": {
    "scrolled": false
   },
   "outputs": [
    {
     "data": {
      "text/plain": [
       "[<matplotlib.lines.Line2D at 0x1f758f64bc8>]"
      ]
     },
     "execution_count": 21,
     "metadata": {},
     "output_type": "execute_result"
    },
    {
     "data": {
      "image/png": "[encoded data removed]",
      "text/plain": [
       "<Figure size 432x288 with 1 Axes>"
      ]
     },
     "metadata": {
      "needs_background": "light"
     },
     "output_type": "display_data"
    }
   ],
   "source": [
    "x = np.arange(10)\n",
    "y1 = stats.poisson.pmf(x, mu=1)\n",
    "y2 = stats.poisson.pmf(x, mu=3)\n",
    "y3 = stats.poisson.pmf(x, mu=7)\n",
    "plt.plot(x, y1)\n",
    "plt.plot(x, y2)\n",
    "plt.plot(x, y3)"
   ]
  },
  {
   "cell_type": "markdown",
   "id": "a78b7bc1",
   "metadata": {},
   "source": [
    "## 실습\n",
    "\n",
    "강의자료 <포아송분포> 부분에 나온 문제를 풀어보자.\n",
    "\n",
    "[문제] 국토교통부에 따르면 2017년 1억 km당 주요 철도사고의 발생건수는 평균 6회이다. 올해의 사건횟수의 분포도 2017년과 비슷할 것이라는 가정하에\n",
    "\n",
    "* 올해 1억 km 당 사건이 7번 발생할 확률은?\n",
    "\n",
    "* 올해 1억 km 당 사건이 20번 이상일 확률은? 　　   ※포아송분포가 이산형 분포임에 주의"
   ]
  },
  {
   "cell_type": "code",
   "execution_count": null,
   "id": "5cfed79a",
   "metadata": {},
   "outputs": [],
   "source": []
  },
  {
   "cell_type": "markdown",
   "id": "5586d803",
   "metadata": {},
   "source": [
    "## Geometric Distribution"
   ]
  },
  {
   "cell_type": "code",
   "execution_count": 22,
   "id": "8fbcccfe",
   "metadata": {
    "scrolled": true
   },
   "outputs": [
    {
     "data": {
      "image/png": "[encoded data removed]",
      "text/plain": [
       "<Figure size 432x288 with 1 Axes>"
      ]
     },
     "metadata": {
      "needs_background": "light"
     },
     "output_type": "display_data"
    }
   ],
   "source": [
    "sample = stats.geom.rvs(0.01, size=100)\n",
    "\n",
    "pd.Series(sample).plot.hist()\n",
    "plt.show()"
   ]
  },
  {
   "cell_type": "markdown",
   "id": "bd9da31a",
   "metadata": {},
   "source": [
    "## 실습\n",
    "\n",
    "강의자료 <기하분포> 부분에 나온 문제를 풀어보자.\n",
    "\n",
    "[문제] 맛있는 녀석들이 쪼는 맛을 하는 게임을 하고 있다. 영식이 형이 주사위를 던져서 1, 또는 6의 눈이 나온 사람이 쪼는 맛에 당첨이라고 얘기해주었다. 가위바위보 결과 주사위를 던지는 순서는 민상, 준현, 민경, 세윤으로 정해졌다. 민경 또는 세윤이 쪼는 맛에 당첨될 확률은?"
   ]
  },
  {
   "cell_type": "code",
   "execution_count": null,
   "id": "fb2d123b",
   "metadata": {},
   "outputs": [],
   "source": []
  },
  {
   "cell_type": "markdown",
   "id": "a2610cf5",
   "metadata": {},
   "source": [
    "## 실습\n",
    "\n",
    "\n",
    "[문제] 주머니 안에 N개의 흰 공과 M개의 검은 공이 있다고 하자. 공을 한번에 하나씩 꺼내어 색깔을 확인한 뒤, 주머니에 공을 다시 집어넣는 과정을 반복한다. 만약 검은색 공이 나오면 시행을 멈춘다고 할때\n",
    "\n",
    "* 정확히 n번의 시행을 할 확률을 찾는 함수를 만들어라\n",
    "\n",
    "* 최소한 k번의 시행을 할 확률을 찾는 함수를 만들어라.\n",
    "\n",
    "단, stat.geom을 사용하지 마시오"
   ]
  },
  {
   "cell_type": "code",
   "execution_count": null,
   "id": "8a34c68c",
   "metadata": {},
   "outputs": [],
   "source": []
  },
  {
   "cell_type": "markdown",
   "id": "081b136e",
   "metadata": {},
   "source": [
    "## Exponential Distribution"
   ]
  },
  {
   "cell_type": "code",
   "execution_count": 23,
   "id": "be096e5a",
   "metadata": {},
   "outputs": [
    {
     "data": {
      "image/png": "[encoded data removed]",
      "text/plain": [
       "<Figure size 432x288 with 1 Axes>"
      ]
     },
     "metadata": {
      "needs_background": "light"
     },
     "output_type": "display_data"
    }
   ],
   "source": [
    "sample = stats.expon.rvs(scale=10, size=100)\n",
    "\n",
    "pd.Series(sample).plot.hist()\n",
    "plt.show()"
   ]
  },
  {
   "cell_type": "markdown",
   "id": "493f4cd0",
   "metadata": {},
   "source": [
    "## 실습\n",
    "\n",
    "강의자료 <지수분포> 부분에 나온 문제를 풀어보자.\n",
    "\n",
    "[문제] 듀폰 공장에서 10년동안 생긴 사고에 대해 알아보고자 한다. 사고 간격에 대한 분포가 지수분포를 따른다고 가정하자. 사건발생비율 $\\lambda$(일별 사고 발생률)가 0.05라고 가정했을 때,\n",
    "\n",
    "\n",
    "\n",
    " * 사고 간격이 10일 이내일 확률은?\n",
    "\n",
    "\n",
    "  * 80일 이상 사고가 없을 확률은?"
   ]
  },
  {
   "cell_type": "code",
   "execution_count": null,
   "id": "f014eb0e",
   "metadata": {},
   "outputs": [],
   "source": []
  },
  {
   "cell_type": "markdown",
   "id": "a3ac408e",
   "metadata": {},
   "source": [
    "## 실습\n",
    "\n",
    "\n",
    "[문제] 은행 업무를 보기 위해 순서를 기다리는 상황을 생각해보자. 은행업무를 볼 때까지 기다리는 시간은 지수분포를 따르며 은행원은 1분당 0.1명의 업무를 응대한다고 가정하자. \n",
    "\n",
    "* 당신이 은행에 막 도착했을 때 은행에서 10분 이상 기다릴 확률은? \n",
    "\n",
    "* 당신이 이미 10분을 기다렸을 때 추가로 10분 이상 기다릴 확률은?"
   ]
  },
  {
   "cell_type": "code",
   "execution_count": null,
   "id": "51c200e6",
   "metadata": {},
   "outputs": [],
   "source": []
  }
 ],
 "metadata": {
  "kernelspec": {
   "display_name": "hwankam",
   "language": "python",
   "name": "kkk"
  },
  "language_info": {
   "codemirror_mode": {
    "name": "ipython",
    "version": 3
   },
   "file_extension": ".py",
   "mimetype": "text/x-python",
   "name": "python",
   "nbconvert_exporter": "python",
   "pygments_lexer": "ipython3",
   "version": "3.7.10"
  }
 },
 "nbformat": 4,
 "nbformat_minor": 5
}
