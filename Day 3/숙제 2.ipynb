{
 "cells": [
  {
   "cell_type": "code",
   "execution_count": 79,
   "id": "e50b1c7c",
   "metadata": {},
   "outputs": [
    {
     "data": {
      "text/plain": [
       "1.0"
      ]
     },
     "execution_count": 79,
     "metadata": {},
     "output_type": "execute_result"
    }
   ],
   "source": [
    "# 1 \n",
    "\n",
    "1 - (1-0.05)**2000"
   ]
  },
  {
   "cell_type": "code",
   "execution_count": 9,
   "id": "a593ae3f",
   "metadata": {},
   "outputs": [
    {
     "data": {
      "text/plain": [
       "0.6523110386150437"
      ]
     },
     "execution_count": 9,
     "metadata": {},
     "output_type": "execute_result"
    }
   ],
   "source": [
    "# 2\n",
    "\n",
    "from scipy import stats\n",
    "\n",
    "1 - stats.chi2.cdf(3.31, df = 5)"
   ]
  },
  {
   "cell_type": "code",
   "execution_count": 15,
   "id": "9f38aeed",
   "metadata": {},
   "outputs": [
    {
     "data": {
      "text/plain": [
       "0.593994150290162"
      ]
     },
     "execution_count": 15,
     "metadata": {},
     "output_type": "execute_result"
    }
   ],
   "source": [
    "# 3\n",
    "1 - stats.poisson.cdf(1, mu=2)"
   ]
  },
  {
   "cell_type": "code",
   "execution_count": 16,
   "id": "20fd06c3",
   "metadata": {},
   "outputs": [],
   "source": [
    "# 4"
   ]
  },
  {
   "cell_type": "code",
   "execution_count": 81,
   "id": "b0e06055",
   "metadata": {},
   "outputs": [
    {
     "data": {
      "text/plain": [
       "0.0266"
      ]
     },
     "execution_count": 81,
     "metadata": {},
     "output_type": "execute_result"
    }
   ],
   "source": [
    "import numpy as np\n",
    "\n",
    "A = [3,5,6,7,8,7]\n",
    "B = [7,9,9,8,8,7]\n",
    "\n",
    "S = A+B \n",
    "\n",
    "original_diff = np.mean(B) - np.mean(A)\n",
    "\n",
    "mean_diff = []\n",
    "for i in range(5000) :\n",
    "    np.random.seed(i)\n",
    "    s = np.random.choice(S, size = 12, replace=False) \n",
    "    s1 = s[:6]\n",
    "    s2 = s[6:]\n",
    "    \n",
    "    mean_diff.append(np.mean(s2) - np.mean(s1))\n",
    "    \n",
    "np.mean([1 if i >= original_diff else 0 for i in mean_diff])\n",
    "\n",
    "    \n",
    "    "
   ]
  },
  {
   "cell_type": "code",
   "execution_count": 82,
   "id": "4e97f693",
   "metadata": {},
   "outputs": [
    {
     "name": "stdout",
     "output_type": "stream",
     "text": [
      "0.017143853234682066\n"
     ]
    },
    {
     "data": {
      "text/plain": [
       "0.0266"
      ]
     },
     "execution_count": 82,
     "metadata": {},
     "output_type": "execute_result"
    }
   ],
   "source": [
    "import numpy as np\n",
    "from scipy import stats\n",
    "\n",
    "A = [3,5,6,7,8,7]\n",
    "B = [7,9,9,8,8,7]\n",
    "\n",
    "S = A+B \n",
    "\n",
    "statistics, pvalue = stats.ttest_ind(B,A, alternative = 'greater')\n",
    "print(pvalue)\n",
    "\n",
    "\n",
    "tstat = []\n",
    "for i in range(5000) :\n",
    "    np.random.seed(i)\n",
    "    s = np.random.choice(S, size = 12, replace=False) \n",
    "    s1 = s[:6]\n",
    "    s2 = s[6:]\n",
    "    sample_t, p_value = stats.ttest_ind(s2,s1)\n",
    "    tstat.append(sample_t)\n",
    "    \n",
    "np.mean([1 if i >= statistics else 0 for i in tstat])"
   ]
  },
  {
   "cell_type": "code",
   "execution_count": null,
   "id": "af2dc6bc",
   "metadata": {},
   "outputs": [],
   "source": []
  }
 ],
 "metadata": {
  "kernelspec": {
   "display_name": "hwankam",
   "language": "python",
   "name": "kkk"
  },
  "language_info": {
   "codemirror_mode": {
    "name": "ipython",
    "version": 3
   },
   "file_extension": ".py",
   "mimetype": "text/x-python",
   "name": "python",
   "nbconvert_exporter": "python",
   "pygments_lexer": "ipython3",
   "version": "3.7.10"
  }
 },
 "nbformat": 4,
 "nbformat_minor": 5
}
