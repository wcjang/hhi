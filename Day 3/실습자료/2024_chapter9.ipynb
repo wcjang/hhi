{
  "nbformat": 4,
  "nbformat_minor": 0,
  "metadata": {
    "colab": {
      "provenance": []
    },
    "kernelspec": {
      "name": "python3",
      "display_name": "Python 3"
    },
    "language_info": {
      "name": "python"
    }
  },
  "cells": [
    {
      "cell_type": "markdown",
      "source": [
        "\n",
        "## https://github.com/wcjang/hhi\n",
        "## Day 3 - 실습자료\n",
        "\n",
        "## 필요한 데이터는 아래와 같습니다.\n",
        "0. 2024_chapter9.ipynb  (한글 주석이 달려있는 파이썬 코드)\n",
        "1. LungDisease.csv\n",
        "2. house_sales.csv\n",
        "\n",
        "\n"
      ],
      "metadata": {
        "id": "ppuBsltQMRvM"
      }
    },
    {
      "cell_type": "markdown",
      "source": [
        "# 1. 단순선형회귀"
      ],
      "metadata": {
        "id": "qGxAVOPnKos3"
      }
    },
    {
      "cell_type": "code",
      "source": [
        "import pandas as pd\n",
        "import numpy as np\n",
        "from sklearn.metrics import r2_score, mean_squared_error\n",
        "from sklearn.linear_model import LinearRegression\n",
        "import statsmodels.api as sm\n",
        "import statsmodels.formula.api as smf\n",
        "\n",
        "import seaborn as sns\n",
        "import matplotlib.pyplot as plt"
      ],
      "metadata": {
        "id": "Cb2N7OnRMrIa"
      },
      "execution_count": 1,
      "outputs": []
    },
    {
      "cell_type": "code",
      "source": [
        "# 데이터 경로 설정\n",
        "DATA = '/content/drive/MyDrive/Colab Notebooks/data'\n",
        "\n",
        "LUNG_CSV = DATA + '/LungDisease.csv'\n",
        "HOUSE_CSV = DATA + '/house_sales.csv'\n",
        "\n",
        "# 데이터 불러오기\n",
        "lung = pd.read_csv(LUNG_CSV)\n",
        "lung.plot.scatter(x='Exposure', y='PEFR')\n",
        "\n",
        "plt.tight_layout()\n",
        "plt.show()"
      ],
      "metadata": {
        "colab": {
          "base_uri": "https://localhost:8080/",
          "height": 487
        },
        "id": "f-vGHZc1Mzxr",
        "outputId": "de14ac5e-e830-447f-fdd0-fda1500b0e14"
      },
      "execution_count": 2,
      "outputs": [
        {
          "output_type": "display_data",
          "data": {
            "text/plain": [
              "<Figure size 640x480 with 1 Axes>"
            ],
            "image/png": "[encoded data removed]"
          },
          "metadata": {}
        }
      ]
    },
    {
      "cell_type": "markdown",
      "source": [
        "위 산점도는 노동자들이 면진에 노출(Exposure)된 연수와 폐활량(PEFR)을 표시한 것이다.\n",
        "\n",
        "둘 간의 관계를 알아보기 위해 회귀직선을 적합시켜보자.\n",
        "\n"
      ],
      "metadata": {
        "id": "4taxy3niNOx4"
      }
    },
    {
      "cell_type": "markdown",
      "source": [
        "## 회귀분석"
      ],
      "metadata": {
        "id": "Kt7lHsw2TyEg"
      }
    },
    {
      "cell_type": "code",
      "source": [
        "# 회귀 분석(간단하게 계수만 확인하고 싶은 경우, LinearRegression 함수를 이용한다.)\n",
        "X = lung[['Exposure']]\n",
        "y = lung['PEFR']\n",
        "lung_lm = LinearRegression()\n",
        "lung_lm.fit(X, y)\n",
        "\n",
        "# 회귀계수 출력\n",
        "print(f'Intercept: {lung_lm.intercept_:.3f}')\n",
        "print(f'Coefficient of Exposure: {lung_lm.coef_[0]:.3f}')\n"
      ],
      "metadata": {
        "colab": {
          "base_uri": "https://localhost:8080/"
        },
        "id": "yWk_ANGHNdZ2",
        "outputId": "5cc66a1a-d0c9-4641-ed0d-ebef25d8d823"
      },
      "execution_count": 3,
      "outputs": [
        {
          "output_type": "stream",
          "name": "stdout",
          "text": [
            "Intercept: 424.583\n",
            "Coefficient of Exposure: -4.185\n"
          ]
        }
      ]
    },
    {
      "cell_type": "code",
      "source": [
        "# statsmodels 라이브러리를 이용해 회귀분석을 진행하면 다양한 값들을 한눈에 볼 수 있다.\n",
        "\n",
        "X = lung[['Exposure']]\n",
        "y = lung['PEFR']\n",
        "X = sm.add_constant(X)  # 상수항 추가 (절편을 위한 항)\n",
        "\n",
        "lung_model = sm.OLS(y, X).fit()  # 회귀 모델 적합\n",
        "print(lung_model.summary())  # 회귀 결과 요약 출력"
      ],
      "metadata": {
        "colab": {
          "base_uri": "https://localhost:8080/"
        },
        "id": "2d8FoktiQnJw",
        "outputId": "737dc285-c336-4dbc-fab1-bf68eb22ba9a"
      },
      "execution_count": 4,
      "outputs": [
        {
          "output_type": "stream",
          "name": "stdout",
          "text": [
            "                            OLS Regression Results                            \n",
            "==============================================================================\n",
            "Dep. Variable:                   PEFR   R-squared:                       0.077\n",
            "Model:                            OLS   Adj. R-squared:                  0.069\n",
            "Method:                 Least Squares   F-statistic:                     9.974\n",
            "Date:                Fri, 19 Jul 2024   Prob (F-statistic):            0.00201\n",
            "Time:                        01:08:12   Log-Likelihood:                -735.68\n",
            "No. Observations:                 122   AIC:                             1475.\n",
            "Df Residuals:                     120   BIC:                             1481.\n",
            "Df Model:                           1                                         \n",
            "Covariance Type:            nonrobust                                         \n",
            "==============================================================================\n",
            "                 coef    std err          t      P>|t|      [0.025      0.975]\n",
            "------------------------------------------------------------------------------\n",
            "const        424.5828     20.796     20.417      0.000     383.408     465.757\n",
            "Exposure      -4.1846      1.325     -3.158      0.002      -6.808      -1.561\n",
            "==============================================================================\n",
            "Omnibus:                        0.767   Durbin-Watson:                   1.111\n",
            "Prob(Omnibus):                  0.681   Jarque-Bera (JB):                0.891\n",
            "Skew:                          -0.162   Prob(JB):                        0.641\n",
            "Kurtosis:                       2.734   Cond. No.                         35.7\n",
            "==============================================================================\n",
            "\n",
            "Notes:\n",
            "[1] Standard Errors assume that the covariance matrix of the errors is correctly specified.\n"
          ]
        }
      ]
    },
    {
      "cell_type": "markdown",
      "source": [
        "- Exposure의 p-value가 0.002로 굉장히 작다. \\\n",
        " 이는 **Exposure의 효과가 없다** 라는 귀무가설을 적절한 유의수준 하에서 기각할 수 있음을 의미한다.(유의수준 0.05 하에서 기각 가능)\n",
        "\n",
        "- 기울기에 대한 해석 2가지\n",
        "   - Exposure의 회귀계수는 -4.18이다. 즉, Exposure가 한 단위(연수) 증가하면, 폐활량(PEFR)은 약 4.18만큼 줄어든다고 해석할 수 있다. (인과관계 여부가 명확하지 않다.)\n",
        "\n",
        "  - Exposure가 1단위 차이나는 사람들을 두 그룹으로 나누었을경우, 두 그룹의 폐활량 차이가 4.18이다. (Exposure가 큰 그룹이 폐활량이 더 작다.)"
      ],
      "metadata": {
        "id": "cnPcwa4QRBbD"
      }
    },
    {
      "cell_type": "code",
      "source": [
        "# 회귀직선 시각화\n",
        "\n",
        "# 앞서 그린 산점도를 다시 그리기\n",
        "ax = lung.plot.scatter(x='Exposure', y='PEFR')\n",
        "\n",
        "# 회귀 직선 추가\n",
        "x_range = np.linspace(lung['Exposure'].min(), lung['Exposure'].max(), 100)  # X의 최소값부터 최대값까지의 범위 생성\n",
        "x_range_const = sm.add_constant(x_range)  # 생성한 범위에 상수항 추가\n",
        "y_range = lung_model.predict(x_range_const)  # 회귀 모델을 사용하여 y 값 예측\n",
        "ax.plot(x_range, y_range, color='red', linewidth=2)  # 회귀 직선을 빨간색으로 그리기\n",
        "\n",
        "plt.tight_layout()\n",
        "plt.show()"
      ],
      "metadata": {
        "colab": {
          "base_uri": "https://localhost:8080/",
          "height": 487
        },
        "id": "9DC_P1x6PsOq",
        "outputId": "900f43d9-d87d-4b16-b1a2-8b1af13f95e0"
      },
      "execution_count": 5,
      "outputs": [
        {
          "output_type": "display_data",
          "data": {
            "text/plain": [
              "<Figure size 640x480 with 1 Axes>"
            ],
            "image/png": "[encoded data removed]"
          },
          "metadata": {}
        }
      ]
    },
    {
      "cell_type": "markdown",
      "source": [
        "## 잔차"
      ],
      "metadata": {
        "id": "Chm9NSVQT1GT"
      }
    },
    {
      "cell_type": "code",
      "source": [
        "# 잔차 계산\n",
        "residuals = lung_model.resid\n",
        "\n",
        "# R-squared 값 계산\n",
        "r_squared = lung_model.rsquared\n",
        "\n",
        "# R-squared 값 출력\n",
        "print(\"R-squared 값:\", r_squared)\n",
        "\n",
        "\n",
        "# 그래프 그리기\n",
        "fig, axs = plt.subplots(1,2, figsize=(16,10)) #잔차 plot과 산점도를 동시에 보기\n",
        "\n",
        "# 첫 번째 플롯: 잔차 플롯\n",
        "axs[0].scatter(X['Exposure'], residuals, color='blue', alpha=0.5)\n",
        "axs[0].axhline(y=0, color='red', linestyle='--', linewidth=2)\n",
        "axs[0].set_xlabel('Exposure')\n",
        "axs[0].set_ylabel('Residuals')\n",
        "axs[0].set_title('Residuals Plot')\n",
        "\n",
        "# 두 번째 플롯: 산점도와 회귀 직선\n",
        "axs[1].scatter(lung['Exposure'], lung['PEFR'], alpha=0.5)\n",
        "x_range = np.linspace(X['Exposure'].min(), X['Exposure'].max(), 100)\n",
        "y_range = lung_model.predict(sm.add_constant(x_range))\n",
        "axs[1].plot(x_range, y_range, color='red', linestyle='--', linewidth=2)\n",
        "axs[1].set_xlabel('Exposure')\n",
        "axs[1].set_ylabel('PEFR')\n",
        "axs[1].set_title(f'Scatter Plot with Regression Line\\nR-squared: {r_squared:.4f}')\n",
        "\n",
        "# 레이아웃 조정\n",
        "plt.tight_layout()\n",
        "\n",
        "# 그래프 보여주기\n",
        "plt.show()"
      ],
      "metadata": {
        "colab": {
          "base_uri": "https://localhost:8080/",
          "height": 457
        },
        "id": "a95emRh8R4Ii",
        "outputId": "77b4d0cd-1048-4b86-d016-9bf1380fa447"
      },
      "execution_count": 6,
      "outputs": [
        {
          "output_type": "stream",
          "name": "stdout",
          "text": [
            "R-squared 값: 0.07674102286283369\n"
          ]
        },
        {
          "output_type": "display_data",
          "data": {
            "text/plain": [
              "<Figure size 1600x1000 with 2 Axes>"
            ],
            "image/png": "[encoded data removed]"
          },
          "metadata": {}
        }
      ]
    },
    {
      "cell_type": "markdown",
      "source": [
        "- $R^2$ 값이 매우 낮다. 모델의 설명력이 그리 좋지 못하다고 말할 수 있다.\n",
        "- 잔차 Plot을 보면 잔차들이 랜덤하게 분포되어 있는 것 처럼 보인다."
      ],
      "metadata": {
        "id": "zTu9hNn_PrH8"
      }
    },
    {
      "cell_type": "markdown",
      "source": [
        "# 2. 다중선형회귀\n",
        "\n",
        "- 회귀직선 적합, 회귀계수, 표준오차 등등\n",
        "- 회귀계수의 해석\n"
      ],
      "metadata": {
        "id": "GPNF-a9ULapc"
      }
    },
    {
      "cell_type": "code",
      "source": [
        "# 데이터 불러오기\n",
        "subset = ['AdjSalePrice', 'SqFtTotLiving', 'SqFtLot', 'Bathrooms',\n",
        "          'Bedrooms', 'BldgGrade']\n",
        "\n",
        "house = pd.read_csv(HOUSE_CSV, sep='\\t')\n",
        "print(house[subset].head())"
      ],
      "metadata": {
        "colab": {
          "base_uri": "https://localhost:8080/"
        },
        "id": "XJedi_PFT9xx",
        "outputId": "8dfad9a7-6784-4db8-e096-7e9807be10f5"
      },
      "execution_count": 7,
      "outputs": [
        {
          "output_type": "stream",
          "name": "stdout",
          "text": [
            "   AdjSalePrice  SqFtTotLiving  SqFtLot  Bathrooms  Bedrooms  BldgGrade\n",
            "1      300805.0           2400     9373       3.00         6          7\n",
            "2     1076162.0           3764    20156       3.75         4         10\n",
            "3      761805.0           2060    26036       1.75         4          8\n",
            "4      442065.0           3200     8618       3.75         5          7\n",
            "5      297065.0           1720     8620       1.75         4          7\n"
          ]
        }
      ]
    },
    {
      "cell_type": "code",
      "source": [
        "# 예측변수와 반응변수 지정\n",
        "predictors = ['SqFtTotLiving', 'SqFtLot', 'Bathrooms',\n",
        "              'Bedrooms', 'BldgGrade']\n",
        "outcome = 'AdjSalePrice'\n",
        "\n",
        "# 다중회귀모형 적합\n",
        "house_lm = LinearRegression()\n",
        "house_lm.fit(house[predictors], house[outcome])\n",
        "\n",
        "# 다중회귀계수와 절편항 출력\n",
        "print(f'Intercept: {house_lm.intercept_:.3f}')\n",
        "print('Coefficients:')\n",
        "for name, coef in zip(predictors, house_lm.coef_):\n",
        "    print(f' {name}: {coef}')"
      ],
      "metadata": {
        "colab": {
          "base_uri": "https://localhost:8080/"
        },
        "id": "mK3ApLTWUCEB",
        "outputId": "65414dce-61c6-4a5d-98f6-219621354fc1"
      },
      "execution_count": 8,
      "outputs": [
        {
          "output_type": "stream",
          "name": "stdout",
          "text": [
            "Intercept: -521871.368\n",
            "Coefficients:\n",
            " SqFtTotLiving: 228.83060360240793\n",
            " SqFtLot: -0.06046682065307607\n",
            " Bathrooms: -19442.840398321066\n",
            " Bedrooms: -47769.95518521438\n",
            " BldgGrade: 106106.96307898081\n"
          ]
        }
      ]
    },
    {
      "cell_type": "code",
      "source": [
        "# sm.OLS 이용한 다중회귀 적합\n",
        "X = house[predictors]\n",
        "y = house[outcome]\n",
        "\n",
        "X = sm.add_constant(X)  # 상수항 추가 (절편을 위한 항)\n",
        "\n",
        "house_model = sm.OLS(y, X).fit()  # 회귀 모델 적합\n",
        "print(house_model.summary())  # 회귀 결과 요약 출력"
      ],
      "metadata": {
        "colab": {
          "base_uri": "https://localhost:8080/"
        },
        "id": "ahshvoYpUYmX",
        "outputId": "4fc0ca0c-19e9-457c-e533-cfbc4b7c4de5"
      },
      "execution_count": 9,
      "outputs": [
        {
          "output_type": "stream",
          "name": "stdout",
          "text": [
            "                            OLS Regression Results                            \n",
            "==============================================================================\n",
            "Dep. Variable:           AdjSalePrice   R-squared:                       0.541\n",
            "Model:                            OLS   Adj. R-squared:                  0.540\n",
            "Method:                 Least Squares   F-statistic:                     5338.\n",
            "Date:                Fri, 19 Jul 2024   Prob (F-statistic):               0.00\n",
            "Time:                        01:08:14   Log-Likelihood:            -3.1517e+05\n",
            "No. Observations:               22687   AIC:                         6.304e+05\n",
            "Df Residuals:                   22681   BIC:                         6.304e+05\n",
            "Df Model:                           5                                         \n",
            "Covariance Type:            nonrobust                                         \n",
            "=================================================================================\n",
            "                    coef    std err          t      P>|t|      [0.025      0.975]\n",
            "---------------------------------------------------------------------------------\n",
            "const         -5.219e+05   1.57e+04    -33.342      0.000   -5.53e+05   -4.91e+05\n",
            "SqFtTotLiving   228.8306      3.899     58.694      0.000     221.189     236.472\n",
            "SqFtLot          -0.0605      0.061     -0.988      0.323      -0.180       0.059\n",
            "Bathrooms     -1.944e+04   3625.388     -5.363      0.000   -2.65e+04   -1.23e+04\n",
            "Bedrooms      -4.777e+04   2489.732    -19.187      0.000   -5.27e+04   -4.29e+04\n",
            "BldgGrade      1.061e+05   2396.445     44.277      0.000    1.01e+05    1.11e+05\n",
            "==============================================================================\n",
            "Omnibus:                    29676.557   Durbin-Watson:                   1.247\n",
            "Prob(Omnibus):                  0.000   Jarque-Bera (JB):         19390738.346\n",
            "Skew:                           6.889   Prob(JB):                         0.00\n",
            "Kurtosis:                     145.559   Cond. No.                     2.86e+05\n",
            "==============================================================================\n",
            "\n",
            "Notes:\n",
            "[1] Standard Errors assume that the covariance matrix of the errors is correctly specified.\n",
            "[2] The condition number is large, 2.86e+05. This might indicate that there are\n",
            "strong multicollinearity or other numerical problems.\n"
          ]
        }
      ]
    },
    {
      "cell_type": "markdown",
      "source": [
        "- p값이 낮을수록 예측변수가 유의함을 의미한다.\n",
        "- SqFtLot은 p=0.323으로, 유의하지 않은 변수이다.\n",
        "- SqFtLot을 빼고 다시 적합시켜보자."
      ],
      "metadata": {
        "id": "FA7cm_l7T49Q"
      }
    },
    {
      "cell_type": "code",
      "source": [
        "# SqFtLot 빼고 다시 적합\n",
        "predictors = ['SqFtTotLiving', 'SqFtLot', 'Bathrooms',\n",
        "              'Bedrooms', 'BldgGrade'] #기존의 predictors\n",
        "\n",
        "predictors.remove('SqFtLot')\n",
        "\n",
        "X = house[predictors]\n",
        "X = sm.add_constant(X)  # 상수항 추가 (절편을 위한 항)\n",
        "\n",
        "house_model = sm.OLS(y, X).fit()  # 회귀 모델 적합\n",
        "print(house_model.summary())  # 회귀 결과 요약 출력"
      ],
      "metadata": {
        "colab": {
          "base_uri": "https://localhost:8080/"
        },
        "id": "xel9VHZ-Vw0l",
        "outputId": "f2a6a22c-038d-4681-cf5c-71f92d760b40"
      },
      "execution_count": 10,
      "outputs": [
        {
          "output_type": "stream",
          "name": "stdout",
          "text": [
            "                            OLS Regression Results                            \n",
            "==============================================================================\n",
            "Dep. Variable:           AdjSalePrice   R-squared:                       0.541\n",
            "Model:                            OLS   Adj. R-squared:                  0.540\n",
            "Method:                 Least Squares   F-statistic:                     6672.\n",
            "Date:                Fri, 19 Jul 2024   Prob (F-statistic):               0.00\n",
            "Time:                        01:08:14   Log-Likelihood:            -3.1517e+05\n",
            "No. Observations:               22687   AIC:                         6.303e+05\n",
            "Df Residuals:                   22682   BIC:                         6.304e+05\n",
            "Df Model:                           4                                         \n",
            "Covariance Type:            nonrobust                                         \n",
            "=================================================================================\n",
            "                    coef    std err          t      P>|t|      [0.025      0.975]\n",
            "---------------------------------------------------------------------------------\n",
            "const         -5.224e+05   1.56e+04    -33.391      0.000   -5.53e+05   -4.92e+05\n",
            "SqFtTotLiving   228.2288      3.851     59.267      0.000     220.681     235.777\n",
            "Bathrooms     -1.925e+04   3619.871     -5.317      0.000   -2.63e+04   -1.22e+04\n",
            "Bedrooms      -4.764e+04   2486.224    -19.161      0.000   -5.25e+04   -4.28e+04\n",
            "BldgGrade      1.061e+05   2396.348     44.287      0.000    1.01e+05    1.11e+05\n",
            "==============================================================================\n",
            "Omnibus:                    29681.423   Durbin-Watson:                   1.246\n",
            "Prob(Omnibus):                  0.000   Jarque-Bera (JB):         19397030.121\n",
            "Skew:                           6.892   Prob(JB):                         0.00\n",
            "Kurtosis:                     145.582   Cond. No.                     2.07e+04\n",
            "==============================================================================\n",
            "\n",
            "Notes:\n",
            "[1] Standard Errors assume that the covariance matrix of the errors is correctly specified.\n",
            "[2] The condition number is large, 2.07e+04. This might indicate that there are\n",
            "strong multicollinearity or other numerical problems.\n"
          ]
        }
      ]
    },
    {
      "cell_type": "markdown",
      "source": [
        "- 모두 유의한 변수만 남았다.\n",
        "- $R^2$ = 0.541로, 위 4개의 변수들이 집값의 54.1%를 설명함을 의미한다.\n",
        "- SqFtTotLiving (집 면적) 이 1단위 증가하면, AdjSalePrice(주택 가격)이 228불 증가한다.\n"
      ],
      "metadata": {
        "id": "kBO3NbDjWw-G"
      }
    },
    {
      "cell_type": "markdown",
      "source": [
        "# 3. 분산분석과 회귀모형"
      ],
      "metadata": {
        "id": "o3QEBdGLLqdE"
      }
    },
    {
      "cell_type": "markdown",
      "source": [
        "분산분석(ANOVA)\n",
        "- 여러 집단 간의 평균을 비교할 때 사용하는 통계적 기법\n",
        "- 앞선 킹 카운티 주택가격 데이터를 이용해 분산분석을 진행해 보고자 한다.\n",
        "- 이 데이터에는 다음과 같이 주거 형태에 관한 요인변수가 주어져있다."
      ],
      "metadata": {
        "id": "60Wx2pA-Yz9J"
      }
    },
    {
      "cell_type": "code",
      "source": [
        "print(house.PropertyType.value_counts())"
      ],
      "metadata": {
        "colab": {
          "base_uri": "https://localhost:8080/"
        },
        "id": "rtZA-IFVZ3qV",
        "outputId": "db6fabbe-fa5a-4eb2-be0f-06701915aa4c"
      },
      "execution_count": 11,
      "outputs": [
        {
          "output_type": "stream",
          "name": "stdout",
          "text": [
            "PropertyType\n",
            "Single Family    20720\n",
            "Townhouse         1710\n",
            "Multiplex          257\n",
            "Name: count, dtype: int64\n"
          ]
        }
      ]
    },
    {
      "cell_type": "markdown",
      "source": [
        "## 분산분석 (ANOVA)\n",
        "\n",
        "- scipy 라이브러리의 f_oneway 함수를 사용한다."
      ],
      "metadata": {
        "id": "say3pNtvdCcO"
      }
    },
    {
      "cell_type": "code",
      "source": [
        "# ANOVA 수행\n",
        "\n",
        "from scipy.stats import f_oneway\n",
        "\n",
        "f_stat, p_value = f_oneway(\n",
        "    house[house['PropertyType'] == 'Multiplex']['AdjSalePrice'],\n",
        "    house[house['PropertyType'] == 'Single Family']['AdjSalePrice'],\n",
        "    house[house['PropertyType'] == 'Townhouse']['AdjSalePrice']\n",
        ") #여러 집단의 평균을 비교\n",
        "\n",
        "print(f'F-statistic: {f_stat:.2f}')\n",
        "print(f'P-value: {p_value:.4f}')\n",
        "\n",
        "# 결과 해석\n",
        "alpha = 0.05\n",
        "if p_value < alpha:\n",
        "    print(\"주택 유형에 따른 가격 차이가 유의미합니다.\")\n",
        "else:\n",
        "    print(\"주택 유형에 따른 가격 차이가 유의미하지 않습니다.\")"
      ],
      "metadata": {
        "colab": {
          "base_uri": "https://localhost:8080/"
        },
        "id": "8O6HjbzTdFjk",
        "outputId": "0768f416-9fee-4416-a006-edd17dffe854"
      },
      "execution_count": 12,
      "outputs": [
        {
          "output_type": "stream",
          "name": "stdout",
          "text": [
            "F-statistic: 92.09\n",
            "P-value: 0.0000\n",
            "주택 유형에 따른 가격 차이가 유의미합니다.\n"
          ]
        }
      ]
    },
    {
      "cell_type": "markdown",
      "source": [
        "여러 집단 간의 평균을 비교하고 싶은 경우, 위와 같이 분산분석을 이용해 간단히 결과를 출력할 수 있다. \\\n",
        "또는, 앞서 배운 다중회귀를 이용해 여러 집단을 비교할 수도 있다. 이 방법에 대하여 알아보자.\n",
        "\n"
      ],
      "metadata": {
        "id": "m2GJXRjVOyPc"
      }
    },
    {
      "cell_type": "markdown",
      "source": [
        "## 회귀모형 (가변수 사용)"
      ],
      "metadata": {
        "id": "ipMjHolvdWYd"
      }
    },
    {
      "cell_type": "code",
      "source": [
        "#get_dummies를 이용해 가변수를 만든다. 총 3개의 범주를 확인할 수 있다. (K=3)\n",
        "print(pd.get_dummies(house['PropertyType'], dtype=int).head())"
      ],
      "metadata": {
        "colab": {
          "base_uri": "https://localhost:8080/"
        },
        "id": "_thJhBgYaT3t",
        "outputId": "3c8021eb-2639-434c-b274-a58f3718f097"
      },
      "execution_count": 13,
      "outputs": [
        {
          "output_type": "stream",
          "name": "stdout",
          "text": [
            "   Multiplex  Single Family  Townhouse\n",
            "1          1              0          0\n",
            "2          0              1          0\n",
            "3          0              1          0\n",
            "4          0              1          0\n",
            "5          0              1          0\n"
          ]
        }
      ]
    },
    {
      "cell_type": "code",
      "source": [
        "# drop_first=True를 이용해 가변수의 개수가 K-1이 되도록 만든다.\n",
        "# K가 아니라 K-1인 이유는?\n",
        "# 나머지 두 가변수의 값을 안다면, house PropertyType을 바로 알 수 있기 때문이다.\n",
        "## (1,0) : Single Family\n",
        "## (0,1) : Townhouse\n",
        "## (0,0) : Multiplex\n",
        "\n",
        "print(pd.get_dummies(house['PropertyType'], drop_first=True, dtype=int).head())"
      ],
      "metadata": {
        "colab": {
          "base_uri": "https://localhost:8080/"
        },
        "id": "dm-kla1OadwP",
        "outputId": "843d65fa-70d1-4293-ea4f-73a10d8dd0a1"
      },
      "execution_count": 14,
      "outputs": [
        {
          "output_type": "stream",
          "name": "stdout",
          "text": [
            "   Single Family  Townhouse\n",
            "1              0          0\n",
            "2              1          0\n",
            "3              1          0\n",
            "4              1          0\n",
            "5              1          0\n"
          ]
        }
      ]
    },
    {
      "cell_type": "code",
      "source": [
        "# LinearRegression 이용한 다중회귀 적합\n",
        "\n",
        "predictors = ['SqFtTotLiving', 'SqFtLot', 'Bathrooms', 'Bedrooms',\n",
        "              'BldgGrade', 'PropertyType']\n",
        "              # 이 중 PropertyType이 범주형 변수이고,\n",
        "              # 이 Type에 따른 주택 가격 차이가 얼마나 나는지 알고싶다.\n",
        "\n",
        "X = pd.get_dummies(house[predictors], drop_first=True, dtype=int) #가변수를 이용한다.\n",
        "y = house['AdjSalePrice']\n",
        "\n",
        "house_lm_factor = LinearRegression()\n",
        "house_lm_factor.fit(X, y)\n",
        "\n",
        "print(f'Intercept: {house_lm_factor.intercept_:.3f}')\n",
        "print('Coefficients:')\n",
        "for name, coef in zip(X.columns, house_lm_factor.coef_):\n",
        "    print(f' {name}: {coef}')"
      ],
      "metadata": {
        "colab": {
          "base_uri": "https://localhost:8080/"
        },
        "id": "8p65I-XuaMR7",
        "outputId": "0848885e-d889-4def-f77f-8f20c4a53e45"
      },
      "execution_count": 15,
      "outputs": [
        {
          "output_type": "stream",
          "name": "stdout",
          "text": [
            "Intercept: -446841.366\n",
            "Coefficients:\n",
            " SqFtTotLiving: 223.37362892503828\n",
            " SqFtLot: -0.07036798136813083\n",
            " Bathrooms: -15979.013473415205\n",
            " Bedrooms: -50889.73218483025\n",
            " BldgGrade: 109416.30516146179\n",
            " PropertyType_Single Family: -84678.21629549257\n",
            " PropertyType_Townhouse: -115121.97921609184\n"
          ]
        }
      ]
    },
    {
      "cell_type": "markdown",
      "source": [
        "해석은 다음과 같다.\n",
        "- PropertyType_Single Family = 0, PropertyType_Townhouse = 0일 때, Multiplex는 암묵적으로 정의된다.\n",
        "- Single Family인 주택은 Multiplex보다 약 85,000불정도 주택가치가 낮다.\n",
        "- Townhouse인 주택은 Multiplex보다 약 150,000불 정도 주택가치가 낮다.\n",
        "\n",
        "\\\n",
        "\n",
        "- 추가적으로, **모든 회귀계수 = 0인지**에 대한 F-검정통계량의 분포는 이전처럼 sm.OLS를 이용해 쉽게 구할 수 있다."
      ],
      "metadata": {
        "id": "QaXsIJh-a8uN"
      }
    },
    {
      "cell_type": "code",
      "source": [
        "# sm.OLS 이용한 다중회귀 적합\n",
        "\n",
        "X = sm.add_constant(X) # 상수항 추가 (절편을 위한 항)\n",
        "\n",
        "# OLS 모델 적합\n",
        "model = sm.OLS(y, X).fit()\n",
        "\n",
        "# 회귀 모델 요약 출력\n",
        "print(model.summary())"
      ],
      "metadata": {
        "colab": {
          "base_uri": "https://localhost:8080/"
        },
        "id": "sJT6RTa_bMu4",
        "outputId": "4010d01e-0555-4370-8b07-e979173b94f4"
      },
      "execution_count": 16,
      "outputs": [
        {
          "output_type": "stream",
          "name": "stdout",
          "text": [
            "                            OLS Regression Results                            \n",
            "==============================================================================\n",
            "Dep. Variable:           AdjSalePrice   R-squared:                       0.541\n",
            "Model:                            OLS   Adj. R-squared:                  0.541\n",
            "Method:                 Least Squares   F-statistic:                     3826.\n",
            "Date:                Fri, 19 Jul 2024   Prob (F-statistic):               0.00\n",
            "Time:                        01:08:15   Log-Likelihood:            -3.1515e+05\n",
            "No. Observations:               22687   AIC:                         6.303e+05\n",
            "Df Residuals:                   22679   BIC:                         6.304e+05\n",
            "Df Model:                           7                                         \n",
            "Covariance Type:            nonrobust                                         \n",
            "==============================================================================================\n",
            "                                 coef    std err          t      P>|t|      [0.025      0.975]\n",
            "----------------------------------------------------------------------------------------------\n",
            "const                      -4.468e+05   2.24e+04    -19.983      0.000   -4.91e+05   -4.03e+05\n",
            "SqFtTotLiving                223.3736      4.130     54.086      0.000     215.279     231.469\n",
            "SqFtLot                       -0.0704      0.061     -1.149      0.250      -0.190       0.050\n",
            "Bathrooms                  -1.598e+04   3809.880     -4.194      0.000   -2.34e+04   -8511.388\n",
            "Bedrooms                   -5.089e+04   2538.018    -20.051      0.000   -5.59e+04   -4.59e+04\n",
            "BldgGrade                   1.094e+05   2457.532     44.523      0.000    1.05e+05    1.14e+05\n",
            "PropertyType_Single Family -8.468e+04   1.66e+04     -5.086      0.000   -1.17e+05    -5.2e+04\n",
            "PropertyType_Townhouse     -1.151e+05   1.82e+04     -6.339      0.000   -1.51e+05   -7.95e+04\n",
            "==============================================================================\n",
            "Omnibus:                    29765.071   Durbin-Watson:                   1.249\n",
            "Prob(Omnibus):                  0.000   Jarque-Bera (JB):         19690586.557\n",
            "Skew:                           6.926   Prob(JB):                         0.00\n",
            "Kurtosis:                     146.660   Cond. No.                     5.45e+05\n",
            "==============================================================================\n",
            "\n",
            "Notes:\n",
            "[1] Standard Errors assume that the covariance matrix of the errors is correctly specified.\n",
            "[2] The condition number is large, 5.45e+05. This might indicate that there are\n",
            "strong multicollinearity or other numerical problems.\n"
          ]
        }
      ]
    },
    {
      "cell_type": "markdown",
      "source": [
        "p가 거의 0에 가까우므로, 모든 계수가 0은 아니다. 즉, **모든 계수가 0이다** 라는 귀무가설을 기각한다. (앞선 분산분석의 결과와 같다.)"
      ],
      "metadata": {
        "id": "GALMVDIQcnfY"
      }
    },
    {
      "cell_type": "markdown",
      "source": [
        "## 교호작용\n",
        "\n",
        "- 킹 카운티 주택가격 데이터를 다시 살펴보자.\n",
        "- 부동산의 경우 위치가 매우 중요하다. 즉, **주택 크기와 매매 가격 사이 관계가 위치에 달려있다**고 가정해볼 수 있다.\n",
        "- 임대료가 싼 지역 + 큰 집 = 임대료가 비싼 지역 + 큰 집\n",
        "- 위 둘의 가치는 같지 않다.\n",
        "- 따라서, SqFtTotLiving (집 면적)와 ZipCode(우편번호) 간의 교호작용을 고려하여 모델을 적합시켜야한다.\n",
        "\n",
        "- 먼저, 집의 위치를 나타내는 ZipCode 변수에 대해 살펴보자."
      ],
      "metadata": {
        "id": "yO95MP7LdtTg"
      }
    },
    {
      "cell_type": "code",
      "source": [
        "house.ZipCode.value_counts() #총 80개의 우편번호가 있다."
      ],
      "metadata": {
        "colab": {
          "base_uri": "https://localhost:8080/"
        },
        "id": "EeXAr6K1cF6m",
        "outputId": "89fa7551-643a-47bc-c5a3-e3501c01daea"
      },
      "execution_count": 17,
      "outputs": [
        {
          "output_type": "execute_result",
          "data": {
            "text/plain": [
              "ZipCode\n",
              "98038    788\n",
              "98103    671\n",
              "98042    641\n",
              "98115    620\n",
              "98117    619\n",
              "        ... \n",
              "98288      4\n",
              "98224      3\n",
              "98068      1\n",
              "98113      1\n",
              "98043      1\n",
              "Name: count, Length: 80, dtype: int64"
            ]
          },
          "metadata": {},
          "execution_count": 17
        }
      ]
    },
    {
      "cell_type": "markdown",
      "source": [
        "- 80개의 우편번호 하나하나에 대해 가변수를 만들거나 그룹화하는것은 너무 복잡하다.\n",
        "- 우편번호 당 집이 1개인 곳들도 있다.\n",
        "- 따라서, 우편번호들 중 집값이 비슷한 구간들을 하나로 묶어 그룹화하고자 한다."
      ],
      "metadata": {
        "id": "oWW8HlkcP9uP"
      }
    },
    {
      "cell_type": "code",
      "source": [
        "# 집값을 예측하는 다중회귀모델 적합\n",
        "\n",
        "predictors = ['SqFtTotLiving', 'SqFtLot', 'Bathrooms',\n",
        "              'Bedrooms', 'BldgGrade']\n",
        "outcome = 'AdjSalePrice'\n",
        "\n",
        "house_lm = LinearRegression()\n",
        "house_lm.fit(house[predictors], house[outcome])"
      ],
      "metadata": {
        "colab": {
          "base_uri": "https://localhost:8080/",
          "height": 74
        },
        "id": "VU6_2coUgAei",
        "outputId": "45b9f2a0-0fc0-4ae8-fc5a-49287cdda54e"
      },
      "execution_count": 18,
      "outputs": [
        {
          "output_type": "execute_result",
          "data": {
            "text/plain": [
              "LinearRegression()"
            ],
            "text/html": [
              "<style>#sk-container-id-1 {color: black;background-color: white;}#sk-container-id-1 pre{padding: 0;}#sk-container-id-1 div.sk-toggleable {background-color: white;}#sk-container-id-1 label.sk-toggleable__label {cursor: pointer;display: block;width: 100%;margin-bottom: 0;padding: 0.3em;box-sizing: border-box;text-align: center;}#sk-container-id-1 label.sk-toggleable__label-arrow:before {content: \"▸\";float: left;margin-right: 0.25em;color: #696969;}#sk-container-id-1 label.sk-toggleable__label-arrow:hover:before {color: black;}#sk-container-id-1 div.sk-estimator:hover label.sk-toggleable__label-arrow:before {color: black;}#sk-container-id-1 div.sk-toggleable__content {max-height: 0;max-width: 0;overflow: hidden;text-align: left;background-color: #f0f8ff;}#sk-container-id-1 div.sk-toggleable__content pre {margin: 0.2em;color: black;border-radius: 0.25em;background-color: #f0f8ff;}#sk-container-id-1 input.sk-toggleable__control:checked~div.sk-toggleable__content {max-height: 200px;max-width: 100%;overflow: auto;}#sk-container-id-1 input.sk-toggleable__control:checked~label.sk-toggleable__label-arrow:before {content: \"▾\";}#sk-container-id-1 div.sk-estimator input.sk-toggleable__control:checked~label.sk-toggleable__label {background-color: #d4ebff;}#sk-container-id-1 div.sk-label input.sk-toggleable__control:checked~label.sk-toggleable__label {background-color: #d4ebff;}#sk-container-id-1 input.sk-hidden--visually {border: 0;clip: rect(1px 1px 1px 1px);clip: rect(1px, 1px, 1px, 1px);height: 1px;margin: -1px;overflow: hidden;padding: 0;position: absolute;width: 1px;}#sk-container-id-1 div.sk-estimator {font-family: monospace;background-color: #f0f8ff;border: 1px dotted black;border-radius: 0.25em;box-sizing: border-box;margin-bottom: 0.5em;}#sk-container-id-1 div.sk-estimator:hover {background-color: #d4ebff;}#sk-container-id-1 div.sk-parallel-item::after {content: \"\";width: 100%;border-bottom: 1px solid gray;flex-grow: 1;}#sk-container-id-1 div.sk-label:hover label.sk-toggleable__label {background-color: #d4ebff;}#sk-container-id-1 div.sk-serial::before {content: \"\";position: absolute;border-left: 1px solid gray;box-sizing: border-box;top: 0;bottom: 0;left: 50%;z-index: 0;}#sk-container-id-1 div.sk-serial {display: flex;flex-direction: column;align-items: center;background-color: white;padding-right: 0.2em;padding-left: 0.2em;position: relative;}#sk-container-id-1 div.sk-item {position: relative;z-index: 1;}#sk-container-id-1 div.sk-parallel {display: flex;align-items: stretch;justify-content: center;background-color: white;position: relative;}#sk-container-id-1 div.sk-item::before, #sk-container-id-1 div.sk-parallel-item::before {content: \"\";position: absolute;border-left: 1px solid gray;box-sizing: border-box;top: 0;bottom: 0;left: 50%;z-index: -1;}#sk-container-id-1 div.sk-parallel-item {display: flex;flex-direction: column;z-index: 1;position: relative;background-color: white;}#sk-container-id-1 div.sk-parallel-item:first-child::after {align-self: flex-end;width: 50%;}#sk-container-id-1 div.sk-parallel-item:last-child::after {align-self: flex-start;width: 50%;}#sk-container-id-1 div.sk-parallel-item:only-child::after {width: 0;}#sk-container-id-1 div.sk-dashed-wrapped {border: 1px dashed gray;margin: 0 0.4em 0.5em 0.4em;box-sizing: border-box;padding-bottom: 0.4em;background-color: white;}#sk-container-id-1 div.sk-label label {font-family: monospace;font-weight: bold;display: inline-block;line-height: 1.2em;}#sk-container-id-1 div.sk-label-container {text-align: center;}#sk-container-id-1 div.sk-container {/* jupyter's `normalize.less` sets `[hidden] { display: none; }` but bootstrap.min.css set `[hidden] { display: none !important; }` so we also need the `!important` here to be able to override the default hidden behavior on the sphinx rendered scikit-learn.org. See: https://github.com/scikit-learn/scikit-learn/issues/21755 */display: inline-block !important;position: relative;}#sk-container-id-1 div.sk-text-repr-fallback {display: none;}</style><div id=\"sk-container-id-1\" class=\"sk-top-container\"><div class=\"sk-text-repr-fallback\"><pre>LinearRegression()</pre><b>In a Jupyter environment, please rerun this cell to show the HTML representation or trust the notebook. <br />On GitHub, the HTML representation is unable to render, please try loading this page with nbviewer.org.</b></div><div class=\"sk-container\" hidden><div class=\"sk-item\"><div class=\"sk-estimator sk-toggleable\"><input class=\"sk-toggleable__control sk-hidden--visually\" id=\"sk-estimator-id-1\" type=\"checkbox\" checked><label for=\"sk-estimator-id-1\" class=\"sk-toggleable__label sk-toggleable__label-arrow\">LinearRegression</label><div class=\"sk-toggleable__content\"><pre>LinearRegression()</pre></div></div></div></div></div>"
            ]
          },
          "metadata": {},
          "execution_count": 18
        }
      ]
    },
    {
      "cell_type": "code",
      "source": [
        "# 우편번호가 같은 집들끼리 잔차를 계산해 그 중간값을 median_residual로 반환한다.\n",
        "zip_groups = pd.DataFrame([\n",
        "    *pd.DataFrame({\n",
        "        'ZipCode': house['ZipCode'],\n",
        "        'residual' : house[outcome] - house_lm.predict(house[predictors]),\n",
        "    })\n",
        "    .groupby(['ZipCode'])\n",
        "    .apply(lambda x: {\n",
        "        'ZipCode': x.iloc[0,0],\n",
        "        'count': len(x),\n",
        "        'median_residual': x.residual.median()\n",
        "    })\n",
        "]).sort_values('median_residual') #잔차가 작은 것부터 큰 순으로 나열한다.\n",
        "\n",
        "zip_groups"
      ],
      "metadata": {
        "colab": {
          "base_uri": "https://localhost:8080/",
          "height": 423
        },
        "id": "xx59hQjwgdg5",
        "outputId": "09169972-8b45-45e1-d7fc-b21c72cec842"
      },
      "execution_count": 19,
      "outputs": [
        {
          "output_type": "execute_result",
          "data": {
            "text/plain": [
              "    ZipCode  count  median_residual\n",
              "36    98057      4   -537321.644462\n",
              "27    98043      1   -307661.343614\n",
              "46    98092    289   -193569.183599\n",
              "23    98038    788   -150066.477035\n",
              "31    98051     32   -142352.869593\n",
              "..      ...    ...              ...\n",
              "60    98119    260    174462.549290\n",
              "54    98112    357    232788.487256\n",
              "25    98040    244    254004.002463\n",
              "3     98004    293    383596.028729\n",
              "24    98039     47    740960.478872\n",
              "\n",
              "[80 rows x 3 columns]"
            ],
            "text/html": [
              "\n",
              "  <div id=\"df-95707779-e2a9-4dea-9a76-bc1fcb172227\" class=\"colab-df-container\">\n",
              "    <div>\n",
              "<style scoped>\n",
              "    .dataframe tbody tr th:only-of-type {\n",
              "        vertical-align: middle;\n",
              "    }\n",
              "\n",
              "    .dataframe tbody tr th {\n",
              "        vertical-align: top;\n",
              "    }\n",
              "\n",
              "    .dataframe thead th {\n",
              "        text-align: right;\n",
              "    }\n",
              "</style>\n",
              "<table border=\"1\" class=\"dataframe\">\n",
              "  <thead>\n",
              "    <tr style=\"text-align: right;\">\n",
              "      <th></th>\n",
              "      <th>ZipCode</th>\n",
              "      <th>count</th>\n",
              "      <th>median_residual</th>\n",
              "    </tr>\n",
              "  </thead>\n",
              "  <tbody>\n",
              "    <tr>\n",
              "      <th>36</th>\n",
              "      <td>98057</td>\n",
              "      <td>4</td>\n",
              "      <td>-537321.644462</td>\n",
              "    </tr>\n",
              "    <tr>\n",
              "      <th>27</th>\n",
              "      <td>98043</td>\n",
              "      <td>1</td>\n",
              "      <td>-307661.343614</td>\n",
              "    </tr>\n",
              "    <tr>\n",
              "      <th>46</th>\n",
              "      <td>98092</td>\n",
              "      <td>289</td>\n",
              "      <td>-193569.183599</td>\n",
              "    </tr>\n",
              "    <tr>\n",
              "      <th>23</th>\n",
              "      <td>98038</td>\n",
              "      <td>788</td>\n",
              "      <td>-150066.477035</td>\n",
              "    </tr>\n",
              "    <tr>\n",
              "      <th>31</th>\n",
              "      <td>98051</td>\n",
              "      <td>32</td>\n",
              "      <td>-142352.869593</td>\n",
              "    </tr>\n",
              "    <tr>\n",
              "      <th>...</th>\n",
              "      <td>...</td>\n",
              "      <td>...</td>\n",
              "      <td>...</td>\n",
              "    </tr>\n",
              "    <tr>\n",
              "      <th>60</th>\n",
              "      <td>98119</td>\n",
              "      <td>260</td>\n",
              "      <td>174462.549290</td>\n",
              "    </tr>\n",
              "    <tr>\n",
              "      <th>54</th>\n",
              "      <td>98112</td>\n",
              "      <td>357</td>\n",
              "      <td>232788.487256</td>\n",
              "    </tr>\n",
              "    <tr>\n",
              "      <th>25</th>\n",
              "      <td>98040</td>\n",
              "      <td>244</td>\n",
              "      <td>254004.002463</td>\n",
              "    </tr>\n",
              "    <tr>\n",
              "      <th>3</th>\n",
              "      <td>98004</td>\n",
              "      <td>293</td>\n",
              "      <td>383596.028729</td>\n",
              "    </tr>\n",
              "    <tr>\n",
              "      <th>24</th>\n",
              "      <td>98039</td>\n",
              "      <td>47</td>\n",
              "      <td>740960.478872</td>\n",
              "    </tr>\n",
              "  </tbody>\n",
              "</table>\n",
              "<p>80 rows × 3 columns</p>\n",
              "</div>\n",
              "    <div class=\"colab-df-buttons\">\n",
              "\n",
              "  <div class=\"colab-df-container\">\n",
              "    <button class=\"colab-df-convert\" onclick=\"convertToInteractive('df-95707779-e2a9-4dea-9a76-bc1fcb172227')\"\n",
              "            title=\"Convert this dataframe to an interactive table.\"\n",
              "            style=\"display:none;\">\n",
              "\n",
              "  <svg xmlns=\"http://www.w3.org/2000/svg\" height=\"24px\" viewBox=\"0 -960 960 960\">\n",
              "    <path d=\"M120-120v-720h720v720H120Zm60-500h600v-160H180v160Zm220 220h160v-160H400v160Zm0 220h160v-160H400v160ZM180-400h160v-160H180v160Zm440 0h160v-160H620v160ZM180-180h160v-160H180v160Zm440 0h160v-160H620v160Z\"/>\n",
              "  </svg>\n",
              "    </button>\n",
              "\n",
              "  <style>\n",
              "    .colab-df-container {\n",
              "      display:flex;\n",
              "      gap: 12px;\n",
              "    }\n",
              "\n",
              "    .colab-df-convert {\n",
              "      background-color: #E8F0FE;\n",
              "      border: none;\n",
              "      border-radius: 50%;\n",
              "      cursor: pointer;\n",
              "      display: none;\n",
              "      fill: #1967D2;\n",
              "      height: 32px;\n",
              "      padding: 0 0 0 0;\n",
              "      width: 32px;\n",
              "    }\n",
              "\n",
              "    .colab-df-convert:hover {\n",
              "      background-color: #E2EBFA;\n",
              "      box-shadow: 0px 1px 2px rgba(60, 64, 67, 0.3), 0px 1px 3px 1px rgba(60, 64, 67, 0.15);\n",
              "      fill: #174EA6;\n",
              "    }\n",
              "\n",
              "    .colab-df-buttons div {\n",
              "      margin-bottom: 4px;\n",
              "    }\n",
              "\n",
              "    [theme=dark] .colab-df-convert {\n",
              "      background-color: #3B4455;\n",
              "      fill: #D2E3FC;\n",
              "    }\n",
              "\n",
              "    [theme=dark] .colab-df-convert:hover {\n",
              "      background-color: #434B5C;\n",
              "      box-shadow: 0px 1px 3px 1px rgba(0, 0, 0, 0.15);\n",
              "      filter: drop-shadow(0px 1px 2px rgba(0, 0, 0, 0.3));\n",
              "      fill: #FFFFFF;\n",
              "    }\n",
              "  </style>\n",
              "\n",
              "    <script>\n",
              "      const buttonEl =\n",
              "        document.querySelector('#df-95707779-e2a9-4dea-9a76-bc1fcb172227 button.colab-df-convert');\n",
              "      buttonEl.style.display =\n",
              "        google.colab.kernel.accessAllowed ? 'block' : 'none';\n",
              "\n",
              "      async function convertToInteractive(key) {\n",
              "        const element = document.querySelector('#df-95707779-e2a9-4dea-9a76-bc1fcb172227');\n",
              "        const dataTable =\n",
              "          await google.colab.kernel.invokeFunction('convertToInteractive',\n",
              "                                                    [key], {});\n",
              "        if (!dataTable) return;\n",
              "\n",
              "        const docLinkHtml = 'Like what you see? Visit the ' +\n",
              "          '<a target=\"_blank\" href=https://colab.research.google.com/notebooks/data_table.ipynb>data table notebook</a>'\n",
              "          + ' to learn more about interactive tables.';\n",
              "        element.innerHTML = '';\n",
              "        dataTable['output_type'] = 'display_data';\n",
              "        await google.colab.output.renderOutput(dataTable, element);\n",
              "        const docLink = document.createElement('div');\n",
              "        docLink.innerHTML = docLinkHtml;\n",
              "        element.appendChild(docLink);\n",
              "      }\n",
              "    </script>\n",
              "  </div>\n",
              "\n",
              "\n",
              "<div id=\"df-b65b4fa5-692c-48c4-a08d-685d3897145b\">\n",
              "  <button class=\"colab-df-quickchart\" onclick=\"quickchart('df-b65b4fa5-692c-48c4-a08d-685d3897145b')\"\n",
              "            title=\"Suggest charts\"\n",
              "            style=\"display:none;\">\n",
              "\n",
              "<svg xmlns=\"http://www.w3.org/2000/svg\" height=\"24px\"viewBox=\"0 0 24 24\"\n",
              "     width=\"24px\">\n",
              "    <g>\n",
              "        <path d=\"M19 3H5c-1.1 0-2 .9-2 2v14c0 1.1.9 2 2 2h14c1.1 0 2-.9 2-2V5c0-1.1-.9-2-2-2zM9 17H7v-7h2v7zm4 0h-2V7h2v10zm4 0h-2v-4h2v4z\"/>\n",
              "    </g>\n",
              "</svg>\n",
              "  </button>\n",
              "\n",
              "<style>\n",
              "  .colab-df-quickchart {\n",
              "      --bg-color: #E8F0FE;\n",
              "      --fill-color: #1967D2;\n",
              "      --hover-bg-color: #E2EBFA;\n",
              "      --hover-fill-color: #174EA6;\n",
              "      --disabled-fill-color: #AAA;\n",
              "      --disabled-bg-color: #DDD;\n",
              "  }\n",
              "\n",
              "  [theme=dark] .colab-df-quickchart {\n",
              "      --bg-color: #3B4455;\n",
              "      --fill-color: #D2E3FC;\n",
              "      --hover-bg-color: #434B5C;\n",
              "      --hover-fill-color: #FFFFFF;\n",
              "      --disabled-bg-color: #3B4455;\n",
              "      --disabled-fill-color: #666;\n",
              "  }\n",
              "\n",
              "  .colab-df-quickchart {\n",
              "    background-color: var(--bg-color);\n",
              "    border: none;\n",
              "    border-radius: 50%;\n",
              "    cursor: pointer;\n",
              "    display: none;\n",
              "    fill: var(--fill-color);\n",
              "    height: 32px;\n",
              "    padding: 0;\n",
              "    width: 32px;\n",
              "  }\n",
              "\n",
              "  .colab-df-quickchart:hover {\n",
              "    background-color: var(--hover-bg-color);\n",
              "    box-shadow: 0 1px 2px rgba(60, 64, 67, 0.3), 0 1px 3px 1px rgba(60, 64, 67, 0.15);\n",
              "    fill: var(--button-hover-fill-color);\n",
              "  }\n",
              "\n",
              "  .colab-df-quickchart-complete:disabled,\n",
              "  .colab-df-quickchart-complete:disabled:hover {\n",
              "    background-color: var(--disabled-bg-color);\n",
              "    fill: var(--disabled-fill-color);\n",
              "    box-shadow: none;\n",
              "  }\n",
              "\n",
              "  .colab-df-spinner {\n",
              "    border: 2px solid var(--fill-color);\n",
              "    border-color: transparent;\n",
              "    border-bottom-color: var(--fill-color);\n",
              "    animation:\n",
              "      spin 1s steps(1) infinite;\n",
              "  }\n",
              "\n",
              "  @keyframes spin {\n",
              "    0% {\n",
              "      border-color: transparent;\n",
              "      border-bottom-color: var(--fill-color);\n",
              "      border-left-color: var(--fill-color);\n",
              "    }\n",
              "    20% {\n",
              "      border-color: transparent;\n",
              "      border-left-color: var(--fill-color);\n",
              "      border-top-color: var(--fill-color);\n",
              "    }\n",
              "    30% {\n",
              "      border-color: transparent;\n",
              "      border-left-color: var(--fill-color);\n",
              "      border-top-color: var(--fill-color);\n",
              "      border-right-color: var(--fill-color);\n",
              "    }\n",
              "    40% {\n",
              "      border-color: transparent;\n",
              "      border-right-color: var(--fill-color);\n",
              "      border-top-color: var(--fill-color);\n",
              "    }\n",
              "    60% {\n",
              "      border-color: transparent;\n",
              "      border-right-color: var(--fill-color);\n",
              "    }\n",
              "    80% {\n",
              "      border-color: transparent;\n",
              "      border-right-color: var(--fill-color);\n",
              "      border-bottom-color: var(--fill-color);\n",
              "    }\n",
              "    90% {\n",
              "      border-color: transparent;\n",
              "      border-bottom-color: var(--fill-color);\n",
              "    }\n",
              "  }\n",
              "</style>\n",
              "\n",
              "  <script>\n",
              "    async function quickchart(key) {\n",
              "      const quickchartButtonEl =\n",
              "        document.querySelector('#' + key + ' button');\n",
              "      quickchartButtonEl.disabled = true;  // To prevent multiple clicks.\n",
              "      quickchartButtonEl.classList.add('colab-df-spinner');\n",
              "      try {\n",
              "        const charts = await google.colab.kernel.invokeFunction(\n",
              "            'suggestCharts', [key], {});\n",
              "      } catch (error) {\n",
              "        console.error('Error during call to suggestCharts:', error);\n",
              "      }\n",
              "      quickchartButtonEl.classList.remove('colab-df-spinner');\n",
              "      quickchartButtonEl.classList.add('colab-df-quickchart-complete');\n",
              "    }\n",
              "    (() => {\n",
              "      let quickchartButtonEl =\n",
              "        document.querySelector('#df-b65b4fa5-692c-48c4-a08d-685d3897145b button');\n",
              "      quickchartButtonEl.style.display =\n",
              "        google.colab.kernel.accessAllowed ? 'block' : 'none';\n",
              "    })();\n",
              "  </script>\n",
              "</div>\n",
              "\n",
              "  <div id=\"id_b7d895f8-ac72-490e-8352-be7d7f9683e4\">\n",
              "    <style>\n",
              "      .colab-df-generate {\n",
              "        background-color: #E8F0FE;\n",
              "        border: none;\n",
              "        border-radius: 50%;\n",
              "        cursor: pointer;\n",
              "        display: none;\n",
              "        fill: #1967D2;\n",
              "        height: 32px;\n",
              "        padding: 0 0 0 0;\n",
              "        width: 32px;\n",
              "      }\n",
              "\n",
              "      .colab-df-generate:hover {\n",
              "        background-color: #E2EBFA;\n",
              "        box-shadow: 0px 1px 2px rgba(60, 64, 67, 0.3), 0px 1px 3px 1px rgba(60, 64, 67, 0.15);\n",
              "        fill: #174EA6;\n",
              "      }\n",
              "\n",
              "      [theme=dark] .colab-df-generate {\n",
              "        background-color: #3B4455;\n",
              "        fill: #D2E3FC;\n",
              "      }\n",
              "\n",
              "      [theme=dark] .colab-df-generate:hover {\n",
              "        background-color: #434B5C;\n",
              "        box-shadow: 0px 1px 3px 1px rgba(0, 0, 0, 0.15);\n",
              "        filter: drop-shadow(0px 1px 2px rgba(0, 0, 0, 0.3));\n",
              "        fill: #FFFFFF;\n",
              "      }\n",
              "    </style>\n",
              "    <button class=\"colab-df-generate\" onclick=\"generateWithVariable('zip_groups')\"\n",
              "            title=\"Generate code using this dataframe.\"\n",
              "            style=\"display:none;\">\n",
              "\n",
              "  <svg xmlns=\"http://www.w3.org/2000/svg\" height=\"24px\"viewBox=\"0 0 24 24\"\n",
              "       width=\"24px\">\n",
              "    <path d=\"M7,19H8.4L18.45,9,17,7.55,7,17.6ZM5,21V16.75L18.45,3.32a2,2,0,0,1,2.83,0l1.4,1.43a1.91,1.91,0,0,1,.58,1.4,1.91,1.91,0,0,1-.58,1.4L9.25,21ZM18.45,9,17,7.55Zm-12,3A5.31,5.31,0,0,0,4.9,8.1,5.31,5.31,0,0,0,1,6.5,5.31,5.31,0,0,0,4.9,4.9,5.31,5.31,0,0,0,6.5,1,5.31,5.31,0,0,0,8.1,4.9,5.31,5.31,0,0,0,12,6.5,5.46,5.46,0,0,0,6.5,12Z\"/>\n",
              "  </svg>\n",
              "    </button>\n",
              "    <script>\n",
              "      (() => {\n",
              "      const buttonEl =\n",
              "        document.querySelector('#id_b7d895f8-ac72-490e-8352-be7d7f9683e4 button.colab-df-generate');\n",
              "      buttonEl.style.display =\n",
              "        google.colab.kernel.accessAllowed ? 'block' : 'none';\n",
              "\n",
              "      buttonEl.onclick = () => {\n",
              "        google.colab.notebook.generateWithVariable('zip_groups');\n",
              "      }\n",
              "      })();\n",
              "    </script>\n",
              "  </div>\n",
              "\n",
              "    </div>\n",
              "  </div>\n"
            ],
            "application/vnd.google.colaboratory.intrinsic+json": {
              "type": "dataframe",
              "variable_name": "zip_groups",
              "summary": "{\n  \"name\": \"zip_groups\",\n  \"rows\": 80,\n  \"fields\": [\n    {\n      \"column\": \"ZipCode\",\n      \"properties\": {\n        \"dtype\": \"number\",\n        \"std\": 68,\n        \"min\": 98001,\n        \"max\": 98354,\n        \"num_unique_values\": 80,\n        \"samples\": [\n          98010,\n          98057,\n          98188\n        ],\n        \"semantic_type\": \"\",\n        \"description\": \"\"\n      }\n    },\n    {\n      \"column\": \"count\",\n      \"properties\": {\n        \"dtype\": \"number\",\n        \"std\": 188,\n        \"min\": 1,\n        \"max\": 788,\n        \"num_unique_values\": 74,\n        \"samples\": [\n          32,\n          517,\n          430\n        ],\n        \"semantic_type\": \"\",\n        \"description\": \"\"\n      }\n    },\n    {\n      \"column\": \"median_residual\",\n      \"properties\": {\n        \"dtype\": \"number\",\n        \"std\": 148882.00464928863,\n        \"min\": -537321.6444623163,\n        \"max\": 740960.4788718084,\n        \"num_unique_values\": 80,\n        \"samples\": [\n          -61436.65977947437,\n          -537321.6444623163,\n          -78288.03703210631\n        ],\n        \"semantic_type\": \"\",\n        \"description\": \"\"\n      }\n    }\n  ]\n}"
            }
          },
          "metadata": {},
          "execution_count": 19
        }
      ]
    },
    {
      "cell_type": "code",
      "source": [
        "#해당 ZipCode보다 더 '잔차가 작은' ZipCode를 갖는 집들의 개수를 반환한다.\n",
        "zip_groups['cum_count'] = np.cumsum(zip_groups['count'])\n",
        "\n",
        "\n",
        " #이를 총 5개의 구간으로 쪼갠다.\n",
        "zip_groups['ZipGroup'] = pd.qcut(zip_groups['cum_count'], 5, labels=False, retbins=False)\n",
        "\n",
        "zip_groups.head()"
      ],
      "metadata": {
        "colab": {
          "base_uri": "https://localhost:8080/",
          "height": 206
        },
        "id": "38uuTRxSgkdI",
        "outputId": "e5f7516b-72ed-43e2-e981-9507e880e5c6"
      },
      "execution_count": 20,
      "outputs": [
        {
          "output_type": "execute_result",
          "data": {
            "text/plain": [
              "    ZipCode  count  median_residual  cum_count  ZipGroup\n",
              "36    98057      4   -537321.644462          4         0\n",
              "27    98043      1   -307661.343614          5         0\n",
              "46    98092    289   -193569.183599        294         0\n",
              "23    98038    788   -150066.477035       1082         0\n",
              "31    98051     32   -142352.869593       1114         0"
            ],
            "text/html": [
              "\n",
              "  <div id=\"df-d85594f0-5d28-493c-bda5-47d8016c0fab\" class=\"colab-df-container\">\n",
              "    <div>\n",
              "<style scoped>\n",
              "    .dataframe tbody tr th:only-of-type {\n",
              "        vertical-align: middle;\n",
              "    }\n",
              "\n",
              "    .dataframe tbody tr th {\n",
              "        vertical-align: top;\n",
              "    }\n",
              "\n",
              "    .dataframe thead th {\n",
              "        text-align: right;\n",
              "    }\n",
              "</style>\n",
              "<table border=\"1\" class=\"dataframe\">\n",
              "  <thead>\n",
              "    <tr style=\"text-align: right;\">\n",
              "      <th></th>\n",
              "      <th>ZipCode</th>\n",
              "      <th>count</th>\n",
              "      <th>median_residual</th>\n",
              "      <th>cum_count</th>\n",
              "      <th>ZipGroup</th>\n",
              "    </tr>\n",
              "  </thead>\n",
              "  <tbody>\n",
              "    <tr>\n",
              "      <th>36</th>\n",
              "      <td>98057</td>\n",
              "      <td>4</td>\n",
              "      <td>-537321.644462</td>\n",
              "      <td>4</td>\n",
              "      <td>0</td>\n",
              "    </tr>\n",
              "    <tr>\n",
              "      <th>27</th>\n",
              "      <td>98043</td>\n",
              "      <td>1</td>\n",
              "      <td>-307661.343614</td>\n",
              "      <td>5</td>\n",
              "      <td>0</td>\n",
              "    </tr>\n",
              "    <tr>\n",
              "      <th>46</th>\n",
              "      <td>98092</td>\n",
              "      <td>289</td>\n",
              "      <td>-193569.183599</td>\n",
              "      <td>294</td>\n",
              "      <td>0</td>\n",
              "    </tr>\n",
              "    <tr>\n",
              "      <th>23</th>\n",
              "      <td>98038</td>\n",
              "      <td>788</td>\n",
              "      <td>-150066.477035</td>\n",
              "      <td>1082</td>\n",
              "      <td>0</td>\n",
              "    </tr>\n",
              "    <tr>\n",
              "      <th>31</th>\n",
              "      <td>98051</td>\n",
              "      <td>32</td>\n",
              "      <td>-142352.869593</td>\n",
              "      <td>1114</td>\n",
              "      <td>0</td>\n",
              "    </tr>\n",
              "  </tbody>\n",
              "</table>\n",
              "</div>\n",
              "    <div class=\"colab-df-buttons\">\n",
              "\n",
              "  <div class=\"colab-df-container\">\n",
              "    <button class=\"colab-df-convert\" onclick=\"convertToInteractive('df-d85594f0-5d28-493c-bda5-47d8016c0fab')\"\n",
              "            title=\"Convert this dataframe to an interactive table.\"\n",
              "            style=\"display:none;\">\n",
              "\n",
              "  <svg xmlns=\"http://www.w3.org/2000/svg\" height=\"24px\" viewBox=\"0 -960 960 960\">\n",
              "    <path d=\"M120-120v-720h720v720H120Zm60-500h600v-160H180v160Zm220 220h160v-160H400v160Zm0 220h160v-160H400v160ZM180-400h160v-160H180v160Zm440 0h160v-160H620v160ZM180-180h160v-160H180v160Zm440 0h160v-160H620v160Z\"/>\n",
              "  </svg>\n",
              "    </button>\n",
              "\n",
              "  <style>\n",
              "    .colab-df-container {\n",
              "      display:flex;\n",
              "      gap: 12px;\n",
              "    }\n",
              "\n",
              "    .colab-df-convert {\n",
              "      background-color: #E8F0FE;\n",
              "      border: none;\n",
              "      border-radius: 50%;\n",
              "      cursor: pointer;\n",
              "      display: none;\n",
              "      fill: #1967D2;\n",
              "      height: 32px;\n",
              "      padding: 0 0 0 0;\n",
              "      width: 32px;\n",
              "    }\n",
              "\n",
              "    .colab-df-convert:hover {\n",
              "      background-color: #E2EBFA;\n",
              "      box-shadow: 0px 1px 2px rgba(60, 64, 67, 0.3), 0px 1px 3px 1px rgba(60, 64, 67, 0.15);\n",
              "      fill: #174EA6;\n",
              "    }\n",
              "\n",
              "    .colab-df-buttons div {\n",
              "      margin-bottom: 4px;\n",
              "    }\n",
              "\n",
              "    [theme=dark] .colab-df-convert {\n",
              "      background-color: #3B4455;\n",
              "      fill: #D2E3FC;\n",
              "    }\n",
              "\n",
              "    [theme=dark] .colab-df-convert:hover {\n",
              "      background-color: #434B5C;\n",
              "      box-shadow: 0px 1px 3px 1px rgba(0, 0, 0, 0.15);\n",
              "      filter: drop-shadow(0px 1px 2px rgba(0, 0, 0, 0.3));\n",
              "      fill: #FFFFFF;\n",
              "    }\n",
              "  </style>\n",
              "\n",
              "    <script>\n",
              "      const buttonEl =\n",
              "        document.querySelector('#df-d85594f0-5d28-493c-bda5-47d8016c0fab button.colab-df-convert');\n",
              "      buttonEl.style.display =\n",
              "        google.colab.kernel.accessAllowed ? 'block' : 'none';\n",
              "\n",
              "      async function convertToInteractive(key) {\n",
              "        const element = document.querySelector('#df-d85594f0-5d28-493c-bda5-47d8016c0fab');\n",
              "        const dataTable =\n",
              "          await google.colab.kernel.invokeFunction('convertToInteractive',\n",
              "                                                    [key], {});\n",
              "        if (!dataTable) return;\n",
              "\n",
              "        const docLinkHtml = 'Like what you see? Visit the ' +\n",
              "          '<a target=\"_blank\" href=https://colab.research.google.com/notebooks/data_table.ipynb>data table notebook</a>'\n",
              "          + ' to learn more about interactive tables.';\n",
              "        element.innerHTML = '';\n",
              "        dataTable['output_type'] = 'display_data';\n",
              "        await google.colab.output.renderOutput(dataTable, element);\n",
              "        const docLink = document.createElement('div');\n",
              "        docLink.innerHTML = docLinkHtml;\n",
              "        element.appendChild(docLink);\n",
              "      }\n",
              "    </script>\n",
              "  </div>\n",
              "\n",
              "\n",
              "<div id=\"df-05e88bb5-a608-4b5d-b28f-840c2a7bcf88\">\n",
              "  <button class=\"colab-df-quickchart\" onclick=\"quickchart('df-05e88bb5-a608-4b5d-b28f-840c2a7bcf88')\"\n",
              "            title=\"Suggest charts\"\n",
              "            style=\"display:none;\">\n",
              "\n",
              "<svg xmlns=\"http://www.w3.org/2000/svg\" height=\"24px\"viewBox=\"0 0 24 24\"\n",
              "     width=\"24px\">\n",
              "    <g>\n",
              "        <path d=\"M19 3H5c-1.1 0-2 .9-2 2v14c0 1.1.9 2 2 2h14c1.1 0 2-.9 2-2V5c0-1.1-.9-2-2-2zM9 17H7v-7h2v7zm4 0h-2V7h2v10zm4 0h-2v-4h2v4z\"/>\n",
              "    </g>\n",
              "</svg>\n",
              "  </button>\n",
              "\n",
              "<style>\n",
              "  .colab-df-quickchart {\n",
              "      --bg-color: #E8F0FE;\n",
              "      --fill-color: #1967D2;\n",
              "      --hover-bg-color: #E2EBFA;\n",
              "      --hover-fill-color: #174EA6;\n",
              "      --disabled-fill-color: #AAA;\n",
              "      --disabled-bg-color: #DDD;\n",
              "  }\n",
              "\n",
              "  [theme=dark] .colab-df-quickchart {\n",
              "      --bg-color: #3B4455;\n",
              "      --fill-color: #D2E3FC;\n",
              "      --hover-bg-color: #434B5C;\n",
              "      --hover-fill-color: #FFFFFF;\n",
              "      --disabled-bg-color: #3B4455;\n",
              "      --disabled-fill-color: #666;\n",
              "  }\n",
              "\n",
              "  .colab-df-quickchart {\n",
              "    background-color: var(--bg-color);\n",
              "    border: none;\n",
              "    border-radius: 50%;\n",
              "    cursor: pointer;\n",
              "    display: none;\n",
              "    fill: var(--fill-color);\n",
              "    height: 32px;\n",
              "    padding: 0;\n",
              "    width: 32px;\n",
              "  }\n",
              "\n",
              "  .colab-df-quickchart:hover {\n",
              "    background-color: var(--hover-bg-color);\n",
              "    box-shadow: 0 1px 2px rgba(60, 64, 67, 0.3), 0 1px 3px 1px rgba(60, 64, 67, 0.15);\n",
              "    fill: var(--button-hover-fill-color);\n",
              "  }\n",
              "\n",
              "  .colab-df-quickchart-complete:disabled,\n",
              "  .colab-df-quickchart-complete:disabled:hover {\n",
              "    background-color: var(--disabled-bg-color);\n",
              "    fill: var(--disabled-fill-color);\n",
              "    box-shadow: none;\n",
              "  }\n",
              "\n",
              "  .colab-df-spinner {\n",
              "    border: 2px solid var(--fill-color);\n",
              "    border-color: transparent;\n",
              "    border-bottom-color: var(--fill-color);\n",
              "    animation:\n",
              "      spin 1s steps(1) infinite;\n",
              "  }\n",
              "\n",
              "  @keyframes spin {\n",
              "    0% {\n",
              "      border-color: transparent;\n",
              "      border-bottom-color: var(--fill-color);\n",
              "      border-left-color: var(--fill-color);\n",
              "    }\n",
              "    20% {\n",
              "      border-color: transparent;\n",
              "      border-left-color: var(--fill-color);\n",
              "      border-top-color: var(--fill-color);\n",
              "    }\n",
              "    30% {\n",
              "      border-color: transparent;\n",
              "      border-left-color: var(--fill-color);\n",
              "      border-top-color: var(--fill-color);\n",
              "      border-right-color: var(--fill-color);\n",
              "    }\n",
              "    40% {\n",
              "      border-color: transparent;\n",
              "      border-right-color: var(--fill-color);\n",
              "      border-top-color: var(--fill-color);\n",
              "    }\n",
              "    60% {\n",
              "      border-color: transparent;\n",
              "      border-right-color: var(--fill-color);\n",
              "    }\n",
              "    80% {\n",
              "      border-color: transparent;\n",
              "      border-right-color: var(--fill-color);\n",
              "      border-bottom-color: var(--fill-color);\n",
              "    }\n",
              "    90% {\n",
              "      border-color: transparent;\n",
              "      border-bottom-color: var(--fill-color);\n",
              "    }\n",
              "  }\n",
              "</style>\n",
              "\n",
              "  <script>\n",
              "    async function quickchart(key) {\n",
              "      const quickchartButtonEl =\n",
              "        document.querySelector('#' + key + ' button');\n",
              "      quickchartButtonEl.disabled = true;  // To prevent multiple clicks.\n",
              "      quickchartButtonEl.classList.add('colab-df-spinner');\n",
              "      try {\n",
              "        const charts = await google.colab.kernel.invokeFunction(\n",
              "            'suggestCharts', [key], {});\n",
              "      } catch (error) {\n",
              "        console.error('Error during call to suggestCharts:', error);\n",
              "      }\n",
              "      quickchartButtonEl.classList.remove('colab-df-spinner');\n",
              "      quickchartButtonEl.classList.add('colab-df-quickchart-complete');\n",
              "    }\n",
              "    (() => {\n",
              "      let quickchartButtonEl =\n",
              "        document.querySelector('#df-05e88bb5-a608-4b5d-b28f-840c2a7bcf88 button');\n",
              "      quickchartButtonEl.style.display =\n",
              "        google.colab.kernel.accessAllowed ? 'block' : 'none';\n",
              "    })();\n",
              "  </script>\n",
              "</div>\n",
              "\n",
              "    </div>\n",
              "  </div>\n"
            ],
            "application/vnd.google.colaboratory.intrinsic+json": {
              "type": "dataframe",
              "variable_name": "zip_groups",
              "summary": "{\n  \"name\": \"zip_groups\",\n  \"rows\": 80,\n  \"fields\": [\n    {\n      \"column\": \"ZipCode\",\n      \"properties\": {\n        \"dtype\": \"number\",\n        \"std\": 68,\n        \"min\": 98001,\n        \"max\": 98354,\n        \"num_unique_values\": 80,\n        \"samples\": [\n          98010,\n          98057,\n          98188\n        ],\n        \"semantic_type\": \"\",\n        \"description\": \"\"\n      }\n    },\n    {\n      \"column\": \"count\",\n      \"properties\": {\n        \"dtype\": \"number\",\n        \"std\": 188,\n        \"min\": 1,\n        \"max\": 788,\n        \"num_unique_values\": 74,\n        \"samples\": [\n          32,\n          517,\n          430\n        ],\n        \"semantic_type\": \"\",\n        \"description\": \"\"\n      }\n    },\n    {\n      \"column\": \"median_residual\",\n      \"properties\": {\n        \"dtype\": \"number\",\n        \"std\": 148882.00464928863,\n        \"min\": -537321.6444623163,\n        \"max\": 740960.4788718084,\n        \"num_unique_values\": 80,\n        \"samples\": [\n          -61436.65977947437,\n          -537321.6444623163,\n          -78288.03703210631\n        ],\n        \"semantic_type\": \"\",\n        \"description\": \"\"\n      }\n    },\n    {\n      \"column\": \"cum_count\",\n      \"properties\": {\n        \"dtype\": \"number\",\n        \"std\": 6526,\n        \"min\": 4,\n        \"max\": 22687,\n        \"num_unique_values\": 80,\n        \"samples\": [\n          8172,\n          4,\n          6760\n        ],\n        \"semantic_type\": \"\",\n        \"description\": \"\"\n      }\n    },\n    {\n      \"column\": \"ZipGroup\",\n      \"properties\": {\n        \"dtype\": \"number\",\n        \"std\": 1,\n        \"min\": 0,\n        \"max\": 4,\n        \"num_unique_values\": 5,\n        \"samples\": [\n          1,\n          4,\n          2\n        ],\n        \"semantic_type\": \"\",\n        \"description\": \"\"\n      }\n    }\n  ]\n}"
            }
          },
          "metadata": {},
          "execution_count": 20
        }
      ]
    },
    {
      "cell_type": "code",
      "source": [
        "print(zip_groups.ZipGroup.value_counts().sort_index())\n",
        "\n",
        "to_join = zip_groups[['ZipCode', 'ZipGroup']].set_index('ZipCode')\n",
        "house = house.join(to_join, on='ZipCode')\n",
        "house['ZipGroup'] = house['ZipGroup'].astype('category')"
      ],
      "metadata": {
        "colab": {
          "base_uri": "https://localhost:8080/"
        },
        "id": "Pu5ZVr9qgpUZ",
        "outputId": "5fb2c48c-1944-4f0f-b8c3-ac8752980407"
      },
      "execution_count": 21,
      "outputs": [
        {
          "output_type": "stream",
          "name": "stdout",
          "text": [
            "ZipGroup\n",
            "0    16\n",
            "1    16\n",
            "2    16\n",
            "3    16\n",
            "4    16\n",
            "Name: count, dtype: int64\n"
          ]
        }
      ]
    },
    {
      "cell_type": "markdown",
      "source": [
        "- 이제 교호작용을 고려한 모델을 적합시킬 수 있다.\n",
        "\n",
        "#### 만약 위 과정이 없다면?\n",
        "* 80개의 우편번호 각각에 대한 교호작용을 고려하게 된다.\n",
        "* 따라서 모델이 매우 복잡해진다.\n",
        "* 또한, 우편번호는 숫자로 되어있긴 하지만 사실상 **명목형 변수**이다.\n",
        "* 우편번호의 크고 작음이 위치의 가깝고 멈을 의미하지 않기 때문이다.\n",
        "* 따라서 모델의 해석도 어렵다."
      ],
      "metadata": {
        "id": "nL4n2DjkQ8uY"
      }
    },
    {
      "cell_type": "code",
      "source": [
        "# SqFtTotLiving*ZipCode 항을 넣으면 교호작용을 고려한 모델을 출력한다.\n",
        "model = smf.ols(formula='AdjSalePrice ~  SqFtTotLiving*ZipGroup + SqFtLot + '\n",
        "                + 'Bathrooms + Bedrooms + BldgGrade + PropertyType', data=house)\n",
        "\n",
        "results = model.fit()\n",
        "\n",
        "print(results.summary())"
      ],
      "metadata": {
        "colab": {
          "base_uri": "https://localhost:8080/"
        },
        "id": "zihvnGoPfW4V",
        "outputId": "a1ff21db-67e6-4a3d-bb65-11b55cbaa4e1"
      },
      "execution_count": 22,
      "outputs": [
        {
          "output_type": "stream",
          "name": "stdout",
          "text": [
            "                            OLS Regression Results                            \n",
            "==============================================================================\n",
            "Dep. Variable:           AdjSalePrice   R-squared:                       0.682\n",
            "Model:                            OLS   Adj. R-squared:                  0.682\n",
            "Method:                 Least Squares   F-statistic:                     3247.\n",
            "Date:                Fri, 19 Jul 2024   Prob (F-statistic):               0.00\n",
            "Time:                        01:08:16   Log-Likelihood:            -3.1098e+05\n",
            "No. Observations:               22687   AIC:                         6.220e+05\n",
            "Df Residuals:                   22671   BIC:                         6.221e+05\n",
            "Df Model:                          15                                         \n",
            "Covariance Type:            nonrobust                                         \n",
            "=================================================================================================\n",
            "                                    coef    std err          t      P>|t|      [0.025      0.975]\n",
            "-------------------------------------------------------------------------------------------------\n",
            "Intercept                     -4.853e+05   2.05e+04    -23.701      0.000   -5.25e+05   -4.45e+05\n",
            "ZipGroup[T.1]                 -1.113e+04   1.34e+04     -0.830      0.407   -3.74e+04    1.52e+04\n",
            "ZipGroup[T.2]                  2.032e+04   1.18e+04      1.717      0.086   -2877.441    4.35e+04\n",
            "ZipGroup[T.3]                   2.05e+04   1.21e+04      1.697      0.090   -3180.870    4.42e+04\n",
            "ZipGroup[T.4]                 -1.499e+05   1.13e+04    -13.285      0.000   -1.72e+05   -1.28e+05\n",
            "PropertyType[T.Single Family]  1.357e+04   1.39e+04      0.975      0.330   -1.37e+04    4.09e+04\n",
            "PropertyType[T.Townhouse]     -5.884e+04   1.51e+04     -3.888      0.000   -8.85e+04   -2.92e+04\n",
            "SqFtTotLiving                   114.7650      4.863     23.600      0.000     105.233     124.297\n",
            "SqFtTotLiving:ZipGroup[T.1]      32.6043      5.712      5.708      0.000      21.409      43.799\n",
            "SqFtTotLiving:ZipGroup[T.2]      41.7822      5.187      8.056      0.000      31.616      51.948\n",
            "SqFtTotLiving:ZipGroup[T.3]      69.3415      5.619     12.341      0.000      58.329      80.354\n",
            "SqFtTotLiving:ZipGroup[T.4]     226.6836      4.820     47.032      0.000     217.237     236.131\n",
            "SqFtLot                           0.6869      0.052     13.296      0.000       0.586       0.788\n",
            "Bathrooms                     -3619.4533   3202.296     -1.130      0.258   -9896.174    2657.267\n",
            "Bedrooms                       -4.18e+04   2120.279    -19.715      0.000    -4.6e+04   -3.76e+04\n",
            "BldgGrade                      1.047e+05   2069.472     50.592      0.000    1.01e+05    1.09e+05\n",
            "==============================================================================\n",
            "Omnibus:                    30927.394   Durbin-Watson:                   1.581\n",
            "Prob(Omnibus):                  0.000   Jarque-Bera (JB):         34361794.502\n",
            "Skew:                           7.279   Prob(JB):                         0.00\n",
            "Kurtosis:                     193.101   Cond. No.                     5.80e+05\n",
            "==============================================================================\n",
            "\n",
            "Notes:\n",
            "[1] Standard Errors assume that the covariance matrix of the errors is correctly specified.\n",
            "[2] The condition number is large, 5.8e+05. This might indicate that there are\n",
            "strong multicollinearity or other numerical problems.\n"
          ]
        }
      ]
    },
    {
      "cell_type": "markdown",
      "source": [
        "- 주택 크기와 위치 사이에는 강한 상호작용이 있다.\n",
        "- 가격대가 가장 낮은ZipGroup에서 주택 크기에 대한 기울기는, SqFtTotLiving의 계수인 114.76이다.\n",
        "- 그 다음으로 가격대가 낮은 ZipGroup에서 주택 크기에 대한 기울기는 114.76+32.60 = 147.36이다.\n",
        "- 가장 가격대가 높은 ZipGroup에서 주택 크기에 대한 기울기는 114.76+226.68 = 341.44이다.\n",
        "\n"
      ],
      "metadata": {
        "id": "IIRqUfz2fC3U"
      }
    }
  ]
}