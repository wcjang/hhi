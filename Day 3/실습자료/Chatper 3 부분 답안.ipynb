{
 "cells": [
  {
   "cell_type": "markdown",
   "id": "56c08f98",
   "metadata": {},
   "source": [
    "# Chapter 3. Statistial Experiments and Significance Testing"
   ]
  },
  {
   "cell_type": "markdown",
   "id": "102f73ac",
   "metadata": {},
   "source": [
    "필요한 패키지들을 설치 및 불러오기 합니다."
   ]
  },
  {
   "cell_type": "code",
   "execution_count": 1,
   "id": "0dc60390",
   "metadata": {},
   "outputs": [
    {
     "name": "stdout",
     "output_type": "stream",
     "text": [
      "Requirement already satisfied: statsmodels in c:\\users\\hwankam\\anaconda3\\envs\\kkk\\lib\\site-packages (0.12.2)\n",
      "Requirement already satisfied: numpy>=1.15 in c:\\users\\hwankam\\appdata\\roaming\\python\\python37\\site-packages (from statsmodels) (1.21.5)\n",
      "Requirement already satisfied: scipy>=1.1 in c:\\users\\hwankam\\anaconda3\\envs\\kkk\\lib\\site-packages (from statsmodels) (1.6.2)\n",
      "Requirement already satisfied: pandas>=0.21 in c:\\users\\hwankam\\anaconda3\\envs\\kkk\\lib\\site-packages (from statsmodels) (1.3.4)\n",
      "Requirement already satisfied: patsy>=0.5 in c:\\users\\hwankam\\anaconda3\\envs\\kkk\\lib\\site-packages (from statsmodels) (0.5.2)\n",
      "Requirement already satisfied: python-dateutil>=2.7.3 in c:\\users\\hwankam\\anaconda3\\envs\\kkk\\lib\\site-packages (from pandas>=0.21->statsmodels) (2.8.2)\n",
      "Requirement already satisfied: pytz>=2017.3 in c:\\users\\hwankam\\anaconda3\\envs\\kkk\\lib\\site-packages (from pandas>=0.21->statsmodels) (2021.1)\n",
      "Requirement already satisfied: six in c:\\users\\hwankam\\anaconda3\\envs\\kkk\\lib\\site-packages (from patsy>=0.5->statsmodels) (1.16.0)\n",
      "Requirement already satisfied: wquantiles in c:\\users\\hwankam\\anaconda3\\envs\\kkk\\lib\\site-packages (0.6)\n",
      "Requirement already satisfied: numpy>=1.18 in c:\\users\\hwankam\\appdata\\roaming\\python\\python37\\site-packages (from wquantiles) (1.21.5)\n"
     ]
    }
   ],
   "source": [
    "!pip install statsmodels\n",
    "!pip install wquantiles"
   ]
  },
  {
   "cell_type": "code",
   "execution_count": 2,
   "id": "fb8a2a63",
   "metadata": {},
   "outputs": [],
   "source": [
    "%matplotlib inline\n",
    "\n",
    "from pathlib import Path\n",
    "import random\n",
    "\n",
    "import pandas as pd\n",
    "import numpy as np\n",
    "\n",
    "from scipy import stats\n",
    "import statsmodels.api as sm\n",
    "import statsmodels.formula.api as smf\n",
    "from statsmodels.stats import power\n",
    "\n",
    "import matplotlib.pylab as plt"
   ]
  },
  {
   "cell_type": "markdown",
   "id": "103f58d4",
   "metadata": {},
   "source": [
    "데이터를 불러오기 위한 경로를 설정합니다. 반드시 필요한 csv 파일이 경로 상에 위치해야 파일을 불러올 수 있습니다."
   ]
  },
  {
   "cell_type": "code",
   "execution_count": 3,
   "id": "ddbd042b",
   "metadata": {},
   "outputs": [],
   "source": [
    "DATA = \"C:/Users/HwanKam/hyundai/data\""
   ]
  },
  {
   "cell_type": "code",
   "execution_count": 4,
   "id": "5f4f25ab",
   "metadata": {},
   "outputs": [],
   "source": [
    "WEB_PAGE_DATA_CSV = DATA + '/web_page_data.csv' \n",
    "FOUR_SESSIONS_CSV = DATA + '/four_sessions.csv' \n",
    "CLICK_RATE_CSV = DATA + '/click_rates.csv'\n",
    "ARM = DATA + '/arm.csv'"
   ]
  },
  {
   "cell_type": "markdown",
   "id": "cbd5f1ad",
   "metadata": {},
   "source": [
    "## < Two group comparison >"
   ]
  },
  {
   "cell_type": "code",
   "execution_count": 5,
   "id": "7a10e389",
   "metadata": {},
   "outputs": [],
   "source": [
    "session_times = pd.read_csv(WEB_PAGE_DATA_CSV)\n",
    "session_times.Time = 100 * session_times.Time"
   ]
  },
  {
   "cell_type": "code",
   "execution_count": 6,
   "id": "a5b1cb68",
   "metadata": {},
   "outputs": [
    {
     "data": {
      "image/png": "[encoded data removed]",
      "text/plain": [
       "<Figure size 288x288 with 1 Axes>"
      ]
     },
     "metadata": {
      "needs_background": "light"
     },
     "output_type": "display_data"
    }
   ],
   "source": [
    "ax = session_times.boxplot(by='Page', column='Time',\n",
    "                           figsize=(4, 4))\n",
    "ax.set_xlabel('')\n",
    "ax.set_ylabel('Time (in seconds)')\n",
    "plt.suptitle('')\n",
    "\n",
    "plt.tight_layout()\n",
    "plt.show()"
   ]
  },
  {
   "cell_type": "code",
   "execution_count": 7,
   "id": "20723473",
   "metadata": {},
   "outputs": [
    {
     "name": "stdout",
     "output_type": "stream",
     "text": [
      "35.66666666666667\n"
     ]
    }
   ],
   "source": [
    "mean_a = session_times[session_times.Page == 'Page A'].Time.mean()\n",
    "mean_b = session_times[session_times.Page == 'Page B'].Time.mean()\n",
    "print(mean_b - mean_a)"
   ]
  },
  {
   "cell_type": "markdown",
   "id": "487ce54c",
   "metadata": {},
   "source": [
    "## T-test"
   ]
  },
  {
   "cell_type": "code",
   "execution_count": 8,
   "id": "3faa2877",
   "metadata": {},
   "outputs": [
    {
     "name": "stdout",
     "output_type": "stream",
     "text": [
      "p-value for single sided test: 0.1408\n"
     ]
    }
   ],
   "source": [
    "res = stats.ttest_ind(session_times[session_times.Page == 'Page A'].Time, \n",
    "                      session_times[session_times.Page == 'Page B'].Time,\n",
    "                      equal_var=False)\n",
    "print(f'p-value for single sided test: {res.pvalue / 2:.4f}')"
   ]
  },
  {
   "cell_type": "markdown",
   "id": "efe0bd9c",
   "metadata": {},
   "source": [
    " "
   ]
  },
  {
   "cell_type": "markdown",
   "id": "aefa6683",
   "metadata": {},
   "source": [
    "## t test 실습"
   ]
  },
  {
   "cell_type": "markdown",
   "id": "151700f9",
   "metadata": {},
   "source": [
    "paired data 가 아래와 같이 주어져있다고 하자. 위의 실습 코드를 참고해서 A와 B 데이터의 boxplot을 통해 데이터의 산포를 확인해보자. 그리고 t-test를 통해 두 집단군에서 차이가 존재하는지 검정해보자.\n",
    "\n",
    "paired data에 대한 t - test는 stats.ttest_rel 을 사용한다."
   ]
  },
  {
   "cell_type": "code",
   "execution_count": 9,
   "id": "ce60bbff",
   "metadata": {},
   "outputs": [],
   "source": [
    "A = [88, 83, 84, 92, 75, 79, 84, 87, 94, 91, 82, 89, 67, 68, 91]\n",
    "B = [99, 94, 98, 98, 79, 92, 88, 90, 91, 96, 88, 99, 71, 79, 92]"
   ]
  },
  {
   "cell_type": "code",
   "execution_count": 10,
   "id": "fde7f366",
   "metadata": {},
   "outputs": [
    {
     "name": "stdout",
     "output_type": "stream",
     "text": [
      "83.6\n",
      "90.26666666666667\n"
     ]
    }
   ],
   "source": [
    "print(np.mean(A))\n",
    "print(np.mean(B))"
   ]
  },
  {
   "cell_type": "code",
   "execution_count": 11,
   "id": "e5d7327d",
   "metadata": {},
   "outputs": [
    {
     "data": {
      "image/png": "[encoded data removed]",
      "text/plain": [
       "<Figure size 360x360 with 1 Axes>"
      ]
     },
     "metadata": {
      "needs_background": "light"
     },
     "output_type": "display_data"
    }
   ],
   "source": [
    "fig, ax = plt.subplots(figsize=(5,5))\n",
    "ax.boxplot([A,B])\n",
    "plt.xticks([1,2],labels = [\"A\",\"B\"])\n",
    "plt.show()"
   ]
  },
  {
   "cell_type": "code",
   "execution_count": 12,
   "id": "20ca5cc3",
   "metadata": {},
   "outputs": [],
   "source": [
    "statistics, pvalue = stats.ttest_rel(A,B)"
   ]
  },
  {
   "cell_type": "code",
   "execution_count": 13,
   "id": "5f48542d",
   "metadata": {},
   "outputs": [
    {
     "data": {
      "text/plain": [
       "0.00010131814507218846"
      ]
     },
     "execution_count": 13,
     "metadata": {},
     "output_type": "execute_result"
    }
   ],
   "source": [
    "pvalue"
   ]
  },
  {
   "cell_type": "markdown",
   "id": "6a212650",
   "metadata": {},
   "source": [
    "## < Contingency table & Test > "
   ]
  },
  {
   "cell_type": "markdown",
   "id": "cc0cbf9f",
   "metadata": {},
   "source": [
    "## Figure chi-sq distribution"
   ]
  },
  {
   "cell_type": "code",
   "execution_count": 14,
   "id": "7a765534",
   "metadata": {},
   "outputs": [
    {
     "data": {
      "image/png": "[encoded data removed]",
      "text/plain": [
       "<Figure size 288x180 with 1 Axes>"
      ]
     },
     "metadata": {
      "needs_background": "light"
     },
     "output_type": "display_data"
    }
   ],
   "source": [
    "x = [1 + i * (30 - 1) / 99 for i in range(100)]\n",
    "\n",
    "chi = pd.DataFrame({\n",
    "    'x': x,\n",
    "    'chi_1': stats.chi2.pdf(x, df=1),\n",
    "    'chi_2': stats.chi2.pdf(x, df=2),\n",
    "    'chi_5': stats.chi2.pdf(x, df=5),\n",
    "    'chi_10': stats.chi2.pdf(x, df=10),\n",
    "    'chi_20': stats.chi2.pdf(x, df=20),\n",
    "})\n",
    "fig, ax = plt.subplots(figsize=(4, 2.5))\n",
    "ax.plot(chi.x, chi.chi_1, color='black', linestyle='-', label='1')\n",
    "ax.plot(chi.x, chi.chi_2, color='black', linestyle=(0, (1, 1)), label='2')\n",
    "ax.plot(chi.x, chi.chi_5, color='black', linestyle=(0, (2, 1)), label='5')\n",
    "ax.plot(chi.x, chi.chi_10, color='black', linestyle=(0, (3, 1)), label='10')\n",
    "ax.plot(chi.x, chi.chi_20, color='black', linestyle=(0, (4, 1)), label='20')\n",
    "ax.legend(title='df')\n",
    "\n",
    "plt.tight_layout()\n",
    "plt.show()"
   ]
  },
  {
   "cell_type": "markdown",
   "id": "8cdb2fe5",
   "metadata": {},
   "source": [
    "## Chi-square test "
   ]
  },
  {
   "cell_type": "code",
   "execution_count": 15,
   "id": "d0110109",
   "metadata": {},
   "outputs": [
    {
     "name": "stdout",
     "output_type": "stream",
     "text": [
      "Headline  Headline A  Headline B  Headline C\n",
      "Click                                       \n",
      "Click             14           8          12\n",
      "No-click         986         992         988\n"
     ]
    }
   ],
   "source": [
    "# Table 3-4\n",
    "click_rate = pd.read_csv(CLICK_RATE_CSV)\n",
    "clicks = click_rate.pivot(index='Click', columns='Headline', values='Rate')\n",
    "print(clicks)"
   ]
  },
  {
   "cell_type": "code",
   "execution_count": 16,
   "id": "5577b78a",
   "metadata": {},
   "outputs": [
    {
     "data": {
      "text/html": [
       "<div>\n",
       "<style scoped>\n",
       "    .dataframe tbody tr th:only-of-type {\n",
       "        vertical-align: middle;\n",
       "    }\n",
       "\n",
       "    .dataframe tbody tr th {\n",
       "        vertical-align: top;\n",
       "    }\n",
       "\n",
       "    .dataframe thead th {\n",
       "        text-align: right;\n",
       "    }\n",
       "</style>\n",
       "<table border=\"1\" class=\"dataframe\">\n",
       "  <thead>\n",
       "    <tr style=\"text-align: right;\">\n",
       "      <th></th>\n",
       "      <th>Headline A</th>\n",
       "      <th>Headline B</th>\n",
       "      <th>Headline C</th>\n",
       "    </tr>\n",
       "    <tr>\n",
       "      <th>Click</th>\n",
       "      <th></th>\n",
       "      <th></th>\n",
       "      <th></th>\n",
       "    </tr>\n",
       "  </thead>\n",
       "  <tbody>\n",
       "    <tr>\n",
       "      <th>Click</th>\n",
       "      <td>11.333333</td>\n",
       "      <td>11.333333</td>\n",
       "      <td>11.333333</td>\n",
       "    </tr>\n",
       "    <tr>\n",
       "      <th>No-click</th>\n",
       "      <td>988.666667</td>\n",
       "      <td>988.666667</td>\n",
       "      <td>988.666667</td>\n",
       "    </tr>\n",
       "  </tbody>\n",
       "</table>\n",
       "</div>"
      ],
      "text/plain": [
       "          Headline A  Headline B  Headline C\n",
       "Click                                       \n",
       "Click      11.333333   11.333333   11.333333\n",
       "No-click  988.666667  988.666667  988.666667"
      ]
     },
     "execution_count": 16,
     "metadata": {},
     "output_type": "execute_result"
    }
   ],
   "source": [
    "# Table 3-5\n",
    "row_average = clicks.mean(axis=1)\n",
    "pd.DataFrame({\n",
    "    'Headline A': row_average,\n",
    "    'Headline B': row_average,\n",
    "    'Headline C': row_average,\n",
    "})"
   ]
  },
  {
   "cell_type": "code",
   "execution_count": 17,
   "id": "cfa1ec24",
   "metadata": {
    "scrolled": true
   },
   "outputs": [
    {
     "name": "stdout",
     "output_type": "stream",
     "text": [
      "Observed chi2: 1.6659\n",
      "p-value: 0.4348\n"
     ]
    }
   ],
   "source": [
    "chisq, pvalue, df, expected = stats.chi2_contingency(clicks)\n",
    "print(f'Observed chi2: {chisq:.4f}')\n",
    "print(f'p-value: {pvalue:.4f}')"
   ]
  },
  {
   "cell_type": "markdown",
   "id": "8ae62909",
   "metadata": {},
   "source": [
    " "
   ]
  },
  {
   "cell_type": "markdown",
   "id": "a4fec240",
   "metadata": {},
   "source": [
    "## 카이제곱 검정 실습"
   ]
  },
  {
   "cell_type": "markdown",
   "id": "3df33439",
   "metadata": {},
   "source": [
    "아래에 주어진 arm.csv 파일을 불러와서 카이제곱 검정에 관한 실습을 해보자.\n",
    "데이터의 형태를 보고 pandas.crosstab 을 사용해서 분할표를 만들어보아라. 이후 카이제곱 검정 및 fisher exact test, permuation test를 실습해보자"
   ]
  },
  {
   "cell_type": "markdown",
   "id": "6fcf20ab",
   "metadata": {},
   "source": [
    "#### chisq"
   ]
  },
  {
   "cell_type": "code",
   "execution_count": 18,
   "id": "955805e4",
   "metadata": {},
   "outputs": [],
   "source": [
    "data = pd.read_csv(ARM)"
   ]
  },
  {
   "cell_type": "code",
   "execution_count": 19,
   "id": "a7febb32",
   "metadata": {},
   "outputs": [
    {
     "data": {
      "text/html": [
       "<div>\n",
       "<style scoped>\n",
       "    .dataframe tbody tr th:only-of-type {\n",
       "        vertical-align: middle;\n",
       "    }\n",
       "\n",
       "    .dataframe tbody tr th {\n",
       "        vertical-align: top;\n",
       "    }\n",
       "\n",
       "    .dataframe thead th {\n",
       "        text-align: right;\n",
       "    }\n",
       "</style>\n",
       "<table border=\"1\" class=\"dataframe\">\n",
       "  <thead>\n",
       "    <tr style=\"text-align: right;\">\n",
       "      <th></th>\n",
       "      <th>팔</th>\n",
       "      <th>성별</th>\n",
       "    </tr>\n",
       "  </thead>\n",
       "  <tbody>\n",
       "    <tr>\n",
       "      <th>0</th>\n",
       "      <td>오른팔</td>\n",
       "      <td>여자</td>\n",
       "    </tr>\n",
       "    <tr>\n",
       "      <th>1</th>\n",
       "      <td>왼팔</td>\n",
       "      <td>남자</td>\n",
       "    </tr>\n",
       "    <tr>\n",
       "      <th>2</th>\n",
       "      <td>왼팔</td>\n",
       "      <td>여자</td>\n",
       "    </tr>\n",
       "    <tr>\n",
       "      <th>3</th>\n",
       "      <td>오른팔</td>\n",
       "      <td>남자</td>\n",
       "    </tr>\n",
       "    <tr>\n",
       "      <th>4</th>\n",
       "      <td>오른팔</td>\n",
       "      <td>남자</td>\n",
       "    </tr>\n",
       "  </tbody>\n",
       "</table>\n",
       "</div>"
      ],
      "text/plain": [
       "     팔  성별\n",
       "0  오른팔  여자\n",
       "1   왼팔  남자\n",
       "2   왼팔  여자\n",
       "3  오른팔  남자\n",
       "4  오른팔  남자"
      ]
     },
     "execution_count": 19,
     "metadata": {},
     "output_type": "execute_result"
    }
   ],
   "source": [
    "data.head(5)"
   ]
  },
  {
   "cell_type": "code",
   "execution_count": 20,
   "id": "3530342e",
   "metadata": {},
   "outputs": [
    {
     "data": {
      "text/plain": [
       "array(['팔', '성별'], dtype=object)"
      ]
     },
     "execution_count": 20,
     "metadata": {},
     "output_type": "execute_result"
    }
   ],
   "source": [
    "data.columns.values"
   ]
  },
  {
   "cell_type": "code",
   "execution_count": 21,
   "id": "865cbe33",
   "metadata": {},
   "outputs": [
    {
     "data": {
      "text/html": [
       "<div>\n",
       "<style scoped>\n",
       "    .dataframe tbody tr th:only-of-type {\n",
       "        vertical-align: middle;\n",
       "    }\n",
       "\n",
       "    .dataframe tbody tr th {\n",
       "        vertical-align: top;\n",
       "    }\n",
       "\n",
       "    .dataframe thead th {\n",
       "        text-align: right;\n",
       "    }\n",
       "</style>\n",
       "<table border=\"1\" class=\"dataframe\">\n",
       "  <thead>\n",
       "    <tr style=\"text-align: right;\">\n",
       "      <th>성별</th>\n",
       "      <th>남자</th>\n",
       "      <th>여자</th>\n",
       "      <th>총합</th>\n",
       "    </tr>\n",
       "    <tr>\n",
       "      <th>팔</th>\n",
       "      <th></th>\n",
       "      <th></th>\n",
       "      <th></th>\n",
       "    </tr>\n",
       "  </thead>\n",
       "  <tbody>\n",
       "    <tr>\n",
       "      <th>오른팔</th>\n",
       "      <td>23</td>\n",
       "      <td>9</td>\n",
       "      <td>32</td>\n",
       "    </tr>\n",
       "    <tr>\n",
       "      <th>왼팔</th>\n",
       "      <td>17</td>\n",
       "      <td>5</td>\n",
       "      <td>22</td>\n",
       "    </tr>\n",
       "    <tr>\n",
       "      <th>총합</th>\n",
       "      <td>40</td>\n",
       "      <td>14</td>\n",
       "      <td>54</td>\n",
       "    </tr>\n",
       "  </tbody>\n",
       "</table>\n",
       "</div>"
      ],
      "text/plain": [
       "성별   남자  여자  총합\n",
       "팔              \n",
       "오른팔  23   9  32\n",
       "왼팔   17   5  22\n",
       "총합   40  14  54"
      ]
     },
     "execution_count": 21,
     "metadata": {},
     "output_type": "execute_result"
    }
   ],
   "source": [
    "contingency1 = pd.crosstab(data.팔, data.성별, margins=True, margins_name = \"총합\")\n",
    "contingency1"
   ]
  },
  {
   "cell_type": "code",
   "execution_count": 22,
   "id": "c59aa4d0",
   "metadata": {},
   "outputs": [],
   "source": [
    "data1 = pd.concat([data, pd.DataFrame({\"count\":[1]*54})], axis=1)"
   ]
  },
  {
   "cell_type": "code",
   "execution_count": 23,
   "id": "59373353",
   "metadata": {},
   "outputs": [],
   "source": [
    "contingency2 = pd.pivot_table(data1, index='팔', columns='성별',values='count',aggfunc=np.sum, margins=True, margins_name=\"총합\")"
   ]
  },
  {
   "cell_type": "code",
   "execution_count": 24,
   "id": "27ecc871",
   "metadata": {},
   "outputs": [],
   "source": [
    "contingency1 = pd.crosstab(data.팔, data.성별)\n",
    "chisq, pvalue, df, expected = stats.chi2_contingency(contingency1)"
   ]
  },
  {
   "cell_type": "code",
   "execution_count": 25,
   "id": "49b12985",
   "metadata": {},
   "outputs": [
    {
     "data": {
      "text/plain": [
       "array([[23.7037037,  8.2962963],\n",
       "       [16.2962963,  5.7037037]])"
      ]
     },
     "execution_count": 25,
     "metadata": {},
     "output_type": "execute_result"
    }
   ],
   "source": [
    "expected"
   ]
  },
  {
   "cell_type": "code",
   "execution_count": 26,
   "id": "89f64ad6",
   "metadata": {},
   "outputs": [
    {
     "data": {
      "text/plain": [
       "0.016573660714285652"
      ]
     },
     "execution_count": 26,
     "metadata": {},
     "output_type": "execute_result"
    }
   ],
   "source": [
    "chisq"
   ]
  },
  {
   "cell_type": "code",
   "execution_count": 27,
   "id": "1e80f6f4",
   "metadata": {},
   "outputs": [
    {
     "data": {
      "text/plain": [
       "1"
      ]
     },
     "execution_count": 27,
     "metadata": {},
     "output_type": "execute_result"
    }
   ],
   "source": [
    "df"
   ]
  },
  {
   "cell_type": "code",
   "execution_count": 28,
   "id": "1942a10c",
   "metadata": {
    "scrolled": false
   },
   "outputs": [
    {
     "data": {
      "text/plain": [
       "0.8975643879419304"
      ]
     },
     "execution_count": 28,
     "metadata": {},
     "output_type": "execute_result"
    }
   ],
   "source": [
    "pvalue"
   ]
  },
  {
   "cell_type": "code",
   "execution_count": 29,
   "id": "59b2dd25",
   "metadata": {},
   "outputs": [
    {
     "data": {
      "text/plain": [
       "0.8975643879419304"
      ]
     },
     "execution_count": 29,
     "metadata": {},
     "output_type": "execute_result"
    }
   ],
   "source": [
    "1-stats.chi2.cdf(chisq, df=1)"
   ]
  }
 ],
 "metadata": {
  "kernelspec": {
   "display_name": "hwankam",
   "language": "python",
   "name": "kkk"
  },
  "language_info": {
   "codemirror_mode": {
    "name": "ipython",
    "version": 3
   },
   "file_extension": ".py",
   "mimetype": "text/x-python",
   "name": "python",
   "nbconvert_exporter": "python",
   "pygments_lexer": "ipython3",
   "version": "3.7.10"
  }
 },
 "nbformat": 4,
 "nbformat_minor": 5
}
