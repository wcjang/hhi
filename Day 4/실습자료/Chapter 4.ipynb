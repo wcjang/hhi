{
 "cells": [
  {
   "cell_type": "markdown",
   "id": "3c79d89c",
   "metadata": {},
   "source": [
    "# Chapter 4. Regression and Prediction"
   ]
  },
  {
   "cell_type": "markdown",
   "id": "03af45ab",
   "metadata": {},
   "source": [
    "필요한 패키지들을 설치 및 불러오기 합니다."
   ]
  },
  {
   "cell_type": "code",
   "execution_count": 1,
   "id": "b41843ec",
   "metadata": {},
   "outputs": [
    {
     "name": "stdout",
     "output_type": "stream",
     "text": [
      "Requirement already satisfied: pygam in c:\\users\\hwankam\\anaconda3\\envs\\kkk\\lib\\site-packages (0.8.0)\n",
      "Requirement already satisfied: scipy in c:\\users\\hwankam\\anaconda3\\envs\\kkk\\lib\\site-packages (from pygam) (1.6.2)\n",
      "Requirement already satisfied: progressbar2 in c:\\users\\hwankam\\anaconda3\\envs\\kkk\\lib\\site-packages (from pygam) (4.0.0)\n",
      "Requirement already satisfied: numpy in c:\\users\\hwankam\\appdata\\roaming\\python\\python37\\site-packages (from pygam) (1.21.5)\n",
      "Requirement already satisfied: future in c:\\users\\hwankam\\anaconda3\\envs\\kkk\\lib\\site-packages (from pygam) (0.18.2)\n",
      "Requirement already satisfied: python-utils>=3.0.0 in c:\\users\\hwankam\\anaconda3\\envs\\kkk\\lib\\site-packages (from progressbar2->pygam) (3.1.0)\n",
      "Requirement already satisfied: dmba in c:\\users\\hwankam\\anaconda3\\envs\\kkk\\lib\\site-packages (0.1.0)\n"
     ]
    }
   ],
   "source": [
    "!pip install pygam\n",
    "!pip install dmba"
   ]
  },
  {
   "cell_type": "code",
   "execution_count": 2,
   "id": "2bf33d40",
   "metadata": {},
   "outputs": [],
   "source": [
    "%matplotlib inline\n",
    "\n",
    "from pathlib import Path\n",
    "\n",
    "import pandas as pd\n",
    "import numpy as np\n",
    "from sklearn.metrics import r2_score, mean_squared_error\n",
    "from sklearn.linear_model import LinearRegression, Ridge, Lasso\n",
    "\n",
    "import statsmodels.api as sm\n",
    "import statsmodels.formula.api as smf\n",
    "from statsmodels.stats.outliers_influence import OLSInfluence\n",
    "\n",
    "from pygam import LinearGAM, s, l\n",
    "from pygam.datasets import wage\n",
    "\n",
    "\n",
    "import seaborn as sns\n",
    "import matplotlib.pyplot as plt\n",
    "\n",
    "from dmba import stepwise_selection\n",
    "from dmba import AIC_score"
   ]
  },
  {
   "cell_type": "markdown",
   "id": "53a3ffb6",
   "metadata": {},
   "source": [
    "데이터를 불러오기 위한 경로를 설정합니다. 반드시 필요한 csv 파일이 경로 상에 위치해야 파일을 불러올 수 있습니다."
   ]
  },
  {
   "cell_type": "code",
   "execution_count": 3,
   "id": "27bc4fb1",
   "metadata": {},
   "outputs": [],
   "source": [
    "DATA = \"C:/Users/HwanKam/hyundai/data\""
   ]
  },
  {
   "cell_type": "code",
   "execution_count": 4,
   "id": "3cf0655a",
   "metadata": {},
   "outputs": [],
   "source": [
    "LUNG_CSV = DATA + '/LungDisease.csv'\n",
    "HOUSE_CSV = DATA + '/house_sales.csv'"
   ]
  },
  {
   "cell_type": "markdown",
   "id": "d9b36dfa",
   "metadata": {},
   "source": [
    "# Simple Linear Regression\n",
    "## The Regression Equation"
   ]
  },
  {
   "cell_type": "code",
   "execution_count": 5,
   "id": "42c265bc",
   "metadata": {},
   "outputs": [
    {
     "data": {
      "image/png": "[encoded data removed]",
      "text/plain": [
       "<Figure size 432x288 with 1 Axes>"
      ]
     },
     "metadata": {
      "needs_background": "light"
     },
     "output_type": "display_data"
    }
   ],
   "source": [
    "lung = pd.read_csv(LUNG_CSV)\n",
    "\n",
    "lung.plot.scatter(x='Exposure', y='PEFR')\n",
    "\n",
    "plt.tight_layout()\n",
    "plt.show()"
   ]
  },
  {
   "cell_type": "markdown",
   "id": "c9fd8176",
   "metadata": {},
   "source": [
    "'scikit-learn' 내부에 있는 linear regression 함수를 사용합니다."
   ]
  },
  {
   "cell_type": "code",
   "execution_count": 6,
   "id": "33e6536a",
   "metadata": {},
   "outputs": [
    {
     "name": "stdout",
     "output_type": "stream",
     "text": [
      "Intercept: 424.583\n",
      "Coefficient Exposure: -4.185\n"
     ]
    }
   ],
   "source": [
    "predictors = ['Exposure']\n",
    "outcome = 'PEFR'\n",
    "\n",
    "model = LinearRegression()\n",
    "model.fit(lung[predictors], lung[outcome]) ## linear_regression 함수는 독립변수 인자로 dataframe을 받는다.\n",
    "\n",
    "print(f'Intercept: {model.intercept_:.3f}')\n",
    "print(f'Coefficient Exposure: {model.coef_[0]:.3f}')"
   ]
  },
  {
   "cell_type": "markdown",
   "id": "6271d8ea",
   "metadata": {},
   "source": [
    "predict 함수를 이용해서 예측을 해보도록 하겠습니다. 노란색 점선은 residual을 의미합니다."
   ]
  },
  {
   "cell_type": "code",
   "execution_count": 7,
   "id": "6a4bd0ef",
   "metadata": {},
   "outputs": [],
   "source": [
    "fitted = model.predict(lung[predictors])\n",
    "residuals = lung[outcome] - fitted"
   ]
  },
  {
   "cell_type": "code",
   "execution_count": 8,
   "id": "61a3a816",
   "metadata": {
    "scrolled": true
   },
   "outputs": [
    {
     "data": {
      "image/png": "[encoded data removed]",
      "text/plain": [
       "<Figure size 288x288 with 1 Axes>"
      ]
     },
     "metadata": {
      "needs_background": "light"
     },
     "output_type": "display_data"
    }
   ],
   "source": [
    "ax = lung.plot.scatter(x='Exposure', y='PEFR', figsize=(4, 4))\n",
    "ax.plot(lung.Exposure, fitted)\n",
    "for x, yactual, yfitted in zip(lung.Exposure, lung.PEFR, fitted): \n",
    "    ax.plot((x, x), (yactual, yfitted), '--', color='C1')\n",
    "\n",
    "plt.tight_layout()\n",
    "plt.show()"
   ]
  },
  {
   "cell_type": "markdown",
   "id": "9c2843f1",
   "metadata": {},
   "source": [
    "## Assessing the model"
   ]
  },
  {
   "cell_type": "code",
   "execution_count": 9,
   "id": "ef09abd1",
   "metadata": {},
   "outputs": [
    {
     "name": "stdout",
     "output_type": "stream",
     "text": [
      "RMSE: 101\n",
      "r2: 0.0767\n"
     ]
    }
   ],
   "source": [
    "fitted = model.predict(lung[predictors])\n",
    "RMSE = np.sqrt(mean_squared_error(lung[outcome], fitted))\n",
    "r2 = r2_score(lung[outcome], fitted)\n",
    "print(f'RMSE: {RMSE:.0f}')\n",
    "print(f'r2: {r2:.4f}')"
   ]
  },
  {
   "cell_type": "markdown",
   "id": "7203d1ff",
   "metadata": {},
   "source": [
    "## 실습 - 다중회귀"
   ]
  },
  {
   "cell_type": "markdown",
   "id": "d3bb0aca",
   "metadata": {},
   "source": [
    "# Multiple linear regression"
   ]
  },
  {
   "cell_type": "code",
   "execution_count": 10,
   "id": "e4558fa7",
   "metadata": {
    "scrolled": true
   },
   "outputs": [
    {
     "name": "stdout",
     "output_type": "stream",
     "text": [
      "   AdjSalePrice  SqFtTotLiving  SqFtLot  Bathrooms  Bedrooms  BldgGrade\n",
      "1      300805.0           2400     9373       3.00         6          7\n",
      "2     1076162.0           3764    20156       3.75         4         10\n",
      "3      761805.0           2060    26036       1.75         4          8\n",
      "4      442065.0           3200     8618       3.75         5          7\n",
      "5      297065.0           1720     8620       1.75         4          7\n"
     ]
    }
   ],
   "source": [
    "subset = ['AdjSalePrice', 'SqFtTotLiving', 'SqFtLot', 'Bathrooms', \n",
    "          'Bedrooms', 'BldgGrade']\n",
    "\n",
    "house = pd.read_csv(HOUSE_CSV, sep='\\t')\n",
    "print(house[subset].head())"
   ]
  },
  {
   "cell_type": "markdown",
   "id": "f887bbb9",
   "metadata": {},
   "source": [
    "###### 독립변수 : ['SqFtTotLiving', 'SqFtLot', 'Bathrooms', 'Bedrooms', 'BldgGrade'] \n",
    "###### 종속변수 : ['AdjSalePrice']\n",
    "\n",
    "###### multiple linear regression model에 fitting 해보자. \n",
    "두가지 방법 : sklearn.linear_model의 LinearRegression() , statsmodels.api의 OLS().fit()\n",
    "\n",
    "###### 이후 회귀계수를 구하고 적합이 잘 되었는지 $R^2$ 및 adjusted $R^2$를 구해서 확인해보자"
   ]
  },
  {
   "cell_type": "markdown",
   "id": "dacec1db",
   "metadata": {},
   "source": [
    " "
   ]
  },
  {
   "cell_type": "code",
   "execution_count": null,
   "id": "e6eefffe",
   "metadata": {},
   "outputs": [],
   "source": []
  },
  {
   "cell_type": "code",
   "execution_count": null,
   "id": "21097b6d",
   "metadata": {},
   "outputs": [],
   "source": []
  },
  {
   "cell_type": "code",
   "execution_count": null,
   "id": "cb7b36dd",
   "metadata": {},
   "outputs": [],
   "source": []
  },
  {
   "cell_type": "code",
   "execution_count": null,
   "id": "e0a40ed6",
   "metadata": {},
   "outputs": [],
   "source": []
  },
  {
   "cell_type": "code",
   "execution_count": null,
   "id": "08fb4fe4",
   "metadata": {},
   "outputs": [],
   "source": []
  },
  {
   "cell_type": "markdown",
   "id": "3ba4a478",
   "metadata": {},
   "source": [
    "## Dummy variables"
   ]
  },
  {
   "cell_type": "code",
   "execution_count": 11,
   "id": "98ba2b8b",
   "metadata": {},
   "outputs": [
    {
     "data": {
      "text/html": [
       "<div>\n",
       "<style scoped>\n",
       "    .dataframe tbody tr th:only-of-type {\n",
       "        vertical-align: middle;\n",
       "    }\n",
       "\n",
       "    .dataframe tbody tr th {\n",
       "        vertical-align: top;\n",
       "    }\n",
       "\n",
       "    .dataframe thead th {\n",
       "        text-align: right;\n",
       "    }\n",
       "</style>\n",
       "<table border=\"1\" class=\"dataframe\">\n",
       "  <thead>\n",
       "    <tr style=\"text-align: right;\">\n",
       "      <th></th>\n",
       "      <th>SqFtTotLiving</th>\n",
       "      <th>SqFtLot</th>\n",
       "      <th>Bathrooms</th>\n",
       "      <th>Bedrooms</th>\n",
       "      <th>BldgGrade</th>\n",
       "    </tr>\n",
       "  </thead>\n",
       "  <tbody>\n",
       "    <tr>\n",
       "      <th>1</th>\n",
       "      <td>2400</td>\n",
       "      <td>9373</td>\n",
       "      <td>3.00</td>\n",
       "      <td>6</td>\n",
       "      <td>7</td>\n",
       "    </tr>\n",
       "    <tr>\n",
       "      <th>2</th>\n",
       "      <td>3764</td>\n",
       "      <td>20156</td>\n",
       "      <td>3.75</td>\n",
       "      <td>4</td>\n",
       "      <td>10</td>\n",
       "    </tr>\n",
       "    <tr>\n",
       "      <th>3</th>\n",
       "      <td>2060</td>\n",
       "      <td>26036</td>\n",
       "      <td>1.75</td>\n",
       "      <td>4</td>\n",
       "      <td>8</td>\n",
       "    </tr>\n",
       "    <tr>\n",
       "      <th>4</th>\n",
       "      <td>3200</td>\n",
       "      <td>8618</td>\n",
       "      <td>3.75</td>\n",
       "      <td>5</td>\n",
       "      <td>7</td>\n",
       "    </tr>\n",
       "    <tr>\n",
       "      <th>5</th>\n",
       "      <td>1720</td>\n",
       "      <td>8620</td>\n",
       "      <td>1.75</td>\n",
       "      <td>4</td>\n",
       "      <td>7</td>\n",
       "    </tr>\n",
       "    <tr>\n",
       "      <th>6</th>\n",
       "      <td>930</td>\n",
       "      <td>1012</td>\n",
       "      <td>1.50</td>\n",
       "      <td>2</td>\n",
       "      <td>8</td>\n",
       "    </tr>\n",
       "    <tr>\n",
       "      <th>7</th>\n",
       "      <td>1750</td>\n",
       "      <td>34465</td>\n",
       "      <td>1.50</td>\n",
       "      <td>3</td>\n",
       "      <td>8</td>\n",
       "    </tr>\n",
       "    <tr>\n",
       "      <th>8</th>\n",
       "      <td>1860</td>\n",
       "      <td>14659</td>\n",
       "      <td>1.75</td>\n",
       "      <td>4</td>\n",
       "      <td>7</td>\n",
       "    </tr>\n",
       "    <tr>\n",
       "      <th>9</th>\n",
       "      <td>990</td>\n",
       "      <td>5324</td>\n",
       "      <td>1.00</td>\n",
       "      <td>2</td>\n",
       "      <td>6</td>\n",
       "    </tr>\n",
       "    <tr>\n",
       "      <th>10</th>\n",
       "      <td>1980</td>\n",
       "      <td>10585</td>\n",
       "      <td>2.00</td>\n",
       "      <td>4</td>\n",
       "      <td>6</td>\n",
       "    </tr>\n",
       "  </tbody>\n",
       "</table>\n",
       "</div>"
      ],
      "text/plain": [
       "    SqFtTotLiving  SqFtLot  Bathrooms  Bedrooms  BldgGrade\n",
       "1            2400     9373       3.00         6          7\n",
       "2            3764    20156       3.75         4         10\n",
       "3            2060    26036       1.75         4          8\n",
       "4            3200     8618       3.75         5          7\n",
       "5            1720     8620       1.75         4          7\n",
       "6             930     1012       1.50         2          8\n",
       "7            1750    34465       1.50         3          8\n",
       "8            1860    14659       1.75         4          7\n",
       "9             990     5324       1.00         2          6\n",
       "10           1980    10585       2.00         4          6"
      ]
     },
     "execution_count": 11,
     "metadata": {},
     "output_type": "execute_result"
    }
   ],
   "source": [
    "predictors = ['SqFtTotLiving', 'SqFtLot', 'Bathrooms', \n",
    "              'Bedrooms', 'BldgGrade']\n",
    "outcome = 'AdjSalePrice'\n",
    "\n",
    "house[predictors].head(10)"
   ]
  },
  {
   "cell_type": "code",
   "execution_count": 12,
   "id": "551425f5",
   "metadata": {
    "scrolled": true
   },
   "outputs": [
    {
     "name": "stdout",
     "output_type": "stream",
     "text": [
      "                            OLS Regression Results                            \n",
      "==============================================================================\n",
      "Dep. Variable:           AdjSalePrice   R-squared:                       0.541\n",
      "Model:                            OLS   Adj. R-squared:                  0.540\n",
      "Method:                 Least Squares   F-statistic:                     5338.\n",
      "Date:                Fri, 13 May 2022   Prob (F-statistic):               0.00\n",
      "Time:                        16:17:41   Log-Likelihood:            -3.1517e+05\n",
      "No. Observations:               22687   AIC:                         6.304e+05\n",
      "Df Residuals:                   22681   BIC:                         6.304e+05\n",
      "Df Model:                           5                                         \n",
      "Covariance Type:            nonrobust                                         \n",
      "=================================================================================\n",
      "                    coef    std err          t      P>|t|      [0.025      0.975]\n",
      "---------------------------------------------------------------------------------\n",
      "SqFtTotLiving   228.8306      3.899     58.694      0.000     221.189     236.472\n",
      "SqFtLot          -0.0605      0.061     -0.988      0.323      -0.180       0.059\n",
      "Bathrooms     -1.944e+04   3625.388     -5.363      0.000   -2.65e+04   -1.23e+04\n",
      "Bedrooms      -4.777e+04   2489.732    -19.187      0.000   -5.27e+04   -4.29e+04\n",
      "BldgGrade      1.061e+05   2396.445     44.277      0.000    1.01e+05    1.11e+05\n",
      "const         -5.219e+05   1.57e+04    -33.342      0.000   -5.53e+05   -4.91e+05\n",
      "==============================================================================\n",
      "Omnibus:                    29676.557   Durbin-Watson:                   1.247\n",
      "Prob(Omnibus):                  0.000   Jarque-Bera (JB):         19390738.346\n",
      "Skew:                           6.889   Prob(JB):                         0.00\n",
      "Kurtosis:                     145.559   Cond. No.                     2.86e+05\n",
      "==============================================================================\n",
      "\n",
      "Notes:\n",
      "[1] Standard Errors assume that the covariance matrix of the errors is correctly specified.\n",
      "[2] The condition number is large, 2.86e+05. This might indicate that there are\n",
      "strong multicollinearity or other numerical problems.\n"
     ]
    }
   ],
   "source": [
    "house_full = sm.OLS(house[outcome], house[predictors].assign(const=1))\n",
    "results = house_full.fit()\n",
    "print(results.summary())"
   ]
  },
  {
   "cell_type": "code",
   "execution_count": 13,
   "id": "20b6031d",
   "metadata": {
    "scrolled": true
   },
   "outputs": [
    {
     "data": {
      "text/html": [
       "<div>\n",
       "<style scoped>\n",
       "    .dataframe tbody tr th:only-of-type {\n",
       "        vertical-align: middle;\n",
       "    }\n",
       "\n",
       "    .dataframe tbody tr th {\n",
       "        vertical-align: top;\n",
       "    }\n",
       "\n",
       "    .dataframe thead th {\n",
       "        text-align: right;\n",
       "    }\n",
       "</style>\n",
       "<table border=\"1\" class=\"dataframe\">\n",
       "  <thead>\n",
       "    <tr style=\"text-align: right;\">\n",
       "      <th></th>\n",
       "      <th>SqFtTotLiving</th>\n",
       "      <th>SqFtLot</th>\n",
       "      <th>Bathrooms</th>\n",
       "      <th>Bedrooms</th>\n",
       "      <th>BldgGrade</th>\n",
       "      <th>NbrLivingUnits</th>\n",
       "      <th>SqFtFinBasement</th>\n",
       "      <th>YrBuilt</th>\n",
       "      <th>YrRenovated</th>\n",
       "      <th>NewConstruction</th>\n",
       "      <th>PropertyType_Single Family</th>\n",
       "      <th>PropertyType_Townhouse</th>\n",
       "    </tr>\n",
       "  </thead>\n",
       "  <tbody>\n",
       "    <tr>\n",
       "      <th>1</th>\n",
       "      <td>2400</td>\n",
       "      <td>9373</td>\n",
       "      <td>3.00</td>\n",
       "      <td>6</td>\n",
       "      <td>7</td>\n",
       "      <td>2</td>\n",
       "      <td>0</td>\n",
       "      <td>1991</td>\n",
       "      <td>0</td>\n",
       "      <td>0</td>\n",
       "      <td>0</td>\n",
       "      <td>0</td>\n",
       "    </tr>\n",
       "    <tr>\n",
       "      <th>2</th>\n",
       "      <td>3764</td>\n",
       "      <td>20156</td>\n",
       "      <td>3.75</td>\n",
       "      <td>4</td>\n",
       "      <td>10</td>\n",
       "      <td>1</td>\n",
       "      <td>1452</td>\n",
       "      <td>2005</td>\n",
       "      <td>0</td>\n",
       "      <td>1</td>\n",
       "      <td>1</td>\n",
       "      <td>0</td>\n",
       "    </tr>\n",
       "    <tr>\n",
       "      <th>3</th>\n",
       "      <td>2060</td>\n",
       "      <td>26036</td>\n",
       "      <td>1.75</td>\n",
       "      <td>4</td>\n",
       "      <td>8</td>\n",
       "      <td>1</td>\n",
       "      <td>900</td>\n",
       "      <td>1947</td>\n",
       "      <td>0</td>\n",
       "      <td>0</td>\n",
       "      <td>1</td>\n",
       "      <td>0</td>\n",
       "    </tr>\n",
       "    <tr>\n",
       "      <th>4</th>\n",
       "      <td>3200</td>\n",
       "      <td>8618</td>\n",
       "      <td>3.75</td>\n",
       "      <td>5</td>\n",
       "      <td>7</td>\n",
       "      <td>1</td>\n",
       "      <td>1640</td>\n",
       "      <td>1966</td>\n",
       "      <td>0</td>\n",
       "      <td>0</td>\n",
       "      <td>1</td>\n",
       "      <td>0</td>\n",
       "    </tr>\n",
       "    <tr>\n",
       "      <th>5</th>\n",
       "      <td>1720</td>\n",
       "      <td>8620</td>\n",
       "      <td>1.75</td>\n",
       "      <td>4</td>\n",
       "      <td>7</td>\n",
       "      <td>1</td>\n",
       "      <td>0</td>\n",
       "      <td>1948</td>\n",
       "      <td>0</td>\n",
       "      <td>0</td>\n",
       "      <td>1</td>\n",
       "      <td>0</td>\n",
       "    </tr>\n",
       "    <tr>\n",
       "      <th>6</th>\n",
       "      <td>930</td>\n",
       "      <td>1012</td>\n",
       "      <td>1.50</td>\n",
       "      <td>2</td>\n",
       "      <td>8</td>\n",
       "      <td>1</td>\n",
       "      <td>0</td>\n",
       "      <td>2008</td>\n",
       "      <td>0</td>\n",
       "      <td>1</td>\n",
       "      <td>0</td>\n",
       "      <td>1</td>\n",
       "    </tr>\n",
       "    <tr>\n",
       "      <th>7</th>\n",
       "      <td>1750</td>\n",
       "      <td>34465</td>\n",
       "      <td>1.50</td>\n",
       "      <td>3</td>\n",
       "      <td>8</td>\n",
       "      <td>1</td>\n",
       "      <td>0</td>\n",
       "      <td>1961</td>\n",
       "      <td>0</td>\n",
       "      <td>0</td>\n",
       "      <td>1</td>\n",
       "      <td>0</td>\n",
       "    </tr>\n",
       "    <tr>\n",
       "      <th>8</th>\n",
       "      <td>1860</td>\n",
       "      <td>14659</td>\n",
       "      <td>1.75</td>\n",
       "      <td>4</td>\n",
       "      <td>7</td>\n",
       "      <td>1</td>\n",
       "      <td>620</td>\n",
       "      <td>1963</td>\n",
       "      <td>0</td>\n",
       "      <td>0</td>\n",
       "      <td>1</td>\n",
       "      <td>0</td>\n",
       "    </tr>\n",
       "    <tr>\n",
       "      <th>9</th>\n",
       "      <td>990</td>\n",
       "      <td>5324</td>\n",
       "      <td>1.00</td>\n",
       "      <td>2</td>\n",
       "      <td>6</td>\n",
       "      <td>1</td>\n",
       "      <td>0</td>\n",
       "      <td>1930</td>\n",
       "      <td>0</td>\n",
       "      <td>0</td>\n",
       "      <td>1</td>\n",
       "      <td>0</td>\n",
       "    </tr>\n",
       "    <tr>\n",
       "      <th>10</th>\n",
       "      <td>1980</td>\n",
       "      <td>10585</td>\n",
       "      <td>2.00</td>\n",
       "      <td>4</td>\n",
       "      <td>6</td>\n",
       "      <td>2</td>\n",
       "      <td>0</td>\n",
       "      <td>1924</td>\n",
       "      <td>0</td>\n",
       "      <td>0</td>\n",
       "      <td>0</td>\n",
       "      <td>0</td>\n",
       "    </tr>\n",
       "  </tbody>\n",
       "</table>\n",
       "</div>"
      ],
      "text/plain": [
       "    SqFtTotLiving  SqFtLot  Bathrooms  Bedrooms  BldgGrade  NbrLivingUnits  \\\n",
       "1            2400     9373       3.00         6          7               2   \n",
       "2            3764    20156       3.75         4         10               1   \n",
       "3            2060    26036       1.75         4          8               1   \n",
       "4            3200     8618       3.75         5          7               1   \n",
       "5            1720     8620       1.75         4          7               1   \n",
       "6             930     1012       1.50         2          8               1   \n",
       "7            1750    34465       1.50         3          8               1   \n",
       "8            1860    14659       1.75         4          7               1   \n",
       "9             990     5324       1.00         2          6               1   \n",
       "10           1980    10585       2.00         4          6               2   \n",
       "\n",
       "    SqFtFinBasement  YrBuilt  YrRenovated  NewConstruction  \\\n",
       "1                 0     1991            0                0   \n",
       "2              1452     2005            0                1   \n",
       "3               900     1947            0                0   \n",
       "4              1640     1966            0                0   \n",
       "5                 0     1948            0                0   \n",
       "6                 0     2008            0                1   \n",
       "7                 0     1961            0                0   \n",
       "8               620     1963            0                0   \n",
       "9                 0     1930            0                0   \n",
       "10                0     1924            0                0   \n",
       "\n",
       "    PropertyType_Single Family  PropertyType_Townhouse  \n",
       "1                            0                       0  \n",
       "2                            1                       0  \n",
       "3                            1                       0  \n",
       "4                            1                       0  \n",
       "5                            1                       0  \n",
       "6                            0                       1  \n",
       "7                            1                       0  \n",
       "8                            1                       0  \n",
       "9                            1                       0  \n",
       "10                           0                       0  "
      ]
     },
     "execution_count": 13,
     "metadata": {},
     "output_type": "execute_result"
    }
   ],
   "source": [
    "predictors = ['SqFtTotLiving', 'SqFtLot', 'Bathrooms', 'Bedrooms',\n",
    "              'BldgGrade', 'PropertyType', 'NbrLivingUnits',\n",
    "              'SqFtFinBasement', 'YrBuilt', 'YrRenovated', \n",
    "              'NewConstruction']\n",
    "\n",
    "X = pd.get_dummies(house[predictors], drop_first=True)\n",
    "X['NewConstruction'] = [1 if nc else 0 for nc in X['NewConstruction']]\n",
    "\n",
    "X.head(10)"
   ]
  },
  {
   "cell_type": "code",
   "execution_count": 14,
   "id": "1141d2e8",
   "metadata": {
    "scrolled": false
   },
   "outputs": [
    {
     "name": "stdout",
     "output_type": "stream",
     "text": [
      "                            OLS Regression Results                            \n",
      "==============================================================================\n",
      "Dep. Variable:           AdjSalePrice   R-squared:                       0.595\n",
      "Model:                            OLS   Adj. R-squared:                  0.594\n",
      "Method:                 Least Squares   F-statistic:                     2771.\n",
      "Date:                Fri, 13 May 2022   Prob (F-statistic):               0.00\n",
      "Time:                        16:17:41   Log-Likelihood:            -3.1375e+05\n",
      "No. Observations:               22687   AIC:                         6.275e+05\n",
      "Df Residuals:                   22674   BIC:                         6.276e+05\n",
      "Df Model:                          12                                         \n",
      "Covariance Type:            nonrobust                                         \n",
      "==============================================================================================\n",
      "                                 coef    std err          t      P>|t|      [0.025      0.975]\n",
      "----------------------------------------------------------------------------------------------\n",
      "SqFtTotLiving                198.6364      4.234     46.920      0.000     190.338     206.934\n",
      "SqFtLot                        0.0771      0.058      1.330      0.184      -0.037       0.191\n",
      "Bathrooms                   4.286e+04   3808.114     11.255      0.000    3.54e+04    5.03e+04\n",
      "Bedrooms                   -5.187e+04   2396.904    -21.638      0.000   -5.66e+04   -4.72e+04\n",
      "BldgGrade                   1.373e+05   2441.242     56.228      0.000    1.32e+05    1.42e+05\n",
      "NbrLivingUnits              5723.8438   1.76e+04      0.326      0.744   -2.87e+04    4.01e+04\n",
      "SqFtFinBasement                7.0611      4.627      1.526      0.127      -2.009      16.131\n",
      "YrBuilt                    -3574.2210     77.228    -46.282      0.000   -3725.593   -3422.849\n",
      "YrRenovated                   -2.5311      3.924     -0.645      0.519     -10.222       5.160\n",
      "NewConstruction            -2489.1122   5936.692     -0.419      0.675   -1.41e+04    9147.211\n",
      "PropertyType_Single Family  2.997e+04   2.61e+04      1.149      0.251   -2.12e+04    8.11e+04\n",
      "PropertyType_Townhouse      9.286e+04    2.7e+04      3.438      0.001    3.99e+04    1.46e+05\n",
      "const                       6.182e+06   1.55e+05     39.902      0.000    5.88e+06    6.49e+06\n",
      "==============================================================================\n",
      "Omnibus:                    31006.128   Durbin-Watson:                   1.393\n",
      "Prob(Omnibus):                  0.000   Jarque-Bera (JB):         26251977.078\n",
      "Skew:                           7.427   Prob(JB):                         0.00\n",
      "Kurtosis:                     168.984   Cond. No.                     2.98e+06\n",
      "==============================================================================\n",
      "\n",
      "Notes:\n",
      "[1] Standard Errors assume that the covariance matrix of the errors is correctly specified.\n",
      "[2] The condition number is large, 2.98e+06. This might indicate that there are\n",
      "strong multicollinearity or other numerical problems.\n"
     ]
    }
   ],
   "source": [
    "house_full = sm.OLS(house[outcome], X.assign(const=1))\n",
    "results = house_full.fit()\n",
    "print(results.summary())"
   ]
  },
  {
   "cell_type": "markdown",
   "id": "08ca51b8",
   "metadata": {},
   "source": [
    "# Factor variables in regression\n",
    "## Dummy Variables Representation"
   ]
  },
  {
   "cell_type": "code",
   "execution_count": 15,
   "id": "fef23841",
   "metadata": {
    "execution": {
     "iopub.execute_input": "2021-02-23T15:56:26.603077Z",
     "iopub.status.busy": "2021-02-23T15:56:26.602141Z",
     "iopub.status.idle": "2021-02-23T15:56:26.608258Z",
     "shell.execute_reply": "2021-02-23T15:56:26.607393Z"
    }
   },
   "outputs": [
    {
     "name": "stdout",
     "output_type": "stream",
     "text": [
      "1        Multiplex\n",
      "2    Single Family\n",
      "3    Single Family\n",
      "4    Single Family\n",
      "5    Single Family\n",
      "Name: PropertyType, dtype: object\n"
     ]
    }
   ],
   "source": [
    "print(house.PropertyType.head())"
   ]
  },
  {
   "cell_type": "code",
   "execution_count": 16,
   "id": "ba908ca1",
   "metadata": {
    "execution": {
     "iopub.execute_input": "2021-02-23T15:56:26.612364Z",
     "iopub.status.busy": "2021-02-23T15:56:26.611753Z",
     "iopub.status.idle": "2021-02-23T15:56:26.618950Z",
     "shell.execute_reply": "2021-02-23T15:56:26.619653Z"
    }
   },
   "outputs": [
    {
     "name": "stdout",
     "output_type": "stream",
     "text": [
      "   Multiplex  Single Family  Townhouse\n",
      "1          1              0          0\n",
      "2          0              1          0\n",
      "3          0              1          0\n",
      "4          0              1          0\n",
      "5          0              1          0\n",
      "6          0              0          1\n"
     ]
    }
   ],
   "source": [
    "print(pd.get_dummies(house['PropertyType']).head(6))"
   ]
  },
  {
   "cell_type": "code",
   "execution_count": 17,
   "id": "2defb3c5",
   "metadata": {
    "execution": {
     "iopub.execute_input": "2021-02-23T15:56:26.625204Z",
     "iopub.status.busy": "2021-02-23T15:56:26.623540Z",
     "iopub.status.idle": "2021-02-23T15:56:26.631121Z",
     "shell.execute_reply": "2021-02-23T15:56:26.631780Z"
    }
   },
   "outputs": [
    {
     "name": "stdout",
     "output_type": "stream",
     "text": [
      "   Single Family  Townhouse\n",
      "1              0          0\n",
      "2              1          0\n",
      "3              1          0\n",
      "4              1          0\n",
      "5              1          0\n",
      "6              0          1\n"
     ]
    }
   ],
   "source": [
    "print(pd.get_dummies(house['PropertyType'], drop_first=True).head(6))"
   ]
  },
  {
   "cell_type": "code",
   "execution_count": 18,
   "id": "ddf298c3",
   "metadata": {
    "execution": {
     "iopub.execute_input": "2021-02-23T15:56:26.634305Z",
     "iopub.status.busy": "2021-02-23T15:56:26.633709Z",
     "iopub.status.idle": "2021-02-23T15:56:26.649822Z",
     "shell.execute_reply": "2021-02-23T15:56:26.650376Z"
    }
   },
   "outputs": [
    {
     "name": "stdout",
     "output_type": "stream",
     "text": [
      "Intercept: -446841.366\n",
      "Coefficients:\n",
      " SqFtTotLiving: 223.37362892503796\n",
      " SqFtLot: -0.07036798136810414\n",
      " Bathrooms: -15979.013473415209\n",
      " Bedrooms: -50889.73218483027\n",
      " BldgGrade: 109416.30516146186\n",
      " PropertyType_Single Family: -84678.21629549262\n",
      " PropertyType_Townhouse: -115121.97921609182\n"
     ]
    }
   ],
   "source": [
    "predictors = ['SqFtTotLiving', 'SqFtLot', 'Bathrooms', 'Bedrooms',\n",
    "              'BldgGrade', 'PropertyType']\n",
    "\n",
    "X = pd.get_dummies(house[predictors], drop_first=True)\n",
    "\n",
    "house_lm_factor = LinearRegression()\n",
    "house_lm_factor.fit(X, house[outcome])\n",
    "\n",
    "print(f'Intercept: {house_lm_factor.intercept_:.3f}')\n",
    "print('Coefficients:')\n",
    "for name, coef in zip(X.columns, house_lm_factor.coef_):\n",
    "    print(f' {name}: {coef}')"
   ]
  },
  {
   "cell_type": "markdown",
   "id": "08c1430c",
   "metadata": {},
   "source": [
    "## stepwise selection"
   ]
  },
  {
   "cell_type": "code",
   "execution_count": 19,
   "id": "dea5d1ea",
   "metadata": {},
   "outputs": [
    {
     "name": "stdout",
     "output_type": "stream",
     "text": [
      "Variables: SqFtTotLiving, SqFtLot, Bathrooms, Bedrooms, BldgGrade, NbrLivingUnits, SqFtFinBasement, YrBuilt, YrRenovated, NewConstruction, PropertyType_Single Family, PropertyType_Townhouse\n",
      "Start: score=647988.32, constant\n",
      "Step: score=633013.35, add SqFtTotLiving\n",
      "Step: score=630793.74, add BldgGrade\n",
      "Step: score=628230.29, add YrBuilt\n",
      "Step: score=627784.16, add Bedrooms\n",
      "Step: score=627602.21, add Bathrooms\n",
      "Step: score=627525.65, add PropertyType_Townhouse\n",
      "Step: score=627525.08, add SqFtFinBasement\n",
      "Step: score=627524.98, add PropertyType_Single Family\n",
      "Step: score=627524.98, unchanged None\n",
      "\n",
      "Intercept: 6178645.017\n",
      "Coefficients:\n",
      " SqFtTotLiving: 199.27755304201537\n",
      " BldgGrade: 137159.5602261976\n",
      " YrBuilt: -3565.424939249466\n",
      " Bedrooms: -51947.38367361333\n",
      " Bathrooms: 42396.16452772081\n",
      " PropertyType_Townhouse: 84479.16203300115\n",
      " SqFtFinBasement: 7.04697496757412\n",
      " PropertyType_Single Family: 22912.055187017766\n"
     ]
    }
   ],
   "source": [
    "predictors = ['SqFtTotLiving', 'SqFtLot', 'Bathrooms', 'Bedrooms',\n",
    "              'BldgGrade', 'PropertyType', 'NbrLivingUnits',\n",
    "              'SqFtFinBasement', 'YrBuilt', 'YrRenovated', \n",
    "              'NewConstruction']\n",
    "\n",
    "X = pd.get_dummies(house[predictors], drop_first=True)\n",
    "X['NewConstruction'] = [1 if nc else 0 for nc in X['NewConstruction']]\n",
    "\n",
    "\n",
    "y = house[outcome]\n",
    "\n",
    "def train_model(variables):\n",
    "    if len(variables) == 0:\n",
    "        return None\n",
    "    model = LinearRegression()\n",
    "    model.fit(X[variables], y)\n",
    "    return model\n",
    "\n",
    "def score_model(model, variables):\n",
    "    if len(variables) == 0:\n",
    "        return AIC_score(y, [y.mean()] * len(y), model, df=1)\n",
    "    return AIC_score(y, model.predict(X[variables]), model)\n",
    "\n",
    "best_model, best_variables = stepwise_selection(X.columns, train_model, score_model, \n",
    "                                                verbose=True)\n",
    "\n",
    "print()\n",
    "print(f'Intercept: {best_model.intercept_:.3f}')\n",
    "print('Coefficients:')\n",
    "for name, coef in zip(best_variables, best_model.coef_):\n",
    "    print(f' {name}: {coef}')"
   ]
  },
  {
   "cell_type": "markdown",
   "id": "dfb4dfaa",
   "metadata": {},
   "source": [
    "# Interpreting the Regression Equation\n",
    "\n",
    "## Correlated variables \n",
    "\n",
    "- including different variables that have a similar predictive relationship"
   ]
  },
  {
   "cell_type": "markdown",
   "id": "362d0cc0",
   "metadata": {},
   "source": [
    "아래 두 셀에서 'Bedrooms' 변수에 대한 계수값이 서로 달라졌음에 주목합니다."
   ]
  },
  {
   "cell_type": "code",
   "execution_count": 20,
   "id": "4bdb7a32",
   "metadata": {
    "execution": {
     "iopub.execute_input": "2021-02-23T15:56:26.791082Z",
     "iopub.status.busy": "2021-02-23T15:56:26.790442Z",
     "iopub.status.idle": "2021-02-23T15:56:26.795839Z",
     "shell.execute_reply": "2021-02-23T15:56:26.796362Z"
    },
    "scrolled": true
   },
   "outputs": [
    {
     "name": "stdout",
     "output_type": "stream",
     "text": [
      "Intercept: 6178645.017\n",
      "Coefficients:\n",
      " SqFtTotLiving: 199.27755304201537\n",
      " BldgGrade: 137159.5602261976\n",
      " YrBuilt: -3565.424939249466\n",
      " Bedrooms: -51947.38367361333\n",
      " Bathrooms: 42396.16452772081\n",
      " PropertyType_Townhouse: 84479.16203300115\n",
      " SqFtFinBasement: 7.04697496757412\n",
      " PropertyType_Single Family: 22912.055187017766\n"
     ]
    }
   ],
   "source": [
    "# stepwise selection으로 구한 best_model\n",
    "\n",
    "print(f'Intercept: {best_model.intercept_:.3f}')\n",
    "print('Coefficients:')\n",
    "for name, coef in zip(best_variables, best_model.coef_):\n",
    "    print(f' {name}: {coef}')"
   ]
  },
  {
   "cell_type": "markdown",
   "id": "90822531",
   "metadata": {},
   "source": [
    "빠진 변수 : SqFtTotLiving, Bathrooms, SqFtFinBasement"
   ]
  },
  {
   "cell_type": "code",
   "execution_count": 21,
   "id": "c6ae5184",
   "metadata": {
    "execution": {
     "iopub.execute_input": "2021-02-23T15:56:26.799128Z",
     "iopub.status.busy": "2021-02-23T15:56:26.798447Z",
     "iopub.status.idle": "2021-02-23T15:56:26.814157Z",
     "shell.execute_reply": "2021-02-23T15:56:26.814801Z"
    },
    "scrolled": true
   },
   "outputs": [
    {
     "name": "stdout",
     "output_type": "stream",
     "text": [
      "Intercept: 4913973.344\n",
      "Coefficients:\n",
      " Bedrooms: 27150.537230215163\n",
      " BldgGrade: 248997.79366213674\n",
      " YrBuilt: -3211.744862155056\n",
      " PropertyType_Single Family: -19898.49534050233\n",
      " PropertyType_Townhouse: -47355.43687334474\n"
     ]
    }
   ],
   "source": [
    "predictors = ['Bedrooms', 'BldgGrade', 'PropertyType', 'YrBuilt']\n",
    "outcome = 'AdjSalePrice'\n",
    "\n",
    "X = pd.get_dummies(house[predictors], drop_first=True)\n",
    "\n",
    "reduced_lm = LinearRegression()\n",
    "reduced_lm.fit(X, house[outcome])\n",
    "\n",
    "\n",
    "print(f'Intercept: {reduced_lm.intercept_:.3f}')\n",
    "print('Coefficients:')\n",
    "for name, coef in zip(X.columns, reduced_lm.coef_):\n",
    "    print(f' {name}: {coef}')"
   ]
  },
  {
   "cell_type": "markdown",
   "id": "4838a2e3",
   "metadata": {},
   "source": [
    "왜 이런 현상이 발생할까요? \n",
    "\n",
    "우선 기존 변수들간의 correlation을 heatmap으로 나타내보겠습니다"
   ]
  },
  {
   "cell_type": "code",
   "execution_count": 22,
   "id": "e9408d20",
   "metadata": {
    "scrolled": true
   },
   "outputs": [
    {
     "data": {
      "text/plain": [
       "<AxesSubplot:>"
      ]
     },
     "execution_count": 22,
     "metadata": {},
     "output_type": "execute_result"
    },
    {
     "data": {
      "image/png": "[encoded data removed]",
      "text/plain": [
       "<Figure size 432x288 with 2 Axes>"
      ]
     },
     "metadata": {
      "needs_background": "light"
     },
     "output_type": "display_data"
    }
   ],
   "source": [
    "predictors = ['SqFtTotLiving', 'SqFtLot', 'Bathrooms', 'Bedrooms',\n",
    "              'BldgGrade', 'PropertyType', 'NbrLivingUnits',\n",
    "              'SqFtFinBasement', 'YrBuilt', 'YrRenovated', \n",
    "              'NewConstruction']\n",
    "\n",
    "sns.heatmap(house[predictors].corr())"
   ]
  },
  {
   "cell_type": "markdown",
   "id": "262c9b5e",
   "metadata": {},
   "source": [
    "다중회귀에서 회귀계수 $\\beta_j$ 는 다른 모든 입력변수가 동일할 때 $x_j$가 한단위 증가할 때 Y가 증가하는 평균 양이다"
   ]
  },
  {
   "cell_type": "markdown",
   "id": "9cf43e8c",
   "metadata": {},
   "source": [
    "## Confounding variables\n",
    "\n",
    "- important variables that is not included in the regression equation"
   ]
  },
  {
   "cell_type": "markdown",
   "id": "63fdaaa4",
   "metadata": {},
   "source": [
    "**집값을 예측하는 데 중요한 변수는 집의 위치이므로 이를 고려한 회귀직선을 만들자**"
   ]
  },
  {
   "cell_type": "code",
   "execution_count": 23,
   "id": "133fa894",
   "metadata": {
    "scrolled": true
   },
   "outputs": [],
   "source": [
    "predictors = ['SqFtTotLiving', 'SqFtLot', 'Bathrooms', \n",
    "              'Bedrooms', 'BldgGrade']\n",
    "outcome = 'AdjSalePrice'\n",
    "\n",
    "house_lm = LinearRegression()\n",
    "house_lm.fit(house[predictors], house[outcome])\n",
    "\n",
    "zip_groups = pd.DataFrame([\n",
    "    *pd.DataFrame({\n",
    "        'ZipCode': house['ZipCode'],\n",
    "        'residual' : house[outcome] - house_lm.predict(house[predictors]),\n",
    "    })\n",
    "    .groupby(['ZipCode'])\n",
    "    .apply(lambda x: {\n",
    "        'ZipCode': x.iloc[0,0],\n",
    "        'count': len(x),\n",
    "        'median_residual': x.residual.median()\n",
    "    })\n",
    "]).sort_values('median_residual')\n"
   ]
  },
  {
   "cell_type": "code",
   "execution_count": 24,
   "id": "ab931816",
   "metadata": {
    "scrolled": true
   },
   "outputs": [
    {
     "name": "stdout",
     "output_type": "stream",
     "text": [
      "0    16\n",
      "1    16\n",
      "2    16\n",
      "3    16\n",
      "4    16\n",
      "Name: ZipGroup, dtype: int64\n"
     ]
    }
   ],
   "source": [
    "zip_groups['cum_count'] = np.cumsum(zip_groups['count'])\n",
    "zip_groups['ZipGroup'] = pd.qcut(zip_groups['cum_count'], 5, labels=False, retbins=False)\n",
    "zip_groups.head()\n",
    "print(zip_groups.ZipGroup.value_counts().sort_index())\n",
    "\n",
    "to_join = zip_groups[['ZipCode', 'ZipGroup']].set_index('ZipCode')\n",
    "house = house.join(to_join, on='ZipCode')\n",
    "house['ZipGroup'] = house['ZipGroup'].astype('category')"
   ]
  },
  {
   "cell_type": "code",
   "execution_count": 25,
   "id": "5fc3e478",
   "metadata": {},
   "outputs": [
    {
     "name": "stdout",
     "output_type": "stream",
     "text": [
      "Intercept: -446841.366\n",
      "Coefficients:\n",
      " SqFtTotLiving: 223.37362892503796\n",
      " SqFtLot: -0.07036798136810414\n",
      " Bathrooms: -15979.013473415209\n",
      " Bedrooms: -50889.73218483027\n",
      " BldgGrade: 109416.30516146186\n",
      " PropertyType_Single Family: -84678.21629549262\n",
      " PropertyType_Townhouse: -115121.97921609182\n"
     ]
    }
   ],
   "source": [
    "predictors = ['SqFtTotLiving', 'SqFtLot', 'Bathrooms', 'Bedrooms',\n",
    "              'BldgGrade', 'PropertyType']  # zipGroup 변수가 없을때는 Bedroom, Bathrooms, SqFtLot 변수가 negative => un-intuitive!\n",
    "outcome = 'AdjSalePrice'\n",
    "\n",
    "X = pd.get_dummies(house[predictors], drop_first=True)\n",
    "\n",
    "confounding_lm = LinearRegression()\n",
    "confounding_lm.fit(X, house[outcome])\n",
    "\n",
    "print(f'Intercept: {confounding_lm.intercept_:.3f}')\n",
    "print('Coefficients:')\n",
    "for name, coef in zip(X.columns, confounding_lm.coef_):\n",
    "    print(f' {name}: {coef}')"
   ]
  },
  {
   "cell_type": "code",
   "execution_count": 26,
   "id": "0312bf4a",
   "metadata": {
    "execution": {
     "iopub.execute_input": "2021-02-23T15:56:26.818014Z",
     "iopub.status.busy": "2021-02-23T15:56:26.817345Z",
     "iopub.status.idle": "2021-02-23T15:56:26.836376Z",
     "shell.execute_reply": "2021-02-23T15:56:26.837046Z"
    },
    "scrolled": true
   },
   "outputs": [
    {
     "name": "stdout",
     "output_type": "stream",
     "text": [
      "Intercept: -666637.469\n",
      "Coefficients:\n",
      " SqFtTotLiving: 210.61266005580126\n",
      " SqFtLot: 0.4549871385466056\n",
      " Bathrooms: 5928.425640001846\n",
      " Bedrooms: -41682.87184074475\n",
      " BldgGrade: 98541.18352725967\n",
      " PropertyType_Single Family: 19323.625287919363\n",
      " PropertyType_Townhouse: -78198.72092762393\n",
      " ZipGroup_1: 53317.1733065983\n",
      " ZipGroup_2: 116251.58883563569\n",
      " ZipGroup_3: 178360.53178793378\n",
      " ZipGroup_4: 338408.6018565204\n"
     ]
    }
   ],
   "source": [
    "predictors = ['SqFtTotLiving', 'SqFtLot', 'Bathrooms', 'Bedrooms',\n",
    "              'BldgGrade', 'PropertyType', 'ZipGroup'] # zipGroup 변수를 추가했더니 Bethroom, SqFtLot 변수가 negative => positive\n",
    "outcome = 'AdjSalePrice'\n",
    "\n",
    "X = pd.get_dummies(house[predictors], drop_first=True)\n",
    "\n",
    "confounding_lm = LinearRegression()\n",
    "confounding_lm.fit(X, house[outcome])\n",
    "\n",
    "print(f'Intercept: {confounding_lm.intercept_:.3f}')\n",
    "print('Coefficients:')\n",
    "for name, coef in zip(X.columns, confounding_lm.coef_):\n",
    "    print(f' {name}: {coef}')"
   ]
  },
  {
   "cell_type": "markdown",
   "id": "16aa5de3",
   "metadata": {},
   "source": [
    "# Testing the Assumptions: Regression Diagnostics\n",
    "## Outliers"
   ]
  },
  {
   "cell_type": "code",
   "execution_count": 27,
   "id": "535320a2",
   "metadata": {
    "execution": {
     "iopub.execute_input": "2021-02-23T15:56:26.949771Z",
     "iopub.status.busy": "2021-02-23T15:56:26.943922Z",
     "iopub.status.idle": "2021-02-23T15:56:26.952555Z",
     "shell.execute_reply": "2021-02-23T15:56:26.953176Z"
    }
   },
   "outputs": [
    {
     "name": "stdout",
     "output_type": "stream",
     "text": [
      "                            OLS Regression Results                            \n",
      "==============================================================================\n",
      "Dep. Variable:           AdjSalePrice   R-squared:                       0.795\n",
      "Model:                            OLS   Adj. R-squared:                  0.792\n",
      "Method:                 Least Squares   F-statistic:                     238.7\n",
      "Date:                Fri, 13 May 2022   Prob (F-statistic):          1.69e-103\n",
      "Time:                        16:17:42   Log-Likelihood:                -4226.0\n",
      "No. Observations:                 313   AIC:                             8464.\n",
      "Df Residuals:                     307   BIC:                             8486.\n",
      "Df Model:                           5                                         \n",
      "Covariance Type:            nonrobust                                         \n",
      "=================================================================================\n",
      "                    coef    std err          t      P>|t|      [0.025      0.975]\n",
      "---------------------------------------------------------------------------------\n",
      "SqFtTotLiving   209.6023     24.408      8.587      0.000     161.574     257.631\n",
      "SqFtLot          38.9333      5.330      7.305      0.000      28.445      49.421\n",
      "Bathrooms      2282.2641      2e+04      0.114      0.909    -3.7e+04    4.16e+04\n",
      "Bedrooms      -2.632e+04   1.29e+04     -2.043      0.042   -5.17e+04    -973.867\n",
      "BldgGrade        1.3e+05   1.52e+04      8.533      0.000       1e+05     1.6e+05\n",
      "const         -7.725e+05   9.83e+04     -7.861      0.000   -9.66e+05   -5.79e+05\n",
      "==============================================================================\n",
      "Omnibus:                       82.127   Durbin-Watson:                   1.508\n",
      "Prob(Omnibus):                  0.000   Jarque-Bera (JB):              586.561\n",
      "Skew:                           0.859   Prob(JB):                    4.26e-128\n",
      "Kurtosis:                       9.483   Cond. No.                     5.63e+04\n",
      "==============================================================================\n",
      "\n",
      "Notes:\n",
      "[1] Standard Errors assume that the covariance matrix of the errors is correctly specified.\n",
      "[2] The condition number is large, 5.63e+04. This might indicate that there are\n",
      "strong multicollinearity or other numerical problems.\n"
     ]
    }
   ],
   "source": [
    "house_98105 = house.loc[house['ZipCode'] == 98105, ]\n",
    "\n",
    "predictors = ['SqFtTotLiving', 'SqFtLot', 'Bathrooms', 'Bedrooms',\n",
    "              'BldgGrade']\n",
    "outcome = 'AdjSalePrice'\n",
    "\n",
    "house_outlier = sm.OLS(house_98105[outcome], house_98105[predictors].assign(const=1))\n",
    "result_98105 = house_outlier.fit()\n",
    "print(result_98105.summary())"
   ]
  },
  {
   "cell_type": "markdown",
   "id": "ff8fbef2",
   "metadata": {},
   "source": [
    "OLS regression 결과를 인자로 하는 `OLSInfluence` class를 통해 실행시켜 studentized residuals를 얻을 수 있습니다."
   ]
  },
  {
   "cell_type": "code",
   "execution_count": 28,
   "id": "bb55beed",
   "metadata": {
    "execution": {
     "iopub.execute_input": "2021-02-23T15:56:26.958979Z",
     "iopub.status.busy": "2021-02-23T15:56:26.958097Z",
     "iopub.status.idle": "2021-02-23T15:56:26.963288Z",
     "shell.execute_reply": "2021-02-23T15:56:26.963803Z"
    }
   },
   "outputs": [
    {
     "name": "stdout",
     "output_type": "stream",
     "text": [
      "24333 -4.3267318040785625\n"
     ]
    }
   ],
   "source": [
    "influence = OLSInfluence(result_98105)\n",
    "sresiduals = influence.resid_studentized_internal\n",
    "\n",
    "print(sresiduals.idxmin(), sresiduals.min()) # sresiduals의 minimum "
   ]
  },
  {
   "cell_type": "markdown",
   "id": "c2409ecf",
   "metadata": {},
   "source": [
    "outlier 에 해당하는 datapoint 값을 확인해봅니다."
   ]
  },
  {
   "cell_type": "code",
   "execution_count": 29,
   "id": "3c3e311b",
   "metadata": {
    "execution": {
     "iopub.execute_input": "2021-02-23T15:56:26.976449Z",
     "iopub.status.busy": "2021-02-23T15:56:26.975944Z",
     "iopub.status.idle": "2021-02-23T15:56:26.980813Z",
     "shell.execute_reply": "2021-02-23T15:56:26.981163Z"
    }
   },
   "outputs": [
    {
     "name": "stdout",
     "output_type": "stream",
     "text": [
      "AdjSalePrice 119748.0\n",
      "SqFtTotLiving    2900\n",
      "SqFtLot          7276\n",
      "Bathrooms         3.0\n",
      "Bedrooms            6\n",
      "BldgGrade           7\n",
      "Name: 24333, dtype: object\n"
     ]
    }
   ],
   "source": [
    "outlier = house_98105.loc[sresiduals.idxmin(), :]\n",
    "print('AdjSalePrice', outlier[outcome])\n",
    "print(outlier[predictors])"
   ]
  },
  {
   "cell_type": "markdown",
   "id": "439a29e0",
   "metadata": {},
   "source": [
    "## Influential values"
   ]
  },
  {
   "cell_type": "code",
   "execution_count": 30,
   "id": "dfd79ad4",
   "metadata": {
    "execution": {
     "iopub.execute_input": "2021-02-23T15:56:26.990236Z",
     "iopub.status.busy": "2021-02-23T15:56:26.989703Z",
     "iopub.status.idle": "2021-02-23T15:56:27.103197Z",
     "shell.execute_reply": "2021-02-23T15:56:27.102631Z"
    }
   },
   "outputs": [
    {
     "data": {
      "image/png": "[encoded data removed]",
      "text/plain": [
       "<Figure size 288x288 with 1 Axes>"
      ]
     },
     "metadata": {
      "needs_background": "light"
     },
     "output_type": "display_data"
    }
   ],
   "source": [
    "%matplotlib inline\n",
    "from scipy.stats import linregress\n",
    "\n",
    "np.random.seed(5)\n",
    "x = np.random.normal(size=25)\n",
    "y = -x / 5 + np.random.normal(size=25)\n",
    "x[0] = 8\n",
    "y[0] = 8\n",
    "\n",
    "def abline(slope, intercept, ax):\n",
    "    \"\"\"Calculate coordinates of a line based on slope and intercept\"\"\"\n",
    "    x_vals = np.array(ax.get_xlim())\n",
    "    return (x_vals, intercept + slope * x_vals)\n",
    "\n",
    "fig, ax = plt.subplots(figsize=(4, 4))\n",
    "ax.scatter(x, y)\n",
    "slope, intercept, _, _, _ = linregress(x, y)\n",
    "ax.plot(*abline(slope, intercept, ax))\n",
    "slope, intercept, _, _, _ = linregress(x[1:], y[1:])\n",
    "ax.plot(*abline(slope, intercept, ax), '--')\n",
    "ax.set_xlim(-2.5, 8.5)\n",
    "ax.set_ylim(-2.5, 8.5)\n",
    "\n",
    "plt.tight_layout()\n",
    "plt.show()"
   ]
  },
  {
   "cell_type": "code",
   "execution_count": 31,
   "id": "a7a399b6",
   "metadata": {
    "execution": {
     "iopub.execute_input": "2021-02-23T15:56:27.222952Z",
     "iopub.status.busy": "2021-02-23T15:56:27.222361Z",
     "iopub.status.idle": "2021-02-23T15:56:27.226467Z",
     "shell.execute_reply": "2021-02-23T15:56:27.226137Z"
    },
    "scrolled": false
   },
   "outputs": [
    {
     "data": {
      "text/html": [
       "<div>\n",
       "<style scoped>\n",
       "    .dataframe tbody tr th:only-of-type {\n",
       "        vertical-align: middle;\n",
       "    }\n",
       "\n",
       "    .dataframe tbody tr th {\n",
       "        vertical-align: top;\n",
       "    }\n",
       "\n",
       "    .dataframe thead th {\n",
       "        text-align: right;\n",
       "    }\n",
       "</style>\n",
       "<table border=\"1\" class=\"dataframe\">\n",
       "  <thead>\n",
       "    <tr style=\"text-align: right;\">\n",
       "      <th></th>\n",
       "      <th>Original</th>\n",
       "      <th>Influential removed</th>\n",
       "    </tr>\n",
       "  </thead>\n",
       "  <tbody>\n",
       "    <tr>\n",
       "      <th>SqFtTotLiving</th>\n",
       "      <td>209.602346</td>\n",
       "      <td>230.052569</td>\n",
       "    </tr>\n",
       "    <tr>\n",
       "      <th>SqFtLot</th>\n",
       "      <td>38.933315</td>\n",
       "      <td>33.141600</td>\n",
       "    </tr>\n",
       "    <tr>\n",
       "      <th>Bathrooms</th>\n",
       "      <td>2282.264145</td>\n",
       "      <td>-16131.879785</td>\n",
       "    </tr>\n",
       "    <tr>\n",
       "      <th>Bedrooms</th>\n",
       "      <td>-26320.268796</td>\n",
       "      <td>-22887.865318</td>\n",
       "    </tr>\n",
       "    <tr>\n",
       "      <th>BldgGrade</th>\n",
       "      <td>130000.099737</td>\n",
       "      <td>114870.559737</td>\n",
       "    </tr>\n",
       "    <tr>\n",
       "      <th>const</th>\n",
       "      <td>-772549.862447</td>\n",
       "      <td>-647137.096716</td>\n",
       "    </tr>\n",
       "  </tbody>\n",
       "</table>\n",
       "</div>"
      ],
      "text/plain": [
       "                    Original  Influential removed\n",
       "SqFtTotLiving     209.602346           230.052569\n",
       "SqFtLot            38.933315            33.141600\n",
       "Bathrooms        2282.264145        -16131.879785\n",
       "Bedrooms       -26320.268796        -22887.865318\n",
       "BldgGrade      130000.099737        114870.559737\n",
       "const         -772549.862447       -647137.096716"
      ]
     },
     "execution_count": 31,
     "metadata": {},
     "output_type": "execute_result"
    }
   ],
   "source": [
    "mask = [dist < .08 for dist in influence.cooks_distance[0]]\n",
    "house_infl = house_98105.loc[mask]\n",
    "\n",
    "ols_infl = sm.OLS(house_infl[outcome], house_infl[predictors].assign(const=1))\n",
    "result_infl = ols_infl.fit()\n",
    "\n",
    "pd.DataFrame({\n",
    "    'Original': result_98105.params,\n",
    "    'Influential removed': result_infl.params,\n",
    "})"
   ]
  },
  {
   "cell_type": "markdown",
   "id": "e42958a6",
   "metadata": {},
   "source": [
    "## Heteroskedasticity, Non-Normality"
   ]
  },
  {
   "cell_type": "markdown",
   "id": "496611db",
   "metadata": {},
   "source": [
    "`regplot`을 사용해서 residual plot을 쉽게 그릴 수 있습니다."
   ]
  },
  {
   "cell_type": "markdown",
   "id": "57048dce",
   "metadata": {},
   "source": [
    "< heteroskedasticity > - 이분산성"
   ]
  },
  {
   "cell_type": "code",
   "execution_count": 32,
   "id": "ebf49eaf",
   "metadata": {
    "execution": {
     "iopub.execute_input": "2021-02-23T15:56:27.245890Z",
     "iopub.status.busy": "2021-02-23T15:56:27.243835Z",
     "iopub.status.idle": "2021-02-23T15:56:27.404224Z",
     "shell.execute_reply": "2021-02-23T15:56:27.403713Z"
    },
    "scrolled": true
   },
   "outputs": [
    {
     "data": {
      "image/png": "[encoded data removed]",
      "text/plain": [
       "<Figure size 360x360 with 1 Axes>"
      ]
     },
     "metadata": {
      "needs_background": "light"
     },
     "output_type": "display_data"
    }
   ],
   "source": [
    "fig, ax = plt.subplots(figsize=(5, 5))\n",
    "sns.regplot(x=result_98105.fittedvalues, y=np.abs(result_98105.resid), \n",
    "            scatter_kws={'alpha': 0.25},\n",
    "            line_kws={'color': 'C1'},\n",
    "            lowess=True, ax=ax)\n",
    "ax.set_xlabel('predicted')\n",
    "ax.set_ylabel('abs(residual)')\n",
    "\n",
    "plt.tight_layout()\n",
    "plt.show()"
   ]
  },
  {
   "cell_type": "markdown",
   "id": "46bbeb2e",
   "metadata": {},
   "source": [
    "< non-normality >"
   ]
  },
  {
   "cell_type": "code",
   "execution_count": 33,
   "id": "e7626063",
   "metadata": {
    "execution": {
     "iopub.execute_input": "2021-02-23T15:56:27.408200Z",
     "iopub.status.busy": "2021-02-23T15:56:27.407745Z",
     "iopub.status.idle": "2021-02-23T15:56:27.527820Z",
     "shell.execute_reply": "2021-02-23T15:56:27.527050Z"
    },
    "scrolled": true
   },
   "outputs": [
    {
     "data": {
      "image/png": "[encoded data removed]",
      "text/plain": [
       "<Figure size 288x288 with 1 Axes>"
      ]
     },
     "metadata": {
      "needs_background": "light"
     },
     "output_type": "display_data"
    }
   ],
   "source": [
    "fig, ax = plt.subplots(figsize=(4, 4))\n",
    "pd.Series(influence.resid_studentized_internal).hist(ax=ax)\n",
    "ax.set_xlabel('std. residual')\n",
    "ax.set_ylabel('Frequency')\n",
    "\n",
    "\n",
    "plt.tight_layout()\n",
    "plt.show()"
   ]
  },
  {
   "cell_type": "markdown",
   "id": "53e99d4b",
   "metadata": {},
   "source": [
    "## <참고> Partial Residual Plots and Nonlinearity"
   ]
  },
  {
   "cell_type": "code",
   "execution_count": 34,
   "id": "4f205507",
   "metadata": {
    "execution": {
     "iopub.execute_input": "2021-02-23T15:56:27.590455Z",
     "iopub.status.busy": "2021-02-23T15:56:27.532234Z",
     "iopub.status.idle": "2021-02-23T15:56:27.690812Z",
     "shell.execute_reply": "2021-02-23T15:56:27.690361Z"
    }
   },
   "outputs": [
    {
     "data": {
      "image/png": "[encoded data removed]",
      "text/plain": [
       "<Figure size 360x360 with 1 Axes>"
      ]
     },
     "metadata": {
      "needs_background": "light"
     },
     "output_type": "display_data"
    }
   ],
   "source": [
    "fig, ax = plt.subplots(figsize=(5, 5))\n",
    "fig = sm.graphics.plot_ccpr(result_98105, 'SqFtTotLiving', ax=ax)\n",
    "\n",
    "plt.tight_layout()\n",
    "plt.show()"
   ]
  },
  {
   "cell_type": "code",
   "execution_count": 35,
   "id": "7374e0d3",
   "metadata": {
    "execution": {
     "iopub.execute_input": "2021-02-23T15:56:27.704919Z",
     "iopub.status.busy": "2021-02-23T15:56:27.704440Z",
     "iopub.status.idle": "2021-02-23T15:56:28.197463Z",
     "shell.execute_reply": "2021-02-23T15:56:28.196888Z"
    }
   },
   "outputs": [
    {
     "data": {
      "image/png": "[encoded data removed]",
      "text/plain": [
       "<Figure size 576x864 with 5 Axes>"
      ]
     },
     "metadata": {
      "needs_background": "light"
     },
     "output_type": "display_data"
    }
   ],
   "source": [
    "fig = plt.figure(figsize=(8, 12))\n",
    "fig = sm.graphics.plot_ccpr_grid(result_98105, fig=fig)"
   ]
  },
  {
   "cell_type": "markdown",
   "id": "848ffb6e",
   "metadata": {},
   "source": [
    "## <참고> Polynomial and Spline Regression"
   ]
  },
  {
   "cell_type": "code",
   "execution_count": 36,
   "id": "80a72fa6",
   "metadata": {
    "execution": {
     "iopub.execute_input": "2021-02-23T15:56:28.211182Z",
     "iopub.status.busy": "2021-02-23T15:56:28.210179Z",
     "iopub.status.idle": "2021-02-23T15:56:28.221277Z",
     "shell.execute_reply": "2021-02-23T15:56:28.220726Z"
    }
   },
   "outputs": [
    {
     "name": "stdout",
     "output_type": "stream",
     "text": [
      "                            OLS Regression Results                            \n",
      "==============================================================================\n",
      "Dep. Variable:           AdjSalePrice   R-squared:                       0.806\n",
      "Model:                            OLS   Adj. R-squared:                  0.802\n",
      "Method:                 Least Squares   F-statistic:                     211.6\n",
      "Date:                Fri, 13 May 2022   Prob (F-statistic):          9.95e-106\n",
      "Time:                        16:17:43   Log-Likelihood:                -4217.9\n",
      "No. Observations:                 313   AIC:                             8450.\n",
      "Df Residuals:                     306   BIC:                             8476.\n",
      "Df Model:                           6                                         \n",
      "Covariance Type:            nonrobust                                         \n",
      "==============================================================================================\n",
      "                                 coef    std err          t      P>|t|      [0.025      0.975]\n",
      "----------------------------------------------------------------------------------------------\n",
      "Intercept                  -6.159e+05   1.03e+05     -5.953      0.000   -8.19e+05   -4.12e+05\n",
      "SqFtTotLiving                  7.4521     55.418      0.134      0.893    -101.597     116.501\n",
      "np.power(SqFtTotLiving, 2)     0.0388      0.010      4.040      0.000       0.020       0.058\n",
      "SqFtLot                       32.5594      5.436      5.990      0.000      21.863      43.256\n",
      "Bathrooms                  -1435.1231   1.95e+04     -0.074      0.941   -3.99e+04     3.7e+04\n",
      "Bedrooms                   -9191.9441   1.33e+04     -0.693      0.489   -3.53e+04    1.69e+04\n",
      "BldgGrade                   1.357e+05   1.49e+04      9.087      0.000    1.06e+05    1.65e+05\n",
      "==============================================================================\n",
      "Omnibus:                       75.161   Durbin-Watson:                   1.625\n",
      "Prob(Omnibus):                  0.000   Jarque-Bera (JB):              637.978\n",
      "Skew:                           0.699   Prob(JB):                    2.92e-139\n",
      "Kurtosis:                       9.853   Cond. No.                     7.37e+07\n",
      "==============================================================================\n",
      "\n",
      "Notes:\n",
      "[1] Standard Errors assume that the covariance matrix of the errors is correctly specified.\n",
      "[2] The condition number is large, 7.37e+07. This might indicate that there are\n",
      "strong multicollinearity or other numerical problems.\n"
     ]
    }
   ],
   "source": [
    "model_poly = smf.ols(formula='AdjSalePrice ~  SqFtTotLiving + np.power(SqFtTotLiving, 2) + ' + \n",
    "                'SqFtLot + Bathrooms + Bedrooms + BldgGrade', data=house_98105)\n",
    "result_poly = model_poly.fit()\n",
    "print(result_poly.summary())"
   ]
  },
  {
   "cell_type": "markdown",
   "id": "8e698090",
   "metadata": {},
   "source": [
    "The statsmodels implementation of a partial residual plot works only for linear term. Here is an implementation of a partial residual plot that, while inefficient, works for the polynomial regression."
   ]
  },
  {
   "cell_type": "code",
   "execution_count": 37,
   "id": "a06f0e3c",
   "metadata": {
    "execution": {
     "iopub.execute_input": "2021-02-23T15:56:28.235963Z",
     "iopub.status.busy": "2021-02-23T15:56:28.235471Z",
     "iopub.status.idle": "2021-02-23T15:56:28.396107Z",
     "shell.execute_reply": "2021-02-23T15:56:28.396468Z"
    },
    "scrolled": false
   },
   "outputs": [
    {
     "data": {
      "image/png": "[encoded data removed]",
      "text/plain": [
       "<Figure size 360x360 with 1 Axes>"
      ]
     },
     "metadata": {
      "needs_background": "light"
     },
     "output_type": "display_data"
    },
    {
     "name": "stdout",
     "output_type": "stream",
     "text": [
      "0.03879128168234777\n"
     ]
    }
   ],
   "source": [
    "def partialResidualPlot(model, df, outcome, feature, ax):\n",
    "    y_pred = model.predict(df)\n",
    "    copy_df = df.copy()\n",
    "    for c in copy_df.columns:\n",
    "        if c == feature:\n",
    "            continue\n",
    "        copy_df[c] = 0.0\n",
    "    feature_prediction = model.predict(copy_df)\n",
    "    results = pd.DataFrame({\n",
    "        'feature': df[feature],\n",
    "        'residual': df[outcome] - y_pred,\n",
    "        'ypartial': feature_prediction - model.params[0],\n",
    "    })\n",
    "    results = results.sort_values(by=['feature'])\n",
    "    smoothed = sm.nonparametric.lowess(results.ypartial, results.feature, frac=1/3)\n",
    "    \n",
    "    ax.scatter(results.feature, results.ypartial + results.residual)\n",
    "    ax.plot(smoothed[:, 0], smoothed[:, 1], color='gray')\n",
    "    ax.plot(results.feature, results.ypartial, color='black')\n",
    "    ax.set_xlabel(feature)\n",
    "    ax.set_ylabel(f'Residual + {feature} contribution')\n",
    "    return ax\n",
    "\n",
    "fig, ax = plt.subplots(figsize=(5, 5))\n",
    "partialResidualPlot(result_poly, house_98105, 'AdjSalePrice', 'SqFtTotLiving', ax)\n",
    "\n",
    "plt.tight_layout()\n",
    "plt.show()\n",
    "print(result_poly.params[2])"
   ]
  },
  {
   "cell_type": "markdown",
   "id": "7de7732d",
   "metadata": {},
   "source": [
    "## Splines"
   ]
  },
  {
   "cell_type": "code",
   "execution_count": 38,
   "id": "19377d6c",
   "metadata": {
    "execution": {
     "iopub.execute_input": "2021-02-23T15:56:28.407649Z",
     "iopub.status.busy": "2021-02-23T15:56:28.406803Z",
     "iopub.status.idle": "2021-02-23T15:56:28.428989Z",
     "shell.execute_reply": "2021-02-23T15:56:28.429432Z"
    }
   },
   "outputs": [
    {
     "name": "stdout",
     "output_type": "stream",
     "text": [
      "                            OLS Regression Results                            \n",
      "==============================================================================\n",
      "Dep. Variable:           AdjSalePrice   R-squared:                       0.814\n",
      "Model:                            OLS   Adj. R-squared:                  0.807\n",
      "Method:                 Least Squares   F-statistic:                     131.8\n",
      "Date:                Fri, 13 May 2022   Prob (F-statistic):          7.10e-104\n",
      "Time:                        16:17:43   Log-Likelihood:                -4211.4\n",
      "No. Observations:                 313   AIC:                             8445.\n",
      "Df Residuals:                     302   BIC:                             8486.\n",
      "Df Model:                          10                                         \n",
      "Covariance Type:            nonrobust                                         \n",
      "========================================================================================================\n",
      "                                           coef    std err          t      P>|t|      [0.025      0.975]\n",
      "--------------------------------------------------------------------------------------------------------\n",
      "Intercept                            -4.142e+05   1.43e+05     -2.899      0.004   -6.95e+05   -1.33e+05\n",
      "bs(SqFtTotLiving, df=6, degree=3)[0] -1.995e+05   1.86e+05     -1.076      0.283   -5.65e+05    1.66e+05\n",
      "bs(SqFtTotLiving, df=6, degree=3)[1] -1.206e+05   1.23e+05     -0.983      0.326   -3.62e+05    1.21e+05\n",
      "bs(SqFtTotLiving, df=6, degree=3)[2] -7.164e+04   1.36e+05     -0.525      0.600    -3.4e+05    1.97e+05\n",
      "bs(SqFtTotLiving, df=6, degree=3)[3]  1.957e+05   1.62e+05      1.212      0.227   -1.22e+05    5.14e+05\n",
      "bs(SqFtTotLiving, df=6, degree=3)[4]  8.452e+05   2.18e+05      3.878      0.000    4.16e+05    1.27e+06\n",
      "bs(SqFtTotLiving, df=6, degree=3)[5]  6.955e+05   2.14e+05      3.255      0.001    2.75e+05    1.12e+06\n",
      "SqFtLot                                 33.3258      5.454      6.110      0.000      22.592      44.059\n",
      "Bathrooms                            -4778.2080   1.94e+04     -0.246      0.806    -4.3e+04    3.34e+04\n",
      "Bedrooms                             -5778.7045   1.32e+04     -0.437      0.663   -3.18e+04    2.03e+04\n",
      "BldgGrade                             1.345e+05   1.52e+04      8.842      0.000    1.05e+05    1.64e+05\n",
      "==============================================================================\n",
      "Omnibus:                       58.816   Durbin-Watson:                   1.633\n",
      "Prob(Omnibus):                  0.000   Jarque-Bera (JB):              622.021\n",
      "Skew:                           0.330   Prob(JB):                    8.51e-136\n",
      "Kurtosis:                       9.874   Cond. No.                     1.97e+05\n",
      "==============================================================================\n",
      "\n",
      "Notes:\n",
      "[1] Standard Errors assume that the covariance matrix of the errors is correctly specified.\n",
      "[2] The condition number is large, 1.97e+05. This might indicate that there are\n",
      "strong multicollinearity or other numerical problems.\n"
     ]
    }
   ],
   "source": [
    "formula = ('AdjSalePrice ~ bs(SqFtTotLiving, df=6, degree=3) + ' + \n",
    "           'SqFtLot + Bathrooms + Bedrooms + BldgGrade')\n",
    "model_spline = smf.ols(formula=formula, data=house_98105)\n",
    "result_spline = model_spline.fit()\n",
    "print(result_spline.summary())"
   ]
  },
  {
   "cell_type": "code",
   "execution_count": 39,
   "id": "7840efb8",
   "metadata": {
    "execution": {
     "iopub.execute_input": "2021-02-23T15:56:28.445814Z",
     "iopub.status.busy": "2021-02-23T15:56:28.445227Z",
     "iopub.status.idle": "2021-02-23T15:56:28.611508Z",
     "shell.execute_reply": "2021-02-23T15:56:28.610935Z"
    }
   },
   "outputs": [
    {
     "data": {
      "image/png": "[encoded data removed]",
      "text/plain": [
       "<Figure size 360x360 with 1 Axes>"
      ]
     },
     "metadata": {
      "needs_background": "light"
     },
     "output_type": "display_data"
    }
   ],
   "source": [
    "fig, ax = plt.subplots(figsize=(5, 5))\n",
    "partialResidualPlot(result_spline, house_98105, 'AdjSalePrice', 'SqFtTotLiving', ax)\n",
    "\n",
    "plt.tight_layout()\n",
    "plt.show()"
   ]
  }
 ],
 "metadata": {
  "kernelspec": {
   "display_name": "hwankam",
   "language": "python",
   "name": "kkk"
  },
  "language_info": {
   "codemirror_mode": {
    "name": "ipython",
    "version": 3
   },
   "file_extension": ".py",
   "mimetype": "text/x-python",
   "name": "python",
   "nbconvert_exporter": "python",
   "pygments_lexer": "ipython3",
   "version": "3.7.10"
  }
 },
 "nbformat": 4,
 "nbformat_minor": 5
}
